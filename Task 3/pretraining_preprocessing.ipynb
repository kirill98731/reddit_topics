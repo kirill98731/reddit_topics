{
 "cells": [
  {
   "cell_type": "markdown",
   "metadata": {},
   "source": [
    "# Импорт необходимых библиотек"
   ]
  },
  {
   "cell_type": "code",
   "execution_count": 1,
   "metadata": {},
   "outputs": [],
   "source": [
    "import pandas as pd\n",
    "import numpy as np\n",
    "import json\n",
    "\n",
    "from compress_fasttext.models import CompressedFastTextKeyedVectors"
   ]
  },
  {
   "cell_type": "markdown",
   "metadata": {},
   "source": [
    "# Импорт данных"
   ]
  },
  {
   "cell_type": "code",
   "execution_count": 2,
   "metadata": {},
   "outputs": [],
   "source": [
    "df = pd.read_csv(\"../Task 2/train.csv\", index_col=0)\n",
    "df['title_cleared'] = df['title_cleared'].astype(str)"
   ]
  },
  {
   "cell_type": "code",
   "execution_count": 3,
   "metadata": {},
   "outputs": [
    {
     "data": {
      "text/html": [
       "<div>\n",
       "<style scoped>\n",
       "    .dataframe tbody tr th:only-of-type {\n",
       "        vertical-align: middle;\n",
       "    }\n",
       "\n",
       "    .dataframe tbody tr th {\n",
       "        vertical-align: top;\n",
       "    }\n",
       "\n",
       "    .dataframe thead th {\n",
       "        text-align: right;\n",
       "    }\n",
       "</style>\n",
       "<table border=\"1\" class=\"dataframe\">\n",
       "  <thead>\n",
       "    <tr style=\"text-align: right;\">\n",
       "      <th></th>\n",
       "      <th>title</th>\n",
       "      <th>score_pushshift</th>\n",
       "      <th>id</th>\n",
       "      <th>url</th>\n",
       "      <th>num_comments</th>\n",
       "      <th>created_utc</th>\n",
       "      <th>selftext</th>\n",
       "      <th>author</th>\n",
       "      <th>is_self</th>\n",
       "      <th>subreddit</th>\n",
       "      <th>cleared_text</th>\n",
       "      <th>link_flair_text</th>\n",
       "      <th>num_crossposts</th>\n",
       "      <th>title_cleared</th>\n",
       "      <th>score</th>\n",
       "      <th>target</th>\n",
       "      <th>date</th>\n",
       "      <th>text_len</th>\n",
       "      <th>title_len</th>\n",
       "    </tr>\n",
       "  </thead>\n",
       "  <tbody>\n",
       "    <tr>\n",
       "      <th>0</th>\n",
       "      <td>What do you Think?</td>\n",
       "      <td>1</td>\n",
       "      <td>bm70s3</td>\n",
       "      <td>https://www.reddit.com/r/relationships/comment...</td>\n",
       "      <td>12</td>\n",
       "      <td>1557331262</td>\n",
       "      <td>&amp;amp;#x200B;\\n\\n&amp;amp;#x200B;\\n\\n \\n\\n    **TL;...</td>\n",
       "      <td>Dongustas</td>\n",
       "      <td>True</td>\n",
       "      <td>relationships</td>\n",
       "      <td>amp amp tl dr friends conversation relationshi...</td>\n",
       "      <td>[new]</td>\n",
       "      <td>0</td>\n",
       "      <td>think</td>\n",
       "      <td>1</td>\n",
       "      <td>8</td>\n",
       "      <td>2019-05-08 19:01:02</td>\n",
       "      <td>328</td>\n",
       "      <td>1</td>\n",
       "    </tr>\n",
       "    <tr>\n",
       "      <th>1</th>\n",
       "      <td>Me [26 M] with my fiancee [22 F], been togethe...</td>\n",
       "      <td>2</td>\n",
       "      <td>bm748u</td>\n",
       "      <td>https://www.reddit.com/r/relationships/comment...</td>\n",
       "      <td>5</td>\n",
       "      <td>1557331718</td>\n",
       "      <td>My fiancee and I have been together for almost...</td>\n",
       "      <td>orangeplum</td>\n",
       "      <td>True</td>\n",
       "      <td>relationships</td>\n",
       "      <td>fiancee together almost years wedding schedule...</td>\n",
       "      <td>[new]</td>\n",
       "      <td>0</td>\n",
       "      <td>m fiancee f together years engaged sure want c...</td>\n",
       "      <td>2</td>\n",
       "      <td>8</td>\n",
       "      <td>2019-05-08 19:08:38</td>\n",
       "      <td>454</td>\n",
       "      <td>10</td>\n",
       "    </tr>\n",
       "    <tr>\n",
       "      <th>2</th>\n",
       "      <td>I [F25] am at my wits end with a good friend o...</td>\n",
       "      <td>1</td>\n",
       "      <td>bm74mc</td>\n",
       "      <td>https://www.reddit.com/r/relationships/comment...</td>\n",
       "      <td>1</td>\n",
       "      <td>1557331771</td>\n",
       "      <td>Ok so for some background, my friend is an att...</td>\n",
       "      <td>saidhasdhxD</td>\n",
       "      <td>True</td>\n",
       "      <td>relationships</td>\n",
       "      <td>ok background friend attractive well educated ...</td>\n",
       "      <td>Non-Romantic</td>\n",
       "      <td>0</td>\n",
       "      <td>wits end good friend mine unrelentingly negati...</td>\n",
       "      <td>1</td>\n",
       "      <td>8</td>\n",
       "      <td>2019-05-08 19:09:31</td>\n",
       "      <td>315</td>\n",
       "      <td>12</td>\n",
       "    </tr>\n",
       "    <tr>\n",
       "      <th>3</th>\n",
       "      <td>I (26F) want to confess to him (28M) even thou...</td>\n",
       "      <td>3</td>\n",
       "      <td>bm75mj</td>\n",
       "      <td>https://www.reddit.com/r/relationships/comment...</td>\n",
       "      <td>8</td>\n",
       "      <td>1557331911</td>\n",
       "      <td>Ok, not something new, but i'm a bit lost here...</td>\n",
       "      <td>kokoko38</td>\n",
       "      <td>True</td>\n",
       "      <td>relationships</td>\n",
       "      <td>ok something new i bit lost here so know guy l...</td>\n",
       "      <td>[new]</td>\n",
       "      <td>0</td>\n",
       "      <td>want confess even though know feelings someone...</td>\n",
       "      <td>4</td>\n",
       "      <td>8</td>\n",
       "      <td>2019-05-08 19:11:51</td>\n",
       "      <td>94</td>\n",
       "      <td>8</td>\n",
       "    </tr>\n",
       "    <tr>\n",
       "      <th>4</th>\n",
       "      <td>I made a mistake and now Im losing my best fri...</td>\n",
       "      <td>0</td>\n",
       "      <td>bm78pe</td>\n",
       "      <td>https://www.reddit.com/r/relationships/comment...</td>\n",
       "      <td>9</td>\n",
       "      <td>1557332337</td>\n",
       "      <td>I always try to do the right thing, but I don'...</td>\n",
       "      <td>Assistant_tothe</td>\n",
       "      <td>True</td>\n",
       "      <td>relationships</td>\n",
       "      <td>always try right thing know deal mistake i dat...</td>\n",
       "      <td>[new]</td>\n",
       "      <td>0</td>\n",
       "      <td>made mistake im losing best friend</td>\n",
       "      <td>0</td>\n",
       "      <td>8</td>\n",
       "      <td>2019-05-08 19:18:57</td>\n",
       "      <td>136</td>\n",
       "      <td>6</td>\n",
       "    </tr>\n",
       "  </tbody>\n",
       "</table>\n",
       "</div>"
      ],
      "text/plain": [
       "                                               title  score_pushshift      id  \\\n",
       "0                                 What do you Think?                1  bm70s3   \n",
       "1  Me [26 M] with my fiancee [22 F], been togethe...                2  bm748u   \n",
       "2  I [F25] am at my wits end with a good friend o...                1  bm74mc   \n",
       "3  I (26F) want to confess to him (28M) even thou...                3  bm75mj   \n",
       "4  I made a mistake and now Im losing my best fri...                0  bm78pe   \n",
       "\n",
       "                                                 url  num_comments  \\\n",
       "0  https://www.reddit.com/r/relationships/comment...            12   \n",
       "1  https://www.reddit.com/r/relationships/comment...             5   \n",
       "2  https://www.reddit.com/r/relationships/comment...             1   \n",
       "3  https://www.reddit.com/r/relationships/comment...             8   \n",
       "4  https://www.reddit.com/r/relationships/comment...             9   \n",
       "\n",
       "   created_utc                                           selftext  \\\n",
       "0   1557331262  &amp;#x200B;\\n\\n&amp;#x200B;\\n\\n \\n\\n    **TL;...   \n",
       "1   1557331718  My fiancee and I have been together for almost...   \n",
       "2   1557331771  Ok so for some background, my friend is an att...   \n",
       "3   1557331911  Ok, not something new, but i'm a bit lost here...   \n",
       "4   1557332337  I always try to do the right thing, but I don'...   \n",
       "\n",
       "            author  is_self      subreddit  \\\n",
       "0        Dongustas     True  relationships   \n",
       "1       orangeplum     True  relationships   \n",
       "2      saidhasdhxD     True  relationships   \n",
       "3         kokoko38     True  relationships   \n",
       "4  Assistant_tothe     True  relationships   \n",
       "\n",
       "                                        cleared_text link_flair_text  \\\n",
       "0  amp amp tl dr friends conversation relationshi...           [new]   \n",
       "1  fiancee together almost years wedding schedule...           [new]   \n",
       "2  ok background friend attractive well educated ...    Non-Romantic   \n",
       "3  ok something new i bit lost here so know guy l...           [new]   \n",
       "4  always try right thing know deal mistake i dat...           [new]   \n",
       "\n",
       "   num_crossposts                                      title_cleared  score  \\\n",
       "0               0                                              think      1   \n",
       "1               0  m fiancee f together years engaged sure want c...      2   \n",
       "2               0  wits end good friend mine unrelentingly negati...      1   \n",
       "3               0  want confess even though know feelings someone...      4   \n",
       "4               0                 made mistake im losing best friend      0   \n",
       "\n",
       "   target                 date  text_len  title_len  \n",
       "0       8  2019-05-08 19:01:02       328          1  \n",
       "1       8  2019-05-08 19:08:38       454         10  \n",
       "2       8  2019-05-08 19:09:31       315         12  \n",
       "3       8  2019-05-08 19:11:51        94          8  \n",
       "4       8  2019-05-08 19:18:57       136          6  "
      ]
     },
     "execution_count": 3,
     "metadata": {},
     "output_type": "execute_result"
    }
   ],
   "source": [
    "df.head()"
   ]
  },
  {
   "cell_type": "markdown",
   "metadata": {},
   "source": [
    "Преоразование даты"
   ]
  },
  {
   "cell_type": "code",
   "execution_count": 4,
   "metadata": {
    "ExecuteTime": {
     "end_time": "2021-01-13T00:27:29.495980Z",
     "start_time": "2021-01-13T00:27:28.239343Z"
    }
   },
   "outputs": [],
   "source": [
    "df[\"date\"] = pd.to_datetime(df['date'])\n",
    "df[\"HOUR\"] = df[\"date\"].map(lambda x: x.hour)\n",
    "df[\"MONTH\"] = df[\"date\"].map(lambda x: x.month)\n",
    "df[\"WEEKDAY\"] = df[\"date\"].map(lambda x: x.weekday())"
   ]
  },
  {
   "cell_type": "code",
   "execution_count": 5,
   "metadata": {},
   "outputs": [],
   "source": [
    "df = df[['title_cleared', 'score', 'cleared_text', 'num_comments', 'target', 'HOUR', 'MONTH', 'WEEKDAY']]"
   ]
  },
  {
   "cell_type": "code",
   "execution_count": 6,
   "metadata": {
    "ExecuteTime": {
     "end_time": "2021-01-13T00:27:29.564540Z",
     "start_time": "2021-01-13T00:27:29.546868Z"
    }
   },
   "outputs": [
    {
     "data": {
      "text/html": [
       "<div>\n",
       "<style scoped>\n",
       "    .dataframe tbody tr th:only-of-type {\n",
       "        vertical-align: middle;\n",
       "    }\n",
       "\n",
       "    .dataframe tbody tr th {\n",
       "        vertical-align: top;\n",
       "    }\n",
       "\n",
       "    .dataframe thead th {\n",
       "        text-align: right;\n",
       "    }\n",
       "</style>\n",
       "<table border=\"1\" class=\"dataframe\">\n",
       "  <thead>\n",
       "    <tr style=\"text-align: right;\">\n",
       "      <th></th>\n",
       "      <th>title_cleared</th>\n",
       "      <th>score</th>\n",
       "      <th>cleared_text</th>\n",
       "      <th>num_comments</th>\n",
       "      <th>target</th>\n",
       "      <th>HOUR</th>\n",
       "      <th>MONTH</th>\n",
       "      <th>WEEKDAY</th>\n",
       "    </tr>\n",
       "  </thead>\n",
       "  <tbody>\n",
       "    <tr>\n",
       "      <th>0</th>\n",
       "      <td>think</td>\n",
       "      <td>1</td>\n",
       "      <td>amp amp tl dr friends conversation relationshi...</td>\n",
       "      <td>12</td>\n",
       "      <td>8</td>\n",
       "      <td>19</td>\n",
       "      <td>5</td>\n",
       "      <td>2</td>\n",
       "    </tr>\n",
       "    <tr>\n",
       "      <th>1</th>\n",
       "      <td>m fiancee f together years engaged sure want c...</td>\n",
       "      <td>2</td>\n",
       "      <td>fiancee together almost years wedding schedule...</td>\n",
       "      <td>5</td>\n",
       "      <td>8</td>\n",
       "      <td>19</td>\n",
       "      <td>5</td>\n",
       "      <td>2</td>\n",
       "    </tr>\n",
       "    <tr>\n",
       "      <th>2</th>\n",
       "      <td>wits end good friend mine unrelentingly negati...</td>\n",
       "      <td>1</td>\n",
       "      <td>ok background friend attractive well educated ...</td>\n",
       "      <td>1</td>\n",
       "      <td>8</td>\n",
       "      <td>19</td>\n",
       "      <td>5</td>\n",
       "      <td>2</td>\n",
       "    </tr>\n",
       "    <tr>\n",
       "      <th>3</th>\n",
       "      <td>want confess even though know feelings someone...</td>\n",
       "      <td>4</td>\n",
       "      <td>ok something new i bit lost here so know guy l...</td>\n",
       "      <td>8</td>\n",
       "      <td>8</td>\n",
       "      <td>19</td>\n",
       "      <td>5</td>\n",
       "      <td>2</td>\n",
       "    </tr>\n",
       "    <tr>\n",
       "      <th>4</th>\n",
       "      <td>made mistake im losing best friend</td>\n",
       "      <td>0</td>\n",
       "      <td>always try right thing know deal mistake i dat...</td>\n",
       "      <td>9</td>\n",
       "      <td>8</td>\n",
       "      <td>19</td>\n",
       "      <td>5</td>\n",
       "      <td>2</td>\n",
       "    </tr>\n",
       "  </tbody>\n",
       "</table>\n",
       "</div>"
      ],
      "text/plain": [
       "                                       title_cleared  score  \\\n",
       "0                                              think      1   \n",
       "1  m fiancee f together years engaged sure want c...      2   \n",
       "2  wits end good friend mine unrelentingly negati...      1   \n",
       "3  want confess even though know feelings someone...      4   \n",
       "4                 made mistake im losing best friend      0   \n",
       "\n",
       "                                        cleared_text  num_comments  target  \\\n",
       "0  amp amp tl dr friends conversation relationshi...            12       8   \n",
       "1  fiancee together almost years wedding schedule...             5       8   \n",
       "2  ok background friend attractive well educated ...             1       8   \n",
       "3  ok something new i bit lost here so know guy l...             8       8   \n",
       "4  always try right thing know deal mistake i dat...             9       8   \n",
       "\n",
       "   HOUR  MONTH  WEEKDAY  \n",
       "0    19      5        2  \n",
       "1    19      5        2  \n",
       "2    19      5        2  \n",
       "3    19      5        2  \n",
       "4    19      5        2  "
      ]
     },
     "execution_count": 6,
     "metadata": {},
     "output_type": "execute_result"
    }
   ],
   "source": [
    "df.head()"
   ]
  },
  {
   "cell_type": "markdown",
   "metadata": {},
   "source": [
    "Кодирование временной характеристики как непрерывная переменная"
   ]
  },
  {
   "cell_type": "code",
   "execution_count": 7,
   "metadata": {
    "ExecuteTime": {
     "end_time": "2021-01-13T00:27:29.590445Z",
     "start_time": "2021-01-13T00:27:29.583441Z"
    }
   },
   "outputs": [],
   "source": [
    "def make_cos_list(list_, period=24):\n",
    "    def make_cos(value, period=period):\n",
    "        return np.cos(value*2*np.pi/period)\n",
    "    return [make_cos(x) for x in list_]"
   ]
  },
  {
   "cell_type": "code",
   "execution_count": 8,
   "metadata": {
    "ExecuteTime": {
     "end_time": "2021-01-13T00:27:29.601435Z",
     "start_time": "2021-01-13T00:27:29.595285Z"
    }
   },
   "outputs": [],
   "source": [
    "def make_sin_list(list_, period=24):\n",
    "    def make_sin(value, period=period):\n",
    "        return np.sin(value*2*np.pi/period)\n",
    "    return [make_sin(x) for x in list_]"
   ]
  },
  {
   "cell_type": "code",
   "execution_count": 9,
   "metadata": {
    "ExecuteTime": {
     "end_time": "2021-01-13T00:27:30.328388Z",
     "start_time": "2021-01-13T00:27:29.618982Z"
    }
   },
   "outputs": [],
   "source": [
    "df['sin_hour'] = make_sin_list(df['HOUR'])\n",
    "df['cos_hour'] = make_cos_list(df['HOUR'])\n",
    "\n",
    "df['cos_month'] = make_cos_list(df['MONTH'], 12)\n",
    "df['sin_month'] = make_sin_list(df[\"MONTH\"], 12)\n",
    "\n",
    "df['cos_weekday'] = make_cos_list(df['WEEKDAY'], 7) \n",
    "df['sin_weekday'] = make_sin_list(df['WEEKDAY'], 7)\n",
    "\n",
    "df.drop(columns=['HOUR', 'MONTH', 'WEEKDAY'], inplace=True)"
   ]
  },
  {
   "cell_type": "markdown",
   "metadata": {},
   "source": [
    "Сжатие предобученной [модели](https://fasttext.cc/docs/en/crawl-vectors.html) обученной на Common Crawl и в Википедии с использованием fastText"
   ]
  },
  {
   "cell_type": "code",
   "execution_count": 10,
   "metadata": {},
   "outputs": [],
   "source": [
    "# big_model = load_facebook_model('cc.en.300.bin').wv\n",
    "# small_model = compress_fasttext.prune_ft_freq(big_model, pq=True)\n",
    "# small_model.save('compressed.cc.en.300.bin')"
   ]
  },
  {
   "cell_type": "markdown",
   "metadata": {},
   "source": [
    "Загрузка сжатой мдели"
   ]
  },
  {
   "cell_type": "code",
   "execution_count": 11,
   "metadata": {
    "ExecuteTime": {
     "end_time": "2021-01-13T00:27:32.869365Z",
     "start_time": "2021-01-13T00:27:30.483057Z"
    }
   },
   "outputs": [],
   "source": [
    "embs = \"compressed.cc.en.300.bin\"\n",
    "embeddings = CompressedFastTextKeyedVectors.load(str(embs))"
   ]
  },
  {
   "cell_type": "markdown",
   "metadata": {},
   "source": [
    "Усреденение вектора по входящим в текст словам"
   ]
  },
  {
   "cell_type": "code",
   "execution_count": 12,
   "metadata": {
    "ExecuteTime": {
     "end_time": "2021-01-13T00:27:32.877439Z",
     "start_time": "2021-01-13T00:27:32.871693Z"
    }
   },
   "outputs": [],
   "source": [
    "def embed(tokens, default_size=100):\n",
    "    if not tokens:\n",
    "        return np.zeros(default_size)\n",
    "    embs = [embeddings[x] for x in tokens]\n",
    "    return sum(embs) / len(tokens)"
   ]
  },
  {
   "cell_type": "code",
   "execution_count": 13,
   "metadata": {
    "ExecuteTime": {
     "end_time": "2021-01-13T00:27:32.891996Z",
     "start_time": "2021-01-13T00:27:32.880708Z"
    }
   },
   "outputs": [],
   "source": [
    "def process_record(record):\n",
    "    return embed(record.split())"
   ]
  },
  {
   "cell_type": "markdown",
   "metadata": {},
   "source": [
    "Генерация признаков"
   ]
  },
  {
   "cell_type": "code",
   "execution_count": 14,
   "metadata": {
    "ExecuteTime": {
     "end_time": "2021-01-13T00:27:40.306396Z",
     "start_time": "2021-01-13T00:27:32.895705Z"
    }
   },
   "outputs": [],
   "source": [
    "df['emb_title'] = df['title_cleared'].map(process_record)"
   ]
  },
  {
   "cell_type": "code",
   "execution_count": 15,
   "metadata": {
    "ExecuteTime": {
     "end_time": "2021-01-13T00:31:23.083172Z",
     "start_time": "2021-01-13T00:27:40.309571Z"
    }
   },
   "outputs": [
    {
     "name": "stdout",
     "output_type": "stream",
     "text": [
      "Wall time: 4min 3s\n"
     ]
    }
   ],
   "source": [
    "%%time\n",
    "df['emb_text'] = df['cleared_text'].map(str).map(process_record)"
   ]
  },
  {
   "cell_type": "code",
   "execution_count": 16,
   "metadata": {
    "ExecuteTime": {
     "end_time": "2021-01-13T00:31:23.105980Z",
     "start_time": "2021-01-13T00:31:23.084600Z"
    }
   },
   "outputs": [],
   "source": [
    "df.drop(columns=['title_cleared', 'cleared_text'], inplace=True)"
   ]
  },
  {
   "cell_type": "code",
   "execution_count": 17,
   "metadata": {
    "ExecuteTime": {
     "end_time": "2021-01-13T00:31:23.159191Z",
     "start_time": "2021-01-13T00:31:23.107643Z"
    }
   },
   "outputs": [
    {
     "data": {
      "text/html": [
       "<div>\n",
       "<style scoped>\n",
       "    .dataframe tbody tr th:only-of-type {\n",
       "        vertical-align: middle;\n",
       "    }\n",
       "\n",
       "    .dataframe tbody tr th {\n",
       "        vertical-align: top;\n",
       "    }\n",
       "\n",
       "    .dataframe thead th {\n",
       "        text-align: right;\n",
       "    }\n",
       "</style>\n",
       "<table border=\"1\" class=\"dataframe\">\n",
       "  <thead>\n",
       "    <tr style=\"text-align: right;\">\n",
       "      <th></th>\n",
       "      <th>score</th>\n",
       "      <th>num_comments</th>\n",
       "      <th>target</th>\n",
       "      <th>sin_hour</th>\n",
       "      <th>cos_hour</th>\n",
       "      <th>cos_month</th>\n",
       "      <th>sin_month</th>\n",
       "      <th>cos_weekday</th>\n",
       "      <th>sin_weekday</th>\n",
       "      <th>emb_title</th>\n",
       "      <th>emb_text</th>\n",
       "    </tr>\n",
       "  </thead>\n",
       "  <tbody>\n",
       "    <tr>\n",
       "      <th>0</th>\n",
       "      <td>1</td>\n",
       "      <td>12</td>\n",
       "      <td>8</td>\n",
       "      <td>-0.965926</td>\n",
       "      <td>0.258819</td>\n",
       "      <td>-0.866025</td>\n",
       "      <td>0.5</td>\n",
       "      <td>-0.222521</td>\n",
       "      <td>0.974928</td>\n",
       "      <td>[-0.026377800737436, 0.031197191717532966, 0.0...</td>\n",
       "      <td>[0.010187880619940673, 0.0020352929488744015, ...</td>\n",
       "    </tr>\n",
       "    <tr>\n",
       "      <th>1</th>\n",
       "      <td>2</td>\n",
       "      <td>5</td>\n",
       "      <td>8</td>\n",
       "      <td>-0.965926</td>\n",
       "      <td>0.258819</td>\n",
       "      <td>-0.866025</td>\n",
       "      <td>0.5</td>\n",
       "      <td>-0.222521</td>\n",
       "      <td>0.974928</td>\n",
       "      <td>[0.010478794348875827, -0.10610514487596119, 0...</td>\n",
       "      <td>[-0.0062868614158249295, -0.003861153425016649...</td>\n",
       "    </tr>\n",
       "    <tr>\n",
       "      <th>2</th>\n",
       "      <td>1</td>\n",
       "      <td>1</td>\n",
       "      <td>8</td>\n",
       "      <td>-0.965926</td>\n",
       "      <td>0.258819</td>\n",
       "      <td>-0.866025</td>\n",
       "      <td>0.5</td>\n",
       "      <td>-0.222521</td>\n",
       "      <td>0.974928</td>\n",
       "      <td>[-0.014719368115237016, 0.006043402803453759, ...</td>\n",
       "      <td>[-0.008690528819658067, -0.0011496505953478278...</td>\n",
       "    </tr>\n",
       "    <tr>\n",
       "      <th>3</th>\n",
       "      <td>4</td>\n",
       "      <td>8</td>\n",
       "      <td>8</td>\n",
       "      <td>-0.965926</td>\n",
       "      <td>0.258819</td>\n",
       "      <td>-0.866025</td>\n",
       "      <td>0.5</td>\n",
       "      <td>-0.222521</td>\n",
       "      <td>0.974928</td>\n",
       "      <td>[0.00485266917046247, 0.032715675408433384, 0....</td>\n",
       "      <td>[0.0075169208342334825, -0.0026545061944424227...</td>\n",
       "    </tr>\n",
       "    <tr>\n",
       "      <th>4</th>\n",
       "      <td>0</td>\n",
       "      <td>9</td>\n",
       "      <td>8</td>\n",
       "      <td>-0.965926</td>\n",
       "      <td>0.258819</td>\n",
       "      <td>-0.866025</td>\n",
       "      <td>0.5</td>\n",
       "      <td>-0.222521</td>\n",
       "      <td>0.974928</td>\n",
       "      <td>[-0.017449723841039714, -0.0983882193121, -0.0...</td>\n",
       "      <td>[0.0033536759881612464, -0.014314594422309982,...</td>\n",
       "    </tr>\n",
       "  </tbody>\n",
       "</table>\n",
       "</div>"
      ],
      "text/plain": [
       "   score  num_comments  target  sin_hour  cos_hour  cos_month  sin_month  \\\n",
       "0      1            12       8 -0.965926  0.258819  -0.866025        0.5   \n",
       "1      2             5       8 -0.965926  0.258819  -0.866025        0.5   \n",
       "2      1             1       8 -0.965926  0.258819  -0.866025        0.5   \n",
       "3      4             8       8 -0.965926  0.258819  -0.866025        0.5   \n",
       "4      0             9       8 -0.965926  0.258819  -0.866025        0.5   \n",
       "\n",
       "   cos_weekday  sin_weekday  \\\n",
       "0    -0.222521     0.974928   \n",
       "1    -0.222521     0.974928   \n",
       "2    -0.222521     0.974928   \n",
       "3    -0.222521     0.974928   \n",
       "4    -0.222521     0.974928   \n",
       "\n",
       "                                           emb_title  \\\n",
       "0  [-0.026377800737436, 0.031197191717532966, 0.0...   \n",
       "1  [0.010478794348875827, -0.10610514487596119, 0...   \n",
       "2  [-0.014719368115237016, 0.006043402803453759, ...   \n",
       "3  [0.00485266917046247, 0.032715675408433384, 0....   \n",
       "4  [-0.017449723841039714, -0.0983882193121, -0.0...   \n",
       "\n",
       "                                            emb_text  \n",
       "0  [0.010187880619940673, 0.0020352929488744015, ...  \n",
       "1  [-0.0062868614158249295, -0.003861153425016649...  \n",
       "2  [-0.008690528819658067, -0.0011496505953478278...  \n",
       "3  [0.0075169208342334825, -0.0026545061944424227...  \n",
       "4  [0.0033536759881612464, -0.014314594422309982,...  "
      ]
     },
     "execution_count": 17,
     "metadata": {},
     "output_type": "execute_result"
    }
   ],
   "source": [
    "df.head()"
   ]
  },
  {
   "cell_type": "markdown",
   "metadata": {},
   "source": [
    "Форматирование данных"
   ]
  },
  {
   "cell_type": "code",
   "execution_count": 18,
   "metadata": {
    "ExecuteTime": {
     "end_time": "2021-01-13T00:31:43.519968Z",
     "start_time": "2021-01-13T00:31:37.519013Z"
    }
   },
   "outputs": [],
   "source": [
    "df['emb_title'] = df['emb_title'].map(lambda x: json.dumps([float(y) for y in x]))\n",
    "df['emb_text'] = df['emb_text'].map(lambda x: json.dumps([float(y) for y in x]))\n",
    "\n",
    "emb_text = pd.DataFrame(df['emb_text'].map(json.loads).to_list(),\n",
    "                        columns=[f\"emb_text_{i}\" for i in range(300)])\n",
    "\n",
    "emb_title = pd.DataFrame(np.array(df['emb_title'].map(json.loads).to_list()),\n",
    "                         columns=[f\"emb_title_{i}\" for i in range(300)])\n",
    "\n",
    "df_embedded = pd.concat([df.drop(columns=['emb_title', 'emb_text']).reset_index(drop=True),\n",
    "                         emb_text, emb_title], axis=1)"
   ]
  },
  {
   "cell_type": "code",
   "execution_count": 19,
   "metadata": {
    "ExecuteTime": {
     "end_time": "2021-01-13T00:31:43.617405Z",
     "start_time": "2021-01-13T00:31:43.588843Z"
    }
   },
   "outputs": [
    {
     "data": {
      "text/html": [
       "<div>\n",
       "<style scoped>\n",
       "    .dataframe tbody tr th:only-of-type {\n",
       "        vertical-align: middle;\n",
       "    }\n",
       "\n",
       "    .dataframe tbody tr th {\n",
       "        vertical-align: top;\n",
       "    }\n",
       "\n",
       "    .dataframe thead th {\n",
       "        text-align: right;\n",
       "    }\n",
       "</style>\n",
       "<table border=\"1\" class=\"dataframe\">\n",
       "  <thead>\n",
       "    <tr style=\"text-align: right;\">\n",
       "      <th></th>\n",
       "      <th>score</th>\n",
       "      <th>num_comments</th>\n",
       "      <th>target</th>\n",
       "      <th>sin_hour</th>\n",
       "      <th>cos_hour</th>\n",
       "      <th>cos_month</th>\n",
       "      <th>sin_month</th>\n",
       "      <th>cos_weekday</th>\n",
       "      <th>sin_weekday</th>\n",
       "      <th>emb_text_0</th>\n",
       "      <th>...</th>\n",
       "      <th>emb_title_290</th>\n",
       "      <th>emb_title_291</th>\n",
       "      <th>emb_title_292</th>\n",
       "      <th>emb_title_293</th>\n",
       "      <th>emb_title_294</th>\n",
       "      <th>emb_title_295</th>\n",
       "      <th>emb_title_296</th>\n",
       "      <th>emb_title_297</th>\n",
       "      <th>emb_title_298</th>\n",
       "      <th>emb_title_299</th>\n",
       "    </tr>\n",
       "  </thead>\n",
       "  <tbody>\n",
       "    <tr>\n",
       "      <th>0</th>\n",
       "      <td>1</td>\n",
       "      <td>12</td>\n",
       "      <td>8</td>\n",
       "      <td>-0.965926</td>\n",
       "      <td>0.258819</td>\n",
       "      <td>-0.866025</td>\n",
       "      <td>0.5</td>\n",
       "      <td>-0.222521</td>\n",
       "      <td>0.974928</td>\n",
       "      <td>0.010188</td>\n",
       "      <td>...</td>\n",
       "      <td>0.065674</td>\n",
       "      <td>-0.005625</td>\n",
       "      <td>-0.078449</td>\n",
       "      <td>0.006156</td>\n",
       "      <td>-0.005342</td>\n",
       "      <td>0.023279</td>\n",
       "      <td>-0.016699</td>\n",
       "      <td>0.035185</td>\n",
       "      <td>-0.006651</td>\n",
       "      <td>-0.001455</td>\n",
       "    </tr>\n",
       "    <tr>\n",
       "      <th>1</th>\n",
       "      <td>2</td>\n",
       "      <td>5</td>\n",
       "      <td>8</td>\n",
       "      <td>-0.965926</td>\n",
       "      <td>0.258819</td>\n",
       "      <td>-0.866025</td>\n",
       "      <td>0.5</td>\n",
       "      <td>-0.222521</td>\n",
       "      <td>0.974928</td>\n",
       "      <td>-0.006287</td>\n",
       "      <td>...</td>\n",
       "      <td>-0.001185</td>\n",
       "      <td>0.026326</td>\n",
       "      <td>-0.153998</td>\n",
       "      <td>0.032865</td>\n",
       "      <td>0.015729</td>\n",
       "      <td>0.036360</td>\n",
       "      <td>0.023284</td>\n",
       "      <td>0.079431</td>\n",
       "      <td>-0.063423</td>\n",
       "      <td>0.024095</td>\n",
       "    </tr>\n",
       "    <tr>\n",
       "      <th>2</th>\n",
       "      <td>1</td>\n",
       "      <td>1</td>\n",
       "      <td>8</td>\n",
       "      <td>-0.965926</td>\n",
       "      <td>0.258819</td>\n",
       "      <td>-0.866025</td>\n",
       "      <td>0.5</td>\n",
       "      <td>-0.222521</td>\n",
       "      <td>0.974928</td>\n",
       "      <td>-0.008691</td>\n",
       "      <td>...</td>\n",
       "      <td>0.039523</td>\n",
       "      <td>-0.002560</td>\n",
       "      <td>-0.047848</td>\n",
       "      <td>0.014236</td>\n",
       "      <td>-0.011898</td>\n",
       "      <td>0.009090</td>\n",
       "      <td>-0.014194</td>\n",
       "      <td>0.092682</td>\n",
       "      <td>-0.009166</td>\n",
       "      <td>0.007000</td>\n",
       "    </tr>\n",
       "    <tr>\n",
       "      <th>3</th>\n",
       "      <td>4</td>\n",
       "      <td>8</td>\n",
       "      <td>8</td>\n",
       "      <td>-0.965926</td>\n",
       "      <td>0.258819</td>\n",
       "      <td>-0.866025</td>\n",
       "      <td>0.5</td>\n",
       "      <td>-0.222521</td>\n",
       "      <td>0.974928</td>\n",
       "      <td>0.007517</td>\n",
       "      <td>...</td>\n",
       "      <td>0.040959</td>\n",
       "      <td>0.024521</td>\n",
       "      <td>-0.070278</td>\n",
       "      <td>0.005593</td>\n",
       "      <td>-0.000135</td>\n",
       "      <td>0.031898</td>\n",
       "      <td>0.027061</td>\n",
       "      <td>0.065442</td>\n",
       "      <td>-0.022263</td>\n",
       "      <td>-0.006768</td>\n",
       "    </tr>\n",
       "    <tr>\n",
       "      <th>4</th>\n",
       "      <td>0</td>\n",
       "      <td>9</td>\n",
       "      <td>8</td>\n",
       "      <td>-0.965926</td>\n",
       "      <td>0.258819</td>\n",
       "      <td>-0.866025</td>\n",
       "      <td>0.5</td>\n",
       "      <td>-0.222521</td>\n",
       "      <td>0.974928</td>\n",
       "      <td>0.003354</td>\n",
       "      <td>...</td>\n",
       "      <td>0.056048</td>\n",
       "      <td>-0.066131</td>\n",
       "      <td>-0.126724</td>\n",
       "      <td>0.002335</td>\n",
       "      <td>0.009897</td>\n",
       "      <td>0.033748</td>\n",
       "      <td>0.040027</td>\n",
       "      <td>0.051594</td>\n",
       "      <td>-0.029816</td>\n",
       "      <td>-0.057611</td>\n",
       "    </tr>\n",
       "  </tbody>\n",
       "</table>\n",
       "<p>5 rows × 609 columns</p>\n",
       "</div>"
      ],
      "text/plain": [
       "   score  num_comments  target  sin_hour  cos_hour  cos_month  sin_month  \\\n",
       "0      1            12       8 -0.965926  0.258819  -0.866025        0.5   \n",
       "1      2             5       8 -0.965926  0.258819  -0.866025        0.5   \n",
       "2      1             1       8 -0.965926  0.258819  -0.866025        0.5   \n",
       "3      4             8       8 -0.965926  0.258819  -0.866025        0.5   \n",
       "4      0             9       8 -0.965926  0.258819  -0.866025        0.5   \n",
       "\n",
       "   cos_weekday  sin_weekday  emb_text_0  ...  emb_title_290  emb_title_291  \\\n",
       "0    -0.222521     0.974928    0.010188  ...       0.065674      -0.005625   \n",
       "1    -0.222521     0.974928   -0.006287  ...      -0.001185       0.026326   \n",
       "2    -0.222521     0.974928   -0.008691  ...       0.039523      -0.002560   \n",
       "3    -0.222521     0.974928    0.007517  ...       0.040959       0.024521   \n",
       "4    -0.222521     0.974928    0.003354  ...       0.056048      -0.066131   \n",
       "\n",
       "   emb_title_292  emb_title_293  emb_title_294  emb_title_295  emb_title_296  \\\n",
       "0      -0.078449       0.006156      -0.005342       0.023279      -0.016699   \n",
       "1      -0.153998       0.032865       0.015729       0.036360       0.023284   \n",
       "2      -0.047848       0.014236      -0.011898       0.009090      -0.014194   \n",
       "3      -0.070278       0.005593      -0.000135       0.031898       0.027061   \n",
       "4      -0.126724       0.002335       0.009897       0.033748       0.040027   \n",
       "\n",
       "   emb_title_297  emb_title_298  emb_title_299  \n",
       "0       0.035185      -0.006651      -0.001455  \n",
       "1       0.079431      -0.063423       0.024095  \n",
       "2       0.092682      -0.009166       0.007000  \n",
       "3       0.065442      -0.022263      -0.006768  \n",
       "4       0.051594      -0.029816      -0.057611  \n",
       "\n",
       "[5 rows x 609 columns]"
      ]
     },
     "execution_count": 19,
     "metadata": {},
     "output_type": "execute_result"
    }
   ],
   "source": [
    "df_embedded.head()"
   ]
  },
  {
   "cell_type": "markdown",
   "metadata": {},
   "source": [
    "# Экспорт данных"
   ]
  },
  {
   "cell_type": "code",
   "execution_count": 20,
   "metadata": {
    "ExecuteTime": {
     "end_time": "2021-01-13T00:31:59.446869Z",
     "start_time": "2021-01-13T00:31:43.622603Z"
    }
   },
   "outputs": [],
   "source": [
    "df_embedded.to_csv(\"final_embedded.csv\")"
   ]
  }
 ],
 "metadata": {
  "kernelspec": {
   "display_name": "Python 3",
   "language": "python",
   "name": "python3"
  },
  "language_info": {
   "codemirror_mode": {
    "name": "ipython",
    "version": 3
   },
   "file_extension": ".py",
   "mimetype": "text/x-python",
   "name": "python",
   "nbconvert_exporter": "python",
   "pygments_lexer": "ipython3",
   "version": "3.8.6"
  },
  "varInspector": {
   "cols": {
    "lenName": 16,
    "lenType": 16,
    "lenVar": 40
   },
   "kernels_config": {
    "python": {
     "delete_cmd_postfix": "",
     "delete_cmd_prefix": "del ",
     "library": "var_list.py",
     "varRefreshCmd": "print(var_dic_list())"
    },
    "r": {
     "delete_cmd_postfix": ") ",
     "delete_cmd_prefix": "rm(",
     "library": "var_list.r",
     "varRefreshCmd": "cat(var_dic_list()) "
    }
   },
   "types_to_exclude": [
    "module",
    "function",
    "builtin_function_or_method",
    "instance",
    "_Feature"
   ],
   "window_display": false
  }
 },
 "nbformat": 4,
 "nbformat_minor": 4
}
