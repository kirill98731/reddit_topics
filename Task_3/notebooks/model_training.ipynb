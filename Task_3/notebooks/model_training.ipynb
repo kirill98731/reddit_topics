{
 "cells": [
  {
   "cell_type": "markdown",
   "metadata": {},
   "source": [
    "# Import required libraries"
   ]
  },
  {
   "cell_type": "code",
   "execution_count": 1,
   "metadata": {
    "ExecuteTime": {
     "end_time": "2021-01-13T09:46:51.796416Z",
     "start_time": "2021-01-13T09:46:51.715692Z"
    }
   },
   "outputs": [],
   "source": [
    "import pandas as pd\n",
    "import numpy as np\n",
    "import re\n",
    "\n",
    "from sklearn.svm import SVC\n",
    "from sklearn.linear_model import LogisticRegression\n",
    "from sklearn.discriminant_analysis import LinearDiscriminantAnalysis as LDA\n",
    "from sklearn.preprocessing import StandardScaler\n",
    "from sklearn.model_selection import train_test_split\n",
    "from sklearn.pipeline import Pipeline\n",
    "\n",
    "import nltk\n",
    "from nltk.stem import WordNetLemmatizer\n",
    "from sklearn.feature_extraction.text import TfidfVectorizer\n",
    "from sklearn.decomposition import LatentDirichletAllocation\n",
    "\n",
    "from collections import Counter\n",
    "from sklearn.cluster import KMeans, MiniBatchKMeans\n",
    "from sklearn import metrics\n",
    "from sklearn import preprocessing"
   ]
  },
  {
   "cell_type": "code",
   "execution_count": 2,
   "metadata": {},
   "outputs": [],
   "source": [
    "import gensim\n",
    "import gensim.corpora as corpora\n",
    "from gensim.utils import simple_preprocess\n",
    "from gensim.models import CoherenceModel\n",
    "import spacy\n",
    "import pyLDAvis\n",
    "import pyLDAvis.gensim_models"
   ]
  },
  {
   "cell_type": "markdown",
   "metadata": {},
   "source": [
    "# Import data"
   ]
  },
  {
   "cell_type": "code",
   "execution_count": 5,
   "metadata": {
    "ExecuteTime": {
     "end_time": "2021-01-13T10:44:35.755198Z",
     "start_time": "2021-01-13T10:44:32.433340Z"
    },
    "scrolled": true
   },
   "outputs": [
    {
     "data": {
      "text/html": [
       "<div>\n",
       "<style scoped>\n",
       "    .dataframe tbody tr th:only-of-type {\n",
       "        vertical-align: middle;\n",
       "    }\n",
       "\n",
       "    .dataframe tbody tr th {\n",
       "        vertical-align: top;\n",
       "    }\n",
       "\n",
       "    .dataframe thead th {\n",
       "        text-align: right;\n",
       "    }\n",
       "</style>\n",
       "<table border=\"1\" class=\"dataframe\">\n",
       "  <thead>\n",
       "    <tr style=\"text-align: right;\">\n",
       "      <th></th>\n",
       "      <th>score</th>\n",
       "      <th>num_comments</th>\n",
       "      <th>target</th>\n",
       "      <th>sin_hour</th>\n",
       "      <th>cos_hour</th>\n",
       "      <th>cos_month</th>\n",
       "      <th>sin_month</th>\n",
       "      <th>cos_weekday</th>\n",
       "      <th>sin_weekday</th>\n",
       "      <th>emb_text_0</th>\n",
       "      <th>...</th>\n",
       "      <th>emb_title_290</th>\n",
       "      <th>emb_title_291</th>\n",
       "      <th>emb_title_292</th>\n",
       "      <th>emb_title_293</th>\n",
       "      <th>emb_title_294</th>\n",
       "      <th>emb_title_295</th>\n",
       "      <th>emb_title_296</th>\n",
       "      <th>emb_title_297</th>\n",
       "      <th>emb_title_298</th>\n",
       "      <th>emb_title_299</th>\n",
       "    </tr>\n",
       "  </thead>\n",
       "  <tbody>\n",
       "    <tr>\n",
       "      <th>0</th>\n",
       "      <td>1</td>\n",
       "      <td>12</td>\n",
       "      <td>8</td>\n",
       "      <td>-0.965926</td>\n",
       "      <td>0.258819</td>\n",
       "      <td>-0.866025</td>\n",
       "      <td>0.5</td>\n",
       "      <td>-0.222521</td>\n",
       "      <td>0.974928</td>\n",
       "      <td>0.010188</td>\n",
       "      <td>...</td>\n",
       "      <td>0.065674</td>\n",
       "      <td>-0.005625</td>\n",
       "      <td>-0.078449</td>\n",
       "      <td>0.006156</td>\n",
       "      <td>-0.005342</td>\n",
       "      <td>0.023279</td>\n",
       "      <td>-0.016699</td>\n",
       "      <td>0.035185</td>\n",
       "      <td>-0.006651</td>\n",
       "      <td>-0.001455</td>\n",
       "    </tr>\n",
       "    <tr>\n",
       "      <th>1</th>\n",
       "      <td>2</td>\n",
       "      <td>5</td>\n",
       "      <td>8</td>\n",
       "      <td>-0.965926</td>\n",
       "      <td>0.258819</td>\n",
       "      <td>-0.866025</td>\n",
       "      <td>0.5</td>\n",
       "      <td>-0.222521</td>\n",
       "      <td>0.974928</td>\n",
       "      <td>-0.006287</td>\n",
       "      <td>...</td>\n",
       "      <td>-0.001185</td>\n",
       "      <td>0.026326</td>\n",
       "      <td>-0.153998</td>\n",
       "      <td>0.032865</td>\n",
       "      <td>0.015729</td>\n",
       "      <td>0.036360</td>\n",
       "      <td>0.023284</td>\n",
       "      <td>0.079431</td>\n",
       "      <td>-0.063423</td>\n",
       "      <td>0.024095</td>\n",
       "    </tr>\n",
       "    <tr>\n",
       "      <th>2</th>\n",
       "      <td>1</td>\n",
       "      <td>1</td>\n",
       "      <td>8</td>\n",
       "      <td>-0.965926</td>\n",
       "      <td>0.258819</td>\n",
       "      <td>-0.866025</td>\n",
       "      <td>0.5</td>\n",
       "      <td>-0.222521</td>\n",
       "      <td>0.974928</td>\n",
       "      <td>-0.008691</td>\n",
       "      <td>...</td>\n",
       "      <td>0.039523</td>\n",
       "      <td>-0.002560</td>\n",
       "      <td>-0.047848</td>\n",
       "      <td>0.014236</td>\n",
       "      <td>-0.011898</td>\n",
       "      <td>0.009090</td>\n",
       "      <td>-0.014194</td>\n",
       "      <td>0.092682</td>\n",
       "      <td>-0.009166</td>\n",
       "      <td>0.007000</td>\n",
       "    </tr>\n",
       "    <tr>\n",
       "      <th>3</th>\n",
       "      <td>4</td>\n",
       "      <td>8</td>\n",
       "      <td>8</td>\n",
       "      <td>-0.965926</td>\n",
       "      <td>0.258819</td>\n",
       "      <td>-0.866025</td>\n",
       "      <td>0.5</td>\n",
       "      <td>-0.222521</td>\n",
       "      <td>0.974928</td>\n",
       "      <td>0.007517</td>\n",
       "      <td>...</td>\n",
       "      <td>0.040959</td>\n",
       "      <td>0.024521</td>\n",
       "      <td>-0.070278</td>\n",
       "      <td>0.005593</td>\n",
       "      <td>-0.000135</td>\n",
       "      <td>0.031898</td>\n",
       "      <td>0.027061</td>\n",
       "      <td>0.065442</td>\n",
       "      <td>-0.022263</td>\n",
       "      <td>-0.006768</td>\n",
       "    </tr>\n",
       "    <tr>\n",
       "      <th>4</th>\n",
       "      <td>0</td>\n",
       "      <td>9</td>\n",
       "      <td>8</td>\n",
       "      <td>-0.965926</td>\n",
       "      <td>0.258819</td>\n",
       "      <td>-0.866025</td>\n",
       "      <td>0.5</td>\n",
       "      <td>-0.222521</td>\n",
       "      <td>0.974928</td>\n",
       "      <td>0.003354</td>\n",
       "      <td>...</td>\n",
       "      <td>0.056048</td>\n",
       "      <td>-0.066131</td>\n",
       "      <td>-0.126724</td>\n",
       "      <td>0.002335</td>\n",
       "      <td>0.009897</td>\n",
       "      <td>0.033748</td>\n",
       "      <td>0.040027</td>\n",
       "      <td>0.051594</td>\n",
       "      <td>-0.029816</td>\n",
       "      <td>-0.057611</td>\n",
       "    </tr>\n",
       "  </tbody>\n",
       "</table>\n",
       "<p>5 rows × 609 columns</p>\n",
       "</div>"
      ],
      "text/plain": [
       "   score  num_comments  target  sin_hour  cos_hour  cos_month  sin_month  \\\n",
       "0      1            12       8 -0.965926  0.258819  -0.866025        0.5   \n",
       "1      2             5       8 -0.965926  0.258819  -0.866025        0.5   \n",
       "2      1             1       8 -0.965926  0.258819  -0.866025        0.5   \n",
       "3      4             8       8 -0.965926  0.258819  -0.866025        0.5   \n",
       "4      0             9       8 -0.965926  0.258819  -0.866025        0.5   \n",
       "\n",
       "   cos_weekday  sin_weekday  emb_text_0  ...  emb_title_290  emb_title_291  \\\n",
       "0    -0.222521     0.974928    0.010188  ...       0.065674      -0.005625   \n",
       "1    -0.222521     0.974928   -0.006287  ...      -0.001185       0.026326   \n",
       "2    -0.222521     0.974928   -0.008691  ...       0.039523      -0.002560   \n",
       "3    -0.222521     0.974928    0.007517  ...       0.040959       0.024521   \n",
       "4    -0.222521     0.974928    0.003354  ...       0.056048      -0.066131   \n",
       "\n",
       "   emb_title_292  emb_title_293  emb_title_294  emb_title_295  emb_title_296  \\\n",
       "0      -0.078449       0.006156      -0.005342       0.023279      -0.016699   \n",
       "1      -0.153998       0.032865       0.015729       0.036360       0.023284   \n",
       "2      -0.047848       0.014236      -0.011898       0.009090      -0.014194   \n",
       "3      -0.070278       0.005593      -0.000135       0.031898       0.027061   \n",
       "4      -0.126724       0.002335       0.009897       0.033748       0.040027   \n",
       "\n",
       "   emb_title_297  emb_title_298  emb_title_299  \n",
       "0       0.035185      -0.006651      -0.001455  \n",
       "1       0.079431      -0.063423       0.024095  \n",
       "2       0.092682      -0.009166       0.007000  \n",
       "3       0.065442      -0.022263      -0.006768  \n",
       "4       0.051594      -0.029816      -0.057611  \n",
       "\n",
       "[5 rows x 609 columns]"
      ]
     },
     "execution_count": 5,
     "metadata": {},
     "output_type": "execute_result"
    }
   ],
   "source": [
    "df = pd.read_csv(\"final_embedded.csv\", index_col=0)\n",
    "df.head()"
   ]
  },
  {
   "cell_type": "markdown",
   "metadata": {},
   "source": [
    "Division into training and test samples"
   ]
  },
  {
   "cell_type": "code",
   "execution_count": 3,
   "metadata": {
    "ExecuteTime": {
     "end_time": "2021-01-13T10:44:35.861734Z",
     "start_time": "2021-01-13T10:44:35.758115Z"
    }
   },
   "outputs": [],
   "source": [
    "X, y = df.drop(columns=['target']), df['target']"
   ]
  },
  {
   "cell_type": "code",
   "execution_count": 4,
   "metadata": {
    "ExecuteTime": {
     "end_time": "2021-01-13T10:44:36.040182Z",
     "start_time": "2021-01-13T10:44:35.865112Z"
    }
   },
   "outputs": [],
   "source": [
    "X_train, X_test, y_train, y_test = train_test_split(X, y, random_state=0, stratify=y)"
   ]
  },
  {
   "cell_type": "markdown",
   "metadata": {},
   "source": [
    "# Classification"
   ]
  },
  {
   "cell_type": "markdown",
   "metadata": {},
   "source": [
    "### SVC"
   ]
  },
  {
   "cell_type": "code",
   "execution_count": 10,
   "metadata": {
    "ExecuteTime": {
     "end_time": "2021-01-13T10:44:36.098960Z",
     "start_time": "2021-01-13T10:44:36.070273Z"
    }
   },
   "outputs": [],
   "source": [
    "pipe = Pipeline(\n",
    "    [\n",
    "        ('scaler', StandardScaler()),\n",
    "        ('svc', SVC())\n",
    "    ]\n",
    ")"
   ]
  },
  {
   "cell_type": "code",
   "execution_count": 11,
   "metadata": {
    "ExecuteTime": {
     "end_time": "2021-01-13T10:47:38.942058Z",
     "start_time": "2021-01-13T10:44:36.103002Z"
    }
   },
   "outputs": [
    {
     "name": "stdout",
     "output_type": "stream",
     "text": [
      "Wall time: 23min 39s\n"
     ]
    },
    {
     "data": {
      "text/plain": [
       "Pipeline(steps=[('scaler', StandardScaler()), ('svc', SVC())])"
      ]
     },
     "execution_count": 11,
     "metadata": {},
     "output_type": "execute_result"
    }
   ],
   "source": [
    "%%time\n",
    "pipe.fit(X_train, y_train)"
   ]
  },
  {
   "cell_type": "code",
   "execution_count": 12,
   "metadata": {
    "ExecuteTime": {
     "end_time": "2021-01-13T10:49:13.355815Z",
     "start_time": "2021-01-13T10:47:38.946234Z"
    }
   },
   "outputs": [
    {
     "data": {
      "text/plain": [
       "0.7194537613799713"
      ]
     },
     "execution_count": 12,
     "metadata": {},
     "output_type": "execute_result"
    }
   ],
   "source": [
    "pipe.score(X_test, y_test)"
   ]
  },
  {
   "cell_type": "markdown",
   "metadata": {},
   "source": [
    "### LogisticRegression"
   ]
  },
  {
   "cell_type": "code",
   "execution_count": 8,
   "metadata": {
    "ExecuteTime": {
     "end_time": "2021-01-13T10:49:23.180255Z",
     "start_time": "2021-01-13T10:49:13.386586Z"
    }
   },
   "outputs": [
    {
     "name": "stdout",
     "output_type": "stream",
     "text": [
      "Wall time: 21.6 s\n"
     ]
    },
    {
     "data": {
      "text/plain": [
       "0.7266810413671937"
      ]
     },
     "execution_count": 8,
     "metadata": {},
     "output_type": "execute_result"
    }
   ],
   "source": [
    "%%time\n",
    "pipe = Pipeline(\n",
    "    [\n",
    "        ('scaler', StandardScaler()),\n",
    "        ('svc', LogisticRegression())\n",
    "    ]\n",
    ")\n",
    "pipe.fit(X_train, y_train)\n",
    "pipe.score(X_test, y_test)"
   ]
  },
  {
   "cell_type": "markdown",
   "metadata": {},
   "source": [
    "### LDA"
   ]
  },
  {
   "cell_type": "code",
   "execution_count": 12,
   "metadata": {
    "ExecuteTime": {
     "end_time": "2021-01-13T10:49:25.880344Z",
     "start_time": "2021-01-13T10:49:23.274618Z"
    }
   },
   "outputs": [
    {
     "name": "stdout",
     "output_type": "stream",
     "text": [
      "Wall time: 14.3 s\n"
     ]
    },
    {
     "data": {
      "text/plain": [
       "0.6905446414310813"
      ]
     },
     "execution_count": 12,
     "metadata": {},
     "output_type": "execute_result"
    }
   ],
   "source": [
    "%%time\n",
    "pipe = Pipeline(\n",
    "    [\n",
    "        ('scaler', StandardScaler()),\n",
    "        ('svc', LDA())\n",
    "    ]\n",
    ")\n",
    "pipe.fit(X_train, y_train)\n",
    "pipe.score(X_test, y_test)"
   ]
  },
  {
   "cell_type": "markdown",
   "metadata": {},
   "source": [
    "# Topic modeling"
   ]
  },
  {
   "cell_type": "markdown",
   "metadata": {},
   "source": [
    "### LDA"
   ]
  },
  {
   "cell_type": "markdown",
   "metadata": {},
   "source": [
    "Uploading wordnet"
   ]
  },
  {
   "cell_type": "code",
   "execution_count": 11,
   "metadata": {},
   "outputs": [
    {
     "name": "stderr",
     "output_type": "stream",
     "text": [
      "[nltk_data] Downloading package wordnet to\n",
      "[nltk_data]     C:\\Users\\kiril\\AppData\\Roaming\\nltk_data...\n",
      "[nltk_data]   Package wordnet is already up-to-date!\n"
     ]
    },
    {
     "data": {
      "text/plain": [
       "True"
      ]
     },
     "execution_count": 11,
     "metadata": {},
     "output_type": "execute_result"
    }
   ],
   "source": [
    "nltk.download('wordnet')"
   ]
  },
  {
   "cell_type": "markdown",
   "metadata": {},
   "source": [
    "Importing data"
   ]
  },
  {
   "cell_type": "code",
   "execution_count": 12,
   "metadata": {},
   "outputs": [],
   "source": [
    "df = pd.read_csv(\"train.csv\", index_col=0)\n",
    "df_oh = df[['cleared_text', 'target']]"
   ]
  },
  {
   "cell_type": "markdown",
   "metadata": {},
   "source": [
    "Lemmatization"
   ]
  },
  {
   "cell_type": "code",
   "execution_count": 13,
   "metadata": {},
   "outputs": [],
   "source": [
    "lemmatizer = WordNetLemmatizer()\n",
    "df_oh['cleared_text'] = df_oh['cleared_text'].map(lambda x: re.sub('\\d+', '0', x))\n",
    "df_oh['cleared_text'] = df_oh['cleared_text'].apply(lambda x: \" \".join(lemmatizer.lemmatize(word) for word in x.split(\" \")))"
   ]
  },
  {
   "cell_type": "markdown",
   "metadata": {},
   "source": [
    "Word frequencies using TfidfVectorizer"
   ]
  },
  {
   "cell_type": "code",
   "execution_count": 16,
   "metadata": {
    "ExecuteTime": {
     "end_time": "2021-01-13T10:00:13.068262Z",
     "start_time": "2021-01-13T10:00:04.570086Z"
    }
   },
   "outputs": [],
   "source": [
    "vectorizer = TfidfVectorizer()\n",
    "X_tf_idf = vectorizer.fit_transform(df_oh['cleared_text'].tolist())"
   ]
  },
  {
   "cell_type": "markdown",
   "metadata": {},
   "source": [
    "LDA"
   ]
  },
  {
   "cell_type": "code",
   "execution_count": 22,
   "metadata": {
    "ExecuteTime": {
     "end_time": "2021-01-13T12:19:27.370718Z",
     "start_time": "2021-01-13T12:17:18.375198Z"
    }
   },
   "outputs": [
    {
     "name": "stdout",
     "output_type": "stream",
     "text": [
      "Wall time: 5min 14s\n"
     ]
    },
    {
     "data": {
      "text/plain": [
       "LatentDirichletAllocation(random_state=1)"
      ]
     },
     "execution_count": 22,
     "metadata": {},
     "output_type": "execute_result"
    }
   ],
   "source": [
    "%%time\n",
    "lda = LatentDirichletAllocation(n_components=10, random_state=1)\n",
    "lda.fit(X_tf_idf)"
   ]
  },
  {
   "cell_type": "markdown",
   "metadata": {},
   "source": [
    "Top 10 words of each topic"
   ]
  },
  {
   "cell_type": "code",
   "execution_count": 24,
   "metadata": {
    "ExecuteTime": {
     "end_time": "2021-01-13T12:19:27.794412Z",
     "start_time": "2021-01-13T12:19:27.373185Z"
    }
   },
   "outputs": [
    {
     "name": "stdout",
     "output_type": "stream",
     "text": [
      "['unvaccinated', 'fdh', 'tri', 'bronchitis', 'trey', 'neice', 'miralax', 'croup', 'zyprexa', 'hickies'] \n",
      "\n",
      "['im', 'feel', 'life', 'like', 'want', 'it', 'get', 'time', 'know', 'year'] \n",
      "\n",
      "['stacy', 'bridget', 'mj', 'therere', 'dysphoric', 'rita', 'bagger', 'jenn', 'kardashian', 'exfoliating'] \n",
      "\n",
      "['like', 'im', 'time', 'friend', 'know', 'want', 'love', 'feel', 'me', 'it'] \n",
      "\n",
      "['seth', 'puree', 'shouldt', 'dysplasia', 'hsv', 'friending', 'locus', 'synergy', 'hyperthyroidism', 'chapstick'] \n",
      "\n",
      "['christ', 'jesus', 'adrian', 'lofty', 'idealizing', 'audrey', 'josie', 'vashikaran', 'saya', 'discouragement'] \n",
      "\n",
      "['food', 'clean', 'eat', 'dish', 'meal', 'bra', 'clothes', 'laundry', 'kitchen', 'cheese'] \n",
      "\n",
      "['yeast', 'de', 'monistat', 'bv', 'que', 'diflucan', 'infection', 'para', 'nina', 'yi'] \n",
      "\n",
      "['que', 'de', 'la', 'en', 'por', 'nd', 'mi', 'samantha', 'ella', 'glucose'] \n",
      "\n",
      "['sleep', 'potty', 'baby', 'bed', 'nap', 'son', 'hair', 'daycare', 'toddler', 'old'] \n",
      "\n"
     ]
    }
   ],
   "source": [
    "vocab = vectorizer.get_feature_names()\n",
    "\n",
    "n_top_words = 10\n",
    "\n",
    "topic_words = {}\n",
    "\n",
    "for topic, comp in enumerate(lda.components_):    \n",
    "    word_idx = np.argsort(comp)[::-1][:n_top_words]\n",
    "    print([vocab[x] for x in word_idx],\"\\n\")"
   ]
  },
  {
   "cell_type": "markdown",
   "metadata": {},
   "source": [
    "### Gensim LDA"
   ]
  },
  {
   "cell_type": "markdown",
   "metadata": {},
   "source": [
    "Clearing Text"
   ]
  },
  {
   "cell_type": "code",
   "execution_count": 133,
   "metadata": {},
   "outputs": [],
   "source": [
    "def sent_to_words(sentences):\n",
    "    for sentence in sentences:\n",
    "        yield(gensim.utils.simple_preprocess(str(sentence), deacc=True))"
   ]
  },
  {
   "cell_type": "code",
   "execution_count": 135,
   "metadata": {},
   "outputs": [],
   "source": [
    "data_words = list(sent_to_words(df_oh['cleared_text']))"
   ]
  },
  {
   "cell_type": "markdown",
   "metadata": {},
   "source": [
    "Building a bigram model"
   ]
  },
  {
   "cell_type": "code",
   "execution_count": 137,
   "metadata": {},
   "outputs": [],
   "source": [
    "bigram = gensim.models.Phrases(data_words, min_count=5, threshold=100)\n",
    "bigram_mod = gensim.models.phrases.Phraser(bigram)"
   ]
  },
  {
   "cell_type": "code",
   "execution_count": 149,
   "metadata": {},
   "outputs": [],
   "source": [
    "def make_bigrams(texts):\n",
    "    return [bigram_mod[doc] for doc in texts]"
   ]
  },
  {
   "cell_type": "markdown",
   "metadata": {},
   "source": [
    "Lemmatization"
   ]
  },
  {
   "cell_type": "code",
   "execution_count": 147,
   "metadata": {},
   "outputs": [],
   "source": [
    "nlp = spacy.load('en_core_web_sm', disable=['parser', 'ner'])"
   ]
  },
  {
   "cell_type": "code",
   "execution_count": 148,
   "metadata": {},
   "outputs": [],
   "source": [
    "def lemmatization(texts, allowed_postags=['NOUN', 'ADJ', 'VERB', 'ADV']):\n",
    "    texts_out = []\n",
    "    for sent in texts:\n",
    "        doc = nlp(\" \".join(sent)) \n",
    "        texts_out.append([token.lemma_ for token in doc if token.pos_ in allowed_postags])\n",
    "    return texts_out"
   ]
  },
  {
   "cell_type": "code",
   "execution_count": 182,
   "metadata": {},
   "outputs": [],
   "source": [
    "%%time\n",
    "data_words_bigrams = make_bigrams(data_words)\n",
    "data_lemmatized = lemmatization(data_words_bigrams)"
   ]
  },
  {
   "cell_type": "markdown",
   "metadata": {},
   "source": [
    "Creating a dictionary and corpus"
   ]
  },
  {
   "cell_type": "code",
   "execution_count": null,
   "metadata": {},
   "outputs": [],
   "source": [
    "# Create Dictionary\n",
    "id2word = corpora.Dictionary(data_lemmatized)\n",
    "# Create Corpus\n",
    "texts = data_lemmatized\n",
    "# Term Document Frequency\n",
    "corpus = [id2word.doc2bow(text) for text in texts]"
   ]
  },
  {
   "cell_type": "markdown",
   "metadata": {},
   "source": [
    "LDA"
   ]
  },
  {
   "cell_type": "code",
   "execution_count": 189,
   "metadata": {},
   "outputs": [
    {
     "name": "stdout",
     "output_type": "stream",
     "text": [
      "Wall time: 11min 38s\n"
     ]
    }
   ],
   "source": [
    "%%time\n",
    "lda_model = gensim.models.ldamodel.LdaModel(corpus=corpus,\n",
    "                                           id2word=id2word,\n",
    "                                           num_topics=10, \n",
    "                                           random_state=100,\n",
    "                                           update_every=1,\n",
    "                                           chunksize=1000,\n",
    "                                           passes=10,\n",
    "                                           alpha='auto',\n",
    "                                           per_word_topics=True)"
   ]
  },
  {
   "cell_type": "markdown",
   "metadata": {},
   "source": [
    "Keywords for each topic and weight"
   ]
  },
  {
   "cell_type": "code",
   "execution_count": 190,
   "metadata": {},
   "outputs": [
    {
     "data": {
      "text/plain": [
       "[(0,\n",
       "  '0.113*\"school\" + 0.042*\"college\" + 0.034*\"class\" + 0.032*\"high\" + 0.030*\"year\" + 0.022*\"study\" + 0.017*\"student\" + 0.017*\"parent\" + 0.016*\"university\" + 0.016*\"grade\"'),\n",
       " (1,\n",
       "  '0.054*\"mom\" + 0.039*\"family\" + 0.033*\"mother\" + 0.032*\"kid\" + 0.031*\"dad\" + 0.031*\"child\" + 0.030*\"parent\" + 0.026*\"sister\" + 0.024*\"old\" + 0.020*\"brother\"'),\n",
       " (2,\n",
       "  '0.037*\"friend\" + 0.035*\"woman\" + 0.032*\"guy\" + 0.023*\"sex\" + 0.021*\"girl\" + 0.020*\"relationship\" + 0.018*\"man\" + 0.015*\"date\" + 0.013*\"meet\" + 0.011*\"really\"'),\n",
       " (3,\n",
       "  '0.041*\"go\" + 0.037*\"day\" + 0.027*\"get\" + 0.022*\"home\" + 0.021*\"night\" + 0.020*\"time\" + 0.018*\"work\" + 0.016*\"hour\" + 0.015*\"week\" + 0.014*\"sleep\"'),\n",
       " (4,\n",
       "  '0.025*\"life\" + 0.023*\"people\" + 0.013*\"make\" + 0.013*\"feel\" + 0.013*\"love\" + 0.010*\"way\" + 0.010*\"thing\" + 0.008*\"think\" + 0.008*\"be\" + 0.008*\"good\"'),\n",
       " (5,\n",
       "  '0.025*\"look\" + 0.013*\"walk\" + 0.013*\"body\" + 0.011*\"wear\" + 0.010*\"man\" + 0.009*\"hand\" + 0.009*\"face\" + 0.008*\"hair\" + 0.008*\"eye\" + 0.007*\"pain\"'),\n",
       " (6,\n",
       "  '0.304*\"m\" + 0.237*\"do\" + 0.127*\"ve\" + 0.059*\"s\" + 0.046*\"be\" + 0.033*\"d\" + 0.027*\"re\" + 0.027*\"ill\" + 0.018*\"have\" + 0.018*\"scared\"'),\n",
       " (7,\n",
       "  '0.025*\"work\" + 0.020*\"job\" + 0.019*\"get\" + 0.016*\"year\" + 0.014*\"take\" + 0.014*\"help\" + 0.014*\"amp\" + 0.010*\"doctor\" + 0.009*\"period\" + 0.009*\"month\"'),\n",
       " (8,\n",
       "  '0.032*\"feel\" + 0.029*\"get\" + 0.028*\"want\" + 0.027*\"know\" + 0.025*\"go\" + 0.016*\"think\" + 0.015*\"time\" + 0.015*\"even\" + 0.015*\"really\" + 0.015*\"make\"'),\n",
       " (9,\n",
       "  '0.068*\"say\" + 0.042*\"tell\" + 0.038*\"ask\" + 0.025*\"call\" + 0.016*\"talk\" + 0.013*\"send\" + 0.013*\"message\" + 0.013*\"post\" + 0.012*\"phone\" + 0.009*\"see\"')]"
      ]
     },
     "execution_count": 190,
     "metadata": {},
     "output_type": "execute_result"
    }
   ],
   "source": [
    "lda_model.print_topics()"
   ]
  },
  {
   "cell_type": "markdown",
   "metadata": {},
   "source": [
    "Visualization of the topic and keywords"
   ]
  },
  {
   "cell_type": "code",
   "execution_count": 193,
   "metadata": {},
   "outputs": [
    {
     "data": {
      "text/html": [
       "\n",
       "<link rel=\"stylesheet\" type=\"text/css\" href=\"https://cdn.jsdelivr.net/gh/bmabey/pyLDAvis@3.3.1/pyLDAvis/js/ldavis.v1.0.0.css\">\n",
       "\n",
       "\n",
       "<div id=\"ldavis_el1000831416285978567804784198\"></div>\n",
       "<script type=\"text/javascript\">\n",
       "\n",
       "var ldavis_el1000831416285978567804784198_data = {\"mdsDat\": {\"x\": [-0.09159210440594442, -0.1031246247967125, -0.11847642353420428, -0.0971559142659271, -0.08164579053910492, 0.028059128861797195, -0.06766588406803155, -0.046249285251297054, 0.47588222601865665, 0.10196867198076824], \"y\": [0.1340478429077904, 0.07102871614715907, -0.02596332185801669, 0.03492405453292529, 0.009438343201895153, -0.18356388959299416, 0.105509787271164, 0.059984931225302955, 0.1516380228291883, -0.35704448666441485], \"topics\": [1, 2, 3, 4, 5, 6, 7, 8, 9, 10], \"cluster\": [1, 1, 1, 1, 1, 1, 1, 1, 1, 1], \"Freq\": [37.346714515187294, 15.844471206912909, 9.822665349259095, 9.626081760401068, 8.213031897568486, 5.4612654590752765, 4.459331417173825, 4.1767524822748525, 2.849825851414422, 2.1998600607327714]}, \"tinfo\": {\"Term\": [\"do\", \"m\", \"say\", \"tell\", \"ve\", \"go\", \"friend\", \"be\", \"year\", \"school\", \"day\", \"mom\", \"get\", \"family\", \"ask\", \"guy\", \"woman\", \"feel\", \"work\", \"talk\", \"s\", \"life\", \"parent\", \"mother\", \"sex\", \"really\", \"dad\", \"child\", \"kid\", \"relationship\", \"sexually_assaulte\", \"everytime\", \"alot\", \"lost_virginity\", \"heartbroken\", \"closure\", \"bob\", \"broke\", \"self_harme\", \"jane\", \"messed\", \"hurt\", \"joe\", \"anymore\", \"paycheck\", \"attempted_suicide\", \"sexually_harasse\", \"dismissive\", \"bff\", \"forgave\", \"cv\", \"devastated\", \"reporting\", \"burst_tear\", \"tolerance\", \"moody\", \"examination\", \"hooked\", \"apologetic\", \"stressed\", \"shit\", \"break\", \"stupid\", \"sad\", \"shitty\", \"ruin\", \"badly\", \"sorry\", \"fuck\", \"bad\", \"fucking\", \"okay\", \"scare\", \"fault\", \"still\", \"want\", \"know\", \"again\", \"try\", \"kill\", \"honestly\", \"guilty\", \"even\", \"feel\", \"stop\", \"guess\", \"really\", \"hate\", \"horrible\", \"end\", \"never\", \"happen\", \"get\", \"think\", \"now\", \"go\", \"thing\", \"tell\", \"ever\", \"much\", \"make\", \"always\", \"time\", \"say\", \"keep\", \"start\", \"see\", \"do\", \"talk\", \"back\", \"well\", \"year\", \"good\", \"friend\", \"day\", \"world\", \"self\", \"human\", \"society\", \"happiness\", \"reality\", \"joy\", \"existence\", \"iud\", \"passion\", \"overcome\", \"mindset\", \"journey\", \"gp\", \"concept\", \"muscle\", \"misery\", \"worthy\", \"universe\", \"inspire\", \"cure\", \"define\", \"valuable\", \"meaningful\", \"sin\", \"human_being\", \"depth\", \"awareness\", \"realization\", \"void\", \"earth\", \"goal\", \"create\", \"loneliness\", \"achieve\", \"perhaps\", \"exist\", \"value\", \"learn\", \"brain\", \"power\", \"soul\", \"desire\", \"fear\", \"dream\", \"path\", \"people\", \"life\", \"positive\", \"truly\", \"other\", \"choose\", \"purpose\", \"love\", \"many\", \"negative\", \"write\", \"important\", \"read\", \"simply\", \"change\", \"become\", \"experience\", \"way\", \"person\", \"believe\", \"matter\", \"make\", \"hope\", \"be\", \"thing\", \"well\", \"good\", \"find\", \"feel\", \"share\", \"need\", \"think\", \"much\", \"mind\", \"look\", \"time\", \"know\", \"even\", \"want\", \"give\", \"pregnant\", \"appointment\", \"pregnancy\", \"symptom\", \"medication\", \"medical\", \"afford\", \"insurance\", \"diagnose\", \"treatment\", \"financial\", \"disorder\", \"birth_control\", \"hire\", \"clinic\", \"debt\", \"procedure\", \"me\", \"psychiatrist\", \"ultrasound\", \"med\", \"cyst\", \"diagnosis\", \"management\", \"gynecologist\", \"income\", \"miscarriage\", \"industry\", \"gyno\", \"uterus\", \"job\", \"doctor\", \"health\", \"bill\", \"severe\", \"cost\", \"money\", \"pay\", \"period\", \"pill\", \"amp\", \"interview\", \"test\", \"work\", \"rent\", \"due\", \"surgery\", \"help\", \"issue\", \"company\", \"therapy\", \"save\", \"option\", \"depression\", \"take\", \"year\", \"month\", \"support\", \"also\", \"get\", \"need\", \"new\", \"anxiety\", \"week\", \"live\", \"move\", \"able\", \"time\", \"find\", \"go\", \"well\", \"use\", \"sex\", \"date\", \"sexual\", \"friendship\", \"attractive\", \"attract\", \"sexually\", \"mutual\", \"virgin\", \"flirt\", \"casual\", \"tinder\", \"intimate\", \"initiate\", \"sexuality\", \"orgasm\", \"hookup\", \"virginity\", \"intimacy\", \"bisexual\", \"acquaintance\", \"lube\", \"sexually_active\", \"adam\", \"consensual\", \"platonic\", \"foreplay\", \"penetration\", \"male_dominate\", \"flirty\", \"awkward\", \"hook\", \"bi\", \"girl\", \"guy\", \"masturbate\", \"woman\", \"female\", \"male\", \"meet\", \"relationship\", \"kiss\", \"consent\", \"crush\", \"romantic\", \"insecure\", \"friend\", \"interested\", \"bf\", \"man\", \"group\", \"girlfriend\", \"boyfriend\", \"together\", \"hang\", \"partner\", \"party\", \"condom\", \"like\", \"uncomfortable\", \"also\", \"conversation\", \"ex\", \"talk\", \"pretty\", \"really\", \"first\", \"kind\", \"year\", \"lot\", \"think\", \"good\", \"look\", \"seem\", \"time\", \"see\", \"ask\", \"make\", \"cook\", \"hotel\", \"smoke\", \"restaurant\", \"meal\", \"uber\", \"beer\", \"shopping\", \"nausea\", \"dish\", \"tom\", \"ticket\", \"machine\", \"laundry\", \"bike\", \"drank\", \"dd\", \"cooking\", \"aggressively\", \"breakfast\", \"thanksgive\", \"cleaning\", \"van\", \"pizza\", \"plant\", \"gas_station\", \"cashier\", \"sam\", \"midnight\", \"amp_nbsp\", \"food\", \"eat\", \"clean\", \"sunday\", \"morning\", \"drink\", \"wake\", \"bed\", \"dinner\", \"dog\", \"car\", \"saturday\", \"sleep\", \"hour\", \"couch\", \"drinking\", \"night\", \"parking\", \"weekend\", \"home\", \"friday\", \"pack\", \"drive\", \"day\", \"minute\", \"apartment\", \"buy\", \"trip\", \"room\", \"house\", \"week\", \"go\", \"spend\", \"work\", \"next\", \"get\", \"walk\", \"time\", \"come\", \"take\", \"back\", \"leave\", \"start\", \"stay\", \"last\", \"mom\", \"mother\", \"dad\", \"sister\", \"brother\", \"father\", \"daughter\", \"son\", \"cousin\", \"mum\", \"grandmother\", \"aunt\", \"uncle\", \"grandma\", \"sible\", \"church\", \"molest\", \"grandparent\", \"grandfather\", \"biological\", \"foster\", \"funeral\", \"racist\", \"grandpa\", \"mil\", \"sibling\", \"pedophile\", \"candidate\", \"stepdad\", \"sexually_abuse\", \"divorce\", \"child\", \"kid\", \"parent\", \"baby\", \"family\", \"abuse\", \"wife\", \"husband\", \"old\", \"young\", \"raise\", \"rape\", \"house\", \"marry\", \"abusive\", \"age\", \"live\", \"year\", \"grow\", \"home\", \"call\", \"tell\", \"come\", \"die\", \"message\", \"reply\", \"photo\", \"email\", \"delete\", \"facebook\", \"instagram\", \"feminist\", \"harassment\", \"incel\", \"profile\", \"nude\", \"pic\", \"feminism\", \"catcall\", \"sexism\", \"stalker\", \"misogyny\", \"twitter\", \"selfie\", \"log\", \"troll\", \"graphic\", \"rating\", \"predator\", \"snapchat\", \"password\", \"screenshot\", \"presentation\", \"lewd\", \"stalk\", \"app\", \"respond\", \"send\", \"report\", \"account\", \"text\", \"phone\", \"block\", \"texte\", \"comment\", \"number\", \"ask\", \"video\", \"social_medium\", \"call\", \"say\", \"picture\", \"name\", \"coworker\", \"tell\", \"answer\", \"post\", \"contact\", \"question\", \"response\", \"talk\", \"speak\", \"follow\", \"later\", \"ignore\", \"see\", \"happen\", \"conversation\", \"story\", \"show\", \"look\", \"wear\", \"hair\", \"arm\", \"breast\", \"size\", \"leg\", \"skin\", \"bra\", \"shirt\", \"finger\", \"boob\", \"pant\", \"red\", \"butt\", \"neck\", \"rapist\", \"makeup\", \"tampon\", \"underwear\", \"pee\", \"hip\", \"shave\", \"bleeding\", \"nipple\", \"cervix\", \"knee\", \"thigh\", \"nose\", \"implant\", \"inch\", \"vagina\", \"cup\", \"stare\", \"smell\", \"bleed\", \"mouth\", \"fat\", \"dress\", \"eye\", \"seat\", \"body\", \"smile\", \"grab\", \"blood\", \"hand\", \"walk\", \"look\", \"face\", \"door\", \"pull\", \"black\", \"weight\", \"front\", \"pain\", \"man\", \"sit\", \"stand\", \"head\", \"remember\", \"touch\", \"see\", \"put\", \"little\", \"room\", \"old\", \"cry\", \"hold\", \"stop\", \"take\", \"m\", \"ve\", \"s\", \"d\", \"i\", \"re\", \"bikini\", \"sexual_harassment\", \"nt\", \"herpe\", \"lisa\", \"smear\", \"anyone\", \"soooo\", \"downvote\", \"lengthy\", \"everything\", \"anorexic\", \"did\", \"gm\", \"sex_offender\", \"rly\", \"temptation\", \"wig\", \"idc\", \"maker\", \"fingering\", \"daniel\", \"rlly\", \"we\", \"ill\", \"do\", \"everyone\", \"scared\", \"fianc\", \"have\", \"shed\", \"be\", \"el\", \"shell\", \"idk\", \"like\", \"tired\", \"gon\", \"wanna\", \"hell\", \"lol\", \"know\", \"worried\", \"sorry\", \"sure\", \"school\", \"class\", \"study\", \"student\", \"university\", \"grade\", \"graduate\", \"bully\", \"teacher\", \"exam\", \"semester\", \"senior\", \"campus\", \"grad\", \"overdose\", \"acne\", \"classmate\", \"professor\", \"math\", \"effective\", \"freshman\", \"junior\", \"internship\", \"academic\", \"director\", \"officer\", \"elementary\", \"guide\", \"dorm\", \"gpa\", \"college\", \"high\", \"homework\", \"uni\", \"program\", \"summer\", \"highschool\", \"fail\", \"degree\", \"parent\", \"year\", \"play\", \"finish\", \"middle\", \"social\", \"friend\", \"game\", \"start\", \"old\", \"kid\", \"go\", \"group\"], \"Freq\": [206877.0, 143722.0, 148098.0, 128857.0, 60181.0, 226621.0, 105437.0, 77317.0, 118050.0, 41331.0, 99314.0, 48923.0, 253242.0, 54079.0, 61498.0, 55136.0, 63024.0, 236516.0, 86492.0, 72869.0, 27693.0, 106327.0, 35200.0, 29800.0, 36304.0, 112970.0, 28320.0, 30018.0, 33067.0, 41447.0, 2003.5947916421494, 1965.1309068121225, 1428.040003000622, 937.8320859179382, 794.245678963279, 787.3742272777013, 784.0433620082113, 736.9388128572375, 623.5978151604012, 495.9128455421568, 487.90008399288206, 27127.1661123708, 457.53356054777976, 26900.078722128703, 420.43218781271526, 417.72080585280764, 411.6780633609341, 411.42989183666504, 405.6287023614286, 386.0923986430663, 355.15420722923307, 315.32450105042795, 312.0567142108183, 296.33863655012664, 293.258981915553, 287.85969793947993, 286.91910445009205, 275.177354136525, 260.2857344764654, 255.3987770197425, 23363.44071859412, 27912.543621441266, 10078.968143497315, 12057.028462552056, 4540.084443304837, 6298.634347711856, 3043.032405772028, 14931.128458666015, 23258.717378025034, 53819.901668167906, 19045.22305874944, 3737.6111939493426, 6550.30548668315, 7013.627675048824, 57741.83298685268, 174977.16201511887, 168321.73337597703, 25929.2576529321, 86994.9062531457, 19026.81010037406, 13132.683811112336, 4745.284473831786, 94555.33611872821, 195475.95414659297, 32431.046146906978, 15285.226361081954, 94249.94034713879, 25739.30450284392, 6862.733625238935, 38247.705460744015, 70082.31295111813, 40385.686213350564, 177584.6789693519, 100760.01899467329, 33279.71928096549, 156612.41735171573, 82199.76847839804, 90166.26891051816, 30008.91512225744, 51154.37380970747, 92423.99152310734, 42356.79484819864, 95386.23023038045, 89155.76921270983, 37862.92073513268, 52170.96505587348, 50460.51360235877, 88677.68928313609, 45524.598819562714, 42244.138663434336, 44692.94974780182, 51846.15355446665, 42492.362055191836, 42205.33601907082, 41698.80677211991, 18028.681345803656, 12634.559261408904, 5433.863040568386, 4611.29138490131, 4133.332975924743, 3562.660339182444, 2277.4305976780474, 2108.8891145258312, 1912.0254152375053, 1533.2488582618287, 1523.0020351097469, 1423.303677818362, 1399.4949232976412, 1134.4147810468014, 1059.5634608785808, 1051.615315487519, 1023.1195046738943, 940.6843434378475, 909.9442560121425, 910.0490851924025, 881.8057201598118, 859.2425380127038, 827.7248656252603, 817.0432153122025, 801.9250443345736, 782.5812335506224, 768.8952950685999, 768.2437801851624, 758.821913781817, 755.5721327876519, 2037.140569999866, 3998.2851799266473, 3655.653602054814, 2108.1322356193773, 1736.6944853229747, 2090.4601140736963, 4803.910572074623, 3389.808634662282, 9980.503244321533, 5429.395422617834, 3120.793425034077, 1972.6787231874775, 3598.0782377619776, 8204.437761200157, 6246.129651629038, 1929.5404458250127, 59093.59400243678, 65205.745237956144, 5070.8096381339665, 5735.508853954054, 13546.250390269648, 5815.795169806988, 2560.9936830933134, 32930.4971203534, 17522.666308322598, 4802.284955719514, 8726.158838254265, 4843.599266470343, 11579.690421027924, 4152.947340737338, 13508.78816986283, 12373.87995817017, 13550.337200177622, 25198.306564364455, 15905.252912974867, 9861.584777735148, 8367.040350384996, 35047.009883529354, 10720.08136291485, 21844.15910532977, 25142.259933481706, 19940.215469766328, 20042.300142624677, 15759.42115888502, 33138.31684428883, 7654.1939783823855, 15685.121414410893, 22121.597629935073, 15312.616576409308, 8982.630304309854, 12076.84846246253, 15744.87954839882, 14259.86510209492, 12660.582570565668, 13852.36137661041, 10953.200677351491, 8850.451279601968, 5717.60574707979, 5061.747435797238, 4720.605424174882, 4507.4516814246745, 4216.785144231364, 3738.944185738775, 3019.8291559241065, 3766.3896233934092, 2689.0098301392118, 2081.8168001853965, 2074.7171826784115, 2046.4894248111775, 2019.055355335947, 1938.0489298925686, 1904.411623856299, 1831.2071799373696, 1746.6506615360136, 1734.0251614907668, 1677.5993924924037, 1620.3602302577385, 1363.403944918535, 1351.116458740878, 1200.6922352029633, 1184.536915453008, 1154.6242986633845, 1152.1454671445063, 1106.0205002382545, 1100.8244843723432, 1040.7974656086883, 32915.938970115, 16395.42479349534, 5780.654806868141, 3181.1231589332647, 3133.0321601340493, 2180.5888479912, 13686.46646107862, 13835.010671947723, 15186.400724872905, 7905.8343905692855, 21975.86549834936, 2012.2274373166997, 5321.546334396224, 41317.523749008746, 2212.48814886637, 7111.134988477617, 2763.5413195338137, 23190.162886457645, 10483.519808144942, 4610.516732712458, 5270.726404131259, 4218.898867721741, 4213.573633549947, 8702.71799886363, 23460.02982367546, 25239.072596663776, 15153.783144529107, 7242.74061203588, 14413.854115045033, 31335.70746580244, 13562.201649900348, 8969.368499188953, 6817.616175072032, 10477.634880607193, 10068.284171504663, 8083.025655655945, 6854.851509889429, 10257.763680647608, 7812.888155768333, 9434.405098280351, 7673.772712896283, 6983.645403741956, 36303.886101537, 24212.892631100614, 10716.16187678378, 5155.242478752351, 4203.563051552019, 3126.5845647081114, 2513.0323054496234, 2488.448199917884, 2306.155911768312, 1926.0767128613666, 1744.4822016984588, 1670.3694845893717, 1569.848006693636, 1568.345316658226, 1336.2692028631404, 1319.0156549241342, 1105.562276800801, 1077.0891507832507, 1082.0994792047886, 959.3517246930004, 813.2119158081691, 739.1897166024877, 726.5373561616254, 724.1048383707692, 710.5129020925557, 687.8912247066517, 681.9525539516723, 672.3957665489725, 668.05067508831, 661.9045558664998, 3617.988530072545, 2175.3037876382655, 1084.3728247439637, 33008.06443700005, 50625.766551279776, 1496.6408399741074, 55067.96858955986, 10225.649535977613, 10377.488630577493, 20689.636518016352, 32327.224232032644, 5345.560316315062, 3152.630325492384, 3609.6289463861203, 1916.4144140769022, 2582.6131857004066, 58905.60387196507, 4943.030634908243, 4685.130923757449, 28423.591649962764, 7601.430236961427, 7898.23092227986, 15409.077154556371, 13777.531216512647, 8004.859712747536, 7955.487998869426, 5535.20377228768, 3766.830414422631, 7293.249733665703, 5757.243168114265, 16082.04610832137, 6135.185773145335, 5538.604274611726, 15790.622650659612, 9167.768377135928, 17358.537566292005, 11276.105070218267, 8056.565024594884, 13275.513539569798, 9540.664260906347, 12254.695145165055, 10177.782554590167, 9288.183369228358, 8160.954541390614, 9731.545444764304, 8790.53580382306, 8436.73501992186, 8255.812105182786, 3167.3243101459034, 3041.57669522785, 2894.8087792681426, 2484.5883035202464, 1852.7928544533731, 1666.6641927058274, 1662.3863398123212, 1428.752171585127, 1186.3188830995327, 1170.5079527462162, 1100.8196490380994, 1025.413600389331, 962.7354433514972, 954.9380215653277, 924.0563848206583, 890.2215356657271, 845.6010411863617, 836.3613510321412, 816.9022136144944, 794.1590799165846, 775.2419020867126, 769.7689974099909, 765.0142961215116, 758.6442510923874, 756.8455345885593, 715.3053064771859, 618.320046109865, 586.3966302803642, 583.1008316062723, 526.6744976325302, 8080.50624190508, 16084.847279842883, 7092.093621434046, 1747.9616161427202, 12979.017402081246, 13009.94379286963, 11065.848411861585, 13295.196086956372, 4768.163621671257, 7391.765430773425, 17791.90496740194, 2098.4469290831526, 19404.466194688368, 21420.856228173332, 2465.9185006966036, 2542.178757500088, 28794.170636067785, 1679.1116784499513, 6803.427029470741, 29602.563323731523, 2247.6245928621065, 2086.711705925008, 10165.480065141433, 50511.127855366976, 8834.244816120812, 4951.667240925546, 7495.4357571112005, 4283.2414387908875, 10741.433081886315, 14624.754603946296, 20121.886981246043, 55648.23937761938, 10331.32635269908, 25026.192562317403, 10724.047284458438, 36661.00697377706, 8630.691068439757, 27147.381516148707, 17361.29027196021, 16951.732948166253, 14018.579854772113, 11366.89468521252, 11324.541676140878, 8118.218137827511, 8298.788743399233, 48922.848801718304, 29799.97313230932, 28319.147531755414, 23246.661922761123, 17896.646871234007, 16813.53386080767, 11263.786907384492, 8061.855370564472, 4933.501353964829, 4204.923151133168, 3180.0413660131107, 3074.817484999723, 2820.2147834409875, 2637.538463809909, 2598.804027786324, 2143.6831479364214, 1669.5073905773368, 1640.1655022413634, 1379.587036874333, 1356.9751646227733, 1252.9009916179834, 1247.1841596664906, 1021.9106000016317, 983.2975185342042, 919.9805681739539, 843.4423970848155, 781.3475776996199, 742.5035328082552, 609.5812117493592, 900.4635531319042, 4793.121100169567, 27804.77613260151, 29225.625614734385, 27365.764227341562, 10394.56888684579, 35165.47943002595, 10116.505989909852, 8306.899715345846, 12578.299459684224, 21392.409812630696, 11050.98073754239, 5071.1553439464105, 8059.996286183334, 12377.713019455217, 6186.1778607224205, 4738.95693797452, 5738.725914629703, 10441.892107307434, 15252.154117164284, 5950.403234277547, 9054.768236166734, 6504.204329933024, 7353.540007651246, 5925.973887931033, 5478.8914833166145, 9350.537799276013, 4269.874375016951, 3173.9582574824976, 2928.8782507235173, 2393.8627000767237, 2289.7249948063436, 2209.7211887117396, 1517.4897664919351, 1109.44104110079, 976.6645981178, 963.9810846669312, 829.6424161148207, 820.6434910616422, 774.0823394184333, 694.8565925345703, 669.68477931685, 607.4163450044001, 583.0691257421018, 510.19674776580246, 499.4781015473653, 491.88343337826785, 491.74830198474905, 456.28929962681593, 453.0537156047897, 448.8006463797502, 436.34950559571223, 415.8407576483577, 408.18192142097564, 376.2091111786506, 351.4030171858786, 1145.3109856818523, 1536.5175741450737, 5116.676327704561, 9551.614689090611, 3897.939450031582, 3168.5987623409515, 6582.4970446912075, 8695.74904117839, 3804.1381351471773, 3159.959986966107, 6939.910032754238, 3953.6173688725403, 28335.029088523024, 2597.8414311973365, 1837.1693557987344, 18287.201600491706, 50388.71473230881, 4242.234284967455, 5853.61258673401, 3609.3603810487916, 30941.05461365272, 4050.840062693039, 9316.176062113129, 4048.378968210951, 5072.672866695522, 2743.5794778891495, 11553.908586637845, 4462.759085379778, 3940.839151625195, 5017.6992482047435, 3634.9673930478666, 6996.883010959181, 5134.922420459991, 3636.1826294117327, 3804.6298035401455, 3693.9913406653245, 3707.857146289278, 7903.176919341589, 5563.890851068518, 3576.307311770849, 3519.1460957450868, 2811.3998468649916, 2635.396635860836, 2329.232784015765, 2224.263038709834, 2051.583154218804, 1865.6818280934458, 1802.9417740621586, 1494.802939765142, 1377.7910704854678, 1377.547279309014, 1353.859735840331, 1200.2532480044147, 1187.5201943779064, 1127.2541454512266, 1046.389997947957, 959.4993100044122, 918.2182773889698, 908.0973986845239, 846.1301288450887, 818.1323315957458, 815.7441287392952, 795.8280976114354, 780.5435348777588, 774.4112925129937, 756.0045752977859, 691.644752065374, 2285.515370380118, 1273.1177256217618, 2799.369163191003, 1104.2564842839229, 2478.7354268595454, 1542.0391317956319, 2254.7034205222058, 2789.072893412155, 5251.94384713217, 1515.080629383121, 9221.442982288685, 3288.0059572477458, 2926.438667264509, 2791.438940758518, 6526.06388803029, 9300.957254986442, 17469.78502438553, 6192.303616213171, 3565.072615150186, 3994.3203962177495, 2222.3164153108, 3170.306219803973, 3096.3287299253207, 4991.233595258694, 6596.0166482291925, 4135.427631482699, 3502.876378184683, 4033.394659462985, 3754.9132715345936, 3034.332617640026, 4958.944557684621, 3789.489724535592, 3720.2707548307885, 3327.038326437543, 3607.7581459741937, 3397.5456994780534, 3166.937937746742, 3133.6892040411694, 3086.4423773658373, 143721.91726275138, 60180.545315020994, 27692.269964850828, 15352.78744634267, 4612.296175606602, 12917.957245919471, 696.0775074562688, 620.6455198237995, 467.87198392662253, 421.0921735513756, 347.3528609654895, 285.8514089384456, 265.1462152802152, 218.71818777289417, 198.70566197512437, 196.09588879946205, 177.1271540856667, 168.19481290353718, 162.240010399397, 157.8365953543274, 151.81691407374066, 127.0657089584612, 116.74425284263299, 115.4614368574227, 114.96819461958523, 114.17778944540134, 113.25758549054864, 111.89019759467281, 106.96189799387376, 103.52644241057314, 12645.663068819582, 111746.48641861991, 414.95632614130307, 8442.017486022914, 1029.2827548343907, 8703.383554029333, 981.515594200178, 21725.496014038716, 427.8085904996308, 689.2764636269804, 950.9341494339063, 1354.5732037637938, 1314.9225278572937, 903.4528347115953, 792.2811479214855, 790.4560217739934, 488.5660186002153, 1556.0275078059153, 506.3885661776526, 562.9070643158382, 449.889747431094, 41331.0167323633, 12320.142802673538, 8086.348802261438, 6262.904939713433, 5775.085185012027, 5760.986512998019, 5435.703413349376, 4353.604536912922, 4247.699856146999, 3940.164001343112, 2532.6464088786074, 2079.3898208706983, 1558.012225902876, 1294.0639676655574, 1266.701199028719, 1240.7336326931802, 1200.190785090342, 1186.1056916875382, 1181.4832778344428, 1134.264336300094, 1100.15588334932, 967.252595325808, 960.8975506829723, 789.8527924482021, 768.771319622093, 752.7436361537935, 734.7677614428765, 725.1123504803788, 691.9814726700349, 637.0263720006758, 15467.227648679853, 11511.188892977136, 907.2091647063868, 1884.4751371325806, 1959.394784990129, 2938.343571676205, 1011.5860819791236, 3159.3246061463774, 1899.0597536950831, 6025.889602201999, 11007.962846002692, 3386.7877301404706, 2409.3193515410044, 2018.9466698839342, 2100.078702100347, 4285.788200041918, 1994.1139359798417, 3353.4763416674223, 2554.196852989204, 2183.517570627826, 2133.4196240527663, 1914.4197089573836], \"Total\": [206877.0, 143722.0, 148098.0, 128857.0, 60181.0, 226621.0, 105437.0, 77317.0, 118050.0, 41331.0, 99314.0, 48923.0, 253242.0, 54079.0, 61498.0, 55136.0, 63024.0, 236516.0, 86492.0, 72869.0, 27693.0, 106327.0, 35200.0, 29800.0, 36304.0, 112970.0, 28320.0, 30018.0, 33067.0, 41447.0, 2004.5780077859595, 1966.1137266049443, 1429.0237440555684, 938.815530268733, 795.2285285681701, 788.3571924601513, 785.0267970083238, 737.9217260690126, 624.580524428895, 496.89599579531136, 488.88299529722013, 27183.402507603005, 458.51682708988903, 26960.05003743006, 421.4153974402768, 418.7036053283118, 412.6614705152167, 412.4130425365343, 406.6118705222107, 387.07527178797056, 356.1376550868072, 316.3073293177707, 313.04069020902665, 297.3217275714289, 294.241935623741, 288.8425477249528, 287.9025828846225, 276.16028159531834, 261.2689050397921, 256.3819976730461, 23657.92941285092, 28347.612750201493, 10183.50303492199, 12322.532917206141, 4607.063329383952, 6451.491427786752, 3098.1779691535926, 15550.25362160963, 24379.73039178958, 58091.16125109509, 20247.63169204267, 3870.4065275650887, 6873.008047148074, 7369.56746013804, 63466.2051193004, 196802.12532629035, 193324.5674190012, 28457.314829317173, 99462.56884395881, 20780.006097054633, 14236.598185074028, 5010.26068032661, 110450.98189797695, 236516.22453711918, 36623.51818743469, 16862.935107790912, 112970.77547511228, 29205.580400824987, 7386.502901126548, 46672.64906527342, 90591.35209045972, 50127.00573298021, 253242.72752559005, 135875.3818996421, 40767.766031903906, 226621.9759627335, 110908.61381680622, 128857.532114926, 37361.339732668675, 71324.84535819033, 149084.56384827208, 57067.19181508345, 158336.34834614448, 148098.421753947, 49732.034881859996, 80889.91896329472, 82293.23751867657, 206877.0785896232, 72869.92216478086, 63490.381362797474, 73527.81624219504, 118050.9435908179, 74664.78297884644, 105437.73929282886, 99314.77491246986, 18029.65562303115, 12635.533539769995, 5434.837310337271, 4612.265714782106, 4134.30717421164, 3563.6345980116907, 2278.40482924893, 2109.8633323073054, 1913.003641313841, 1534.2230791314885, 1523.9762798420502, 1424.2779075281444, 1400.469225386074, 1135.3896420339665, 1060.5378825644539, 1052.5897958074233, 1024.093724967942, 941.6586543982958, 910.9184586311974, 911.0234049292811, 882.7800151258798, 860.2167972173719, 828.6993430834749, 818.025417304631, 802.8993380082247, 783.5555735792547, 769.8697831537655, 769.2180637443125, 759.7962033478609, 756.5463647690799, 2053.4006922929457, 4065.313770172936, 3864.9509506737036, 2189.2195092390366, 1792.547223240837, 2175.06942287315, 5186.200112747773, 3613.6463230299973, 11493.461813594802, 6043.657152682922, 3354.49102225343, 2064.6360430391633, 3975.9836652251975, 9863.582305899638, 7379.335228127494, 2046.6616197088413, 93768.47231057075, 106327.1639344414, 6081.170143175374, 7268.396541021714, 20324.773605362716, 7490.283008605241, 2837.279306373071, 61666.32731791292, 28860.043899519438, 6194.542958972509, 13300.820394930455, 6339.097025600255, 19858.758168162705, 5195.732821891732, 26248.91689974628, 23343.990933123237, 26515.863737591553, 65681.52683510943, 38692.15101790257, 19124.418724452342, 14903.686231202506, 149084.56384827208, 22342.941672164114, 77317.44744404376, 110908.61381680622, 73527.81624219504, 74664.78297884644, 50899.38572107473, 236516.22453711918, 13128.893386684835, 59817.96840538523, 135875.3818996421, 71324.84535819033, 19691.142637432404, 54381.99496429394, 158336.34834614448, 193324.5674190012, 110450.98189797695, 196802.12532629035, 51982.670162347305, 8851.44735938122, 5718.6016074764575, 5062.7435179357135, 4721.601235579753, 4508.447432537879, 4217.780964693738, 3739.9400071943064, 3020.824918330132, 3767.748274832738, 2690.0057130298433, 2082.8126700376356, 2075.7129699623515, 2047.4855543807512, 2020.05125047353, 1939.0448038533254, 1905.4074035579652, 1832.203085877642, 1747.6464250122292, 1735.0209200645108, 1678.5954064115774, 1621.3561649234334, 1364.4000019939708, 1352.1122543345282, 1201.688147813797, 1185.5330031808978, 1155.6200707139778, 1153.1414536716682, 1107.0165251722278, 1101.820454256992, 1041.7936298129923, 32974.91253916889, 16417.192250117663, 5811.029131092115, 3187.3676706795495, 3203.622860656684, 2221.475176871247, 14815.051668958651, 15091.766004764273, 17557.950873272574, 8929.353417531518, 30784.868115482128, 2061.504620217099, 6685.127074408185, 86492.4752870473, 2323.239584164777, 10260.803561028744, 3088.0837781344635, 58927.60516995184, 21016.177535536157, 6546.35575509252, 8065.691686868771, 5870.303512756237, 5881.222783954737, 18510.3005386376, 87598.71070038543, 118050.9435908179, 49983.82768718967, 14782.451289262774, 55840.72907015438, 253242.72752559005, 59817.96840538523, 26298.91307776773, 15080.65815521894, 47416.13063429607, 46029.428473597574, 33092.80841536979, 21328.83308142486, 158336.34834614448, 50899.38572107473, 226621.9759627335, 73527.81624219504, 36972.09035870584, 36304.875548321135, 24213.882033053105, 10717.151417420426, 5156.240844898215, 4204.55243432331, 3127.5739386303107, 2514.021780806713, 2489.437578125755, 2307.1453541059554, 1927.1165916098598, 1745.4716522067624, 1671.359793738202, 1570.8374711618944, 1569.3347009089139, 1337.2586386767866, 1320.0050109903461, 1106.5517368300636, 1078.0786018378258, 1083.0955416045456, 960.3411890122967, 814.2012998751703, 740.1793901061652, 727.5271095681405, 725.0945567948569, 711.5024810772958, 688.8805337257181, 682.9419745688411, 673.385303861416, 669.0405119959661, 662.8939299121058, 3644.1588604932317, 2183.074519356473, 1087.771912959383, 34883.004508968, 55136.341447797524, 1517.9542216897114, 63024.799141408505, 11304.837565761763, 11577.301211449127, 25138.330648353985, 41447.22519050879, 6062.0657174764365, 3430.687328118225, 4004.7802836005526, 2017.3080766845599, 2827.3056234226406, 105437.73929282886, 6014.750105788861, 5675.6392483454965, 46491.31746917907, 10447.435803585544, 12192.389047663079, 28974.122138892515, 25178.132324189482, 12429.048417462223, 13031.835618627481, 8111.485441355634, 4742.974901765813, 13984.857903534863, 9644.006097748543, 55840.72907015438, 10761.06806247597, 9111.709662740708, 72869.92216478086, 24795.93799361234, 112970.77547511228, 50214.163360655424, 25948.106853334564, 118050.9435908179, 44665.16257095924, 135875.3818996421, 74664.78297884644, 54381.99496429394, 33730.93405068136, 158336.34834614448, 82293.23751867657, 61498.03079225665, 149084.56384827208, 3168.2893313291693, 3042.54173012173, 2895.7737026246527, 2485.6516679075103, 1853.7577441124677, 1667.6291441470805, 1663.3512552558052, 1429.7173357870604, 1187.2840374046084, 1171.4728954826182, 1101.7847929000034, 1026.3785787410632, 963.7006404215749, 955.9029208663048, 925.0212833144925, 891.1865000583753, 846.5672029161643, 837.326244270506, 817.8678333106303, 795.1239527320579, 776.208312629297, 770.7338965024708, 765.9797033598408, 759.6092022828271, 757.8105172525477, 716.2702497790683, 619.2850949021516, 587.3616622617853, 584.0657384229947, 527.6394905698332, 8113.052400127521, 16323.075794325807, 7153.255986219079, 1755.4316772258858, 13582.248898468906, 13659.427166282398, 11815.599036389634, 14285.069870280604, 4969.893921600977, 7895.160551029008, 20047.086198738303, 2184.619219316742, 22284.65241304274, 25114.239810337756, 2627.122109492859, 2720.131441147263, 37508.59478023877, 1759.388351818736, 8104.839557266384, 44005.77104767073, 2437.870597298224, 2261.787531020988, 14306.472274730604, 99314.77491246986, 12680.222595500538, 6319.321843593677, 10724.398529243723, 5412.071783227014, 17145.261707975427, 27506.870885193246, 47416.13063429607, 226621.9759627335, 20637.662132933317, 86492.4752870473, 23831.068312781725, 253242.72752559005, 19519.141785255983, 158336.34834614448, 73419.69300280027, 87598.71070038543, 63490.381362797474, 52863.29597713534, 80889.91896329472, 22184.416685452463, 44380.238792694836, 48923.78024033837, 29800.904547950333, 28320.078935725534, 23247.593353038195, 17897.578260501683, 16814.46524437485, 11264.718323562234, 8062.786731775732, 4934.432776434645, 4205.85460439157, 3180.9727473371386, 3075.748880906249, 2821.146149609222, 2638.4698843310057, 2599.73537591318, 2144.614579341896, 1670.4388933016783, 1641.0968601426555, 1380.5184461135793, 1357.9230816635732, 1253.8324180796537, 1248.1155644675703, 1022.842285542936, 984.229036769996, 920.9120266713037, 844.3737841161981, 782.279073994012, 743.4355281003632, 610.5125565921782, 901.8402398294145, 4968.2577881420975, 30018.62874117175, 33067.2043713299, 35200.9021029094, 13042.824601960005, 54079.966034608246, 13810.865495706257, 11628.952869029228, 19239.257139474033, 39379.99653086957, 17644.79561883123, 6809.062400489759, 14533.29740740572, 27506.870885193246, 10748.451851492244, 8207.174195266765, 13070.783208752333, 46029.428473597574, 118050.9435908179, 15017.36342832939, 44005.77104767073, 39665.123157422415, 128857.532114926, 73419.69300280027, 23668.605658536708, 9351.539699144296, 4270.876292591965, 3174.9601940605935, 2929.8801366120547, 2394.8645932558284, 2290.726883272328, 2210.723112674215, 1518.4920074974282, 1110.4430500969759, 977.6668965714351, 964.9829957389807, 830.6443377292997, 821.6453623610439, 775.0844712661152, 695.8589967677738, 670.6868649429858, 608.4183108170959, 584.07179498204, 511.19860267006936, 500.48007987418, 492.8853239137751, 492.750344986566, 457.2917486216278, 454.0561947201309, 449.802840403878, 437.3513744059167, 416.8426764222372, 409.1837826716255, 377.21113556534925, 352.4050936226027, 1148.9501440906306, 1608.6466915325582, 5637.648101436116, 11594.174607519297, 4578.671628560263, 3931.6420405454646, 8981.527129858874, 12575.138724327364, 5054.1201225057, 4201.149089961202, 10599.266542848192, 5576.176269953039, 61498.03079225665, 3508.8843667312462, 2318.7412107409245, 39665.123157422415, 148098.421753947, 6680.9442571462005, 10257.564764718785, 6067.168766957196, 128857.532114926, 7819.972680532593, 28187.239245076227, 8268.378785863986, 13982.34226542485, 4639.093450218032, 72869.92216478086, 12889.063308992467, 9848.295225852706, 19269.526959435476, 8629.610114921612, 82293.23751867657, 50127.00573298021, 10761.06806247597, 16754.914215294757, 16864.82451536823, 54381.99496429394, 7904.197593452704, 5564.911437605115, 3577.327941333913, 3520.1668313567384, 2812.420546640278, 2636.4172404927, 2330.2533488627423, 2225.2836699646023, 2052.6037987227824, 1866.702482447119, 1803.9624014558365, 1495.823619338928, 1378.811719946787, 1378.5679910561075, 1354.8803178848957, 1201.2744241139635, 1188.540879964793, 1128.2748509838502, 1047.410653628436, 960.5199338105119, 919.2389486383812, 909.1179711103786, 847.1508150205552, 819.1529786695504, 816.7652064464434, 796.8487864224845, 781.5641217252572, 775.431940431556, 757.025353516467, 692.6653311288446, 2305.4057375578377, 1305.5177241042963, 3010.222846108066, 1128.2496680807367, 2732.379064414323, 1648.8769597698602, 2556.8031841590837, 3282.4441564371095, 7682.366311278116, 1688.8287974542407, 15628.06201094176, 4499.888881628085, 3970.506875767262, 3759.1707455964784, 11722.872045637007, 19519.141785255983, 54381.99496429394, 13198.559477302131, 5961.264738336472, 7850.415549233316, 3037.3850614086195, 6591.599501975249, 6942.174258313461, 21880.502469720595, 46491.31746917907, 15033.28046516204, 9843.848510032607, 15344.340080317157, 16779.537359437254, 7358.881644313427, 82293.23751867657, 30207.094215725385, 30302.86100342004, 17145.261707975427, 39379.99653086957, 21785.774190249507, 11788.741334041666, 36623.51818743469, 87598.71070038543, 143722.9060470323, 60181.5341037558, 27693.258836767065, 15353.776303989533, 4613.284985421628, 12935.0340192604, 697.0673568751567, 621.6390397825865, 468.860858899865, 422.08305330480886, 348.3427418282218, 286.84143330279727, 266.13501299970113, 219.7080950321333, 199.6953496267577, 197.08582444649687, 178.11593071309647, 169.18443043815995, 163.22886841413015, 158.82705017074304, 152.80854328354602, 128.0545669242615, 117.73334628003101, 116.45365815348558, 115.95839198983737, 115.16766799795013, 114.24791148957479, 112.88062500638618, 107.95087616700141, 104.5153039463485, 12912.910451906897, 206877.0785896232, 484.8337945538595, 15209.255117933782, 1570.16950864193, 20710.793836810895, 1512.430711214798, 77317.44744404376, 636.0274648787276, 1347.5898916027436, 4968.983082517276, 13984.857903534863, 14116.069733323864, 7991.239240367321, 6350.043055081598, 7531.462285414366, 3088.1183826055026, 193324.5674190012, 5092.040938628891, 15550.25362160963, 29702.794518959392, 41331.9858418443, 12321.111907276741, 8087.317923142633, 6263.87405675568, 5776.0543364670775, 5761.9555451335755, 5436.672490463706, 4354.573678149982, 4248.668914061578, 3941.133152272532, 2533.615423597578, 2080.3589583600296, 1558.9814390446836, 1295.0331204896179, 1267.670532244667, 1241.7031134778774, 1201.1598474946745, 1187.0747858495338, 1182.452331778038, 1135.2341100572755, 1101.124942864566, 968.2216466449228, 961.8666291409031, 790.8218401603817, 769.7408217916155, 753.7134648783724, 735.7368417791974, 726.0817801756032, 692.9506443925941, 637.9953506430784, 16307.997910721842, 18902.58364118413, 955.4288955914751, 2369.8290693444656, 2866.411736017699, 5440.68896554082, 1160.760950842258, 8908.77313098115, 3600.069904566537, 35200.9021029094, 118050.9435908179, 13801.90315523596, 7166.180358628237, 6120.726761774892, 7887.550637538192, 105437.73929282886, 7137.030444963875, 80889.91896329472, 39379.99653086957, 33067.2043713299, 226621.9759627335, 10447.435803585544], \"Category\": [\"Default\", \"Default\", \"Default\", \"Default\", \"Default\", \"Default\", \"Default\", \"Default\", \"Default\", \"Default\", \"Default\", \"Default\", \"Default\", \"Default\", \"Default\", \"Default\", \"Default\", \"Default\", \"Default\", \"Default\", \"Default\", \"Default\", \"Default\", \"Default\", \"Default\", \"Default\", \"Default\", \"Default\", \"Default\", \"Default\", \"Topic1\", \"Topic1\", \"Topic1\", \"Topic1\", \"Topic1\", \"Topic1\", \"Topic1\", \"Topic1\", \"Topic1\", \"Topic1\", \"Topic1\", \"Topic1\", \"Topic1\", \"Topic1\", \"Topic1\", \"Topic1\", \"Topic1\", \"Topic1\", \"Topic1\", \"Topic1\", \"Topic1\", \"Topic1\", \"Topic1\", \"Topic1\", \"Topic1\", \"Topic1\", \"Topic1\", \"Topic1\", \"Topic1\", \"Topic1\", \"Topic1\", \"Topic1\", \"Topic1\", \"Topic1\", \"Topic1\", \"Topic1\", \"Topic1\", \"Topic1\", \"Topic1\", \"Topic1\", \"Topic1\", \"Topic1\", \"Topic1\", \"Topic1\", \"Topic1\", \"Topic1\", \"Topic1\", \"Topic1\", \"Topic1\", \"Topic1\", \"Topic1\", \"Topic1\", \"Topic1\", \"Topic1\", \"Topic1\", \"Topic1\", \"Topic1\", \"Topic1\", \"Topic1\", \"Topic1\", \"Topic1\", \"Topic1\", \"Topic1\", \"Topic1\", \"Topic1\", \"Topic1\", \"Topic1\", \"Topic1\", \"Topic1\", \"Topic1\", \"Topic1\", \"Topic1\", \"Topic1\", \"Topic1\", \"Topic1\", \"Topic1\", \"Topic1\", \"Topic1\", \"Topic1\", \"Topic1\", \"Topic1\", \"Topic1\", \"Topic1\", \"Topic1\", \"Topic1\", \"Topic2\", \"Topic2\", \"Topic2\", \"Topic2\", \"Topic2\", \"Topic2\", \"Topic2\", \"Topic2\", \"Topic2\", \"Topic2\", \"Topic2\", \"Topic2\", \"Topic2\", \"Topic2\", \"Topic2\", \"Topic2\", \"Topic2\", \"Topic2\", \"Topic2\", \"Topic2\", \"Topic2\", \"Topic2\", \"Topic2\", \"Topic2\", \"Topic2\", \"Topic2\", \"Topic2\", \"Topic2\", \"Topic2\", \"Topic2\", \"Topic2\", \"Topic2\", \"Topic2\", \"Topic2\", \"Topic2\", \"Topic2\", \"Topic2\", \"Topic2\", \"Topic2\", \"Topic2\", \"Topic2\", \"Topic2\", \"Topic2\", \"Topic2\", \"Topic2\", \"Topic2\", \"Topic2\", \"Topic2\", \"Topic2\", \"Topic2\", \"Topic2\", \"Topic2\", \"Topic2\", \"Topic2\", \"Topic2\", \"Topic2\", \"Topic2\", \"Topic2\", \"Topic2\", \"Topic2\", \"Topic2\", \"Topic2\", \"Topic2\", \"Topic2\", \"Topic2\", \"Topic2\", \"Topic2\", \"Topic2\", \"Topic2\", \"Topic2\", \"Topic2\", \"Topic2\", \"Topic2\", \"Topic2\", \"Topic2\", \"Topic2\", \"Topic2\", \"Topic2\", \"Topic2\", \"Topic2\", \"Topic2\", \"Topic2\", \"Topic2\", \"Topic2\", \"Topic2\", \"Topic2\", \"Topic3\", \"Topic3\", \"Topic3\", \"Topic3\", \"Topic3\", \"Topic3\", \"Topic3\", \"Topic3\", \"Topic3\", \"Topic3\", \"Topic3\", \"Topic3\", \"Topic3\", \"Topic3\", \"Topic3\", \"Topic3\", \"Topic3\", \"Topic3\", \"Topic3\", \"Topic3\", \"Topic3\", \"Topic3\", \"Topic3\", \"Topic3\", \"Topic3\", \"Topic3\", \"Topic3\", \"Topic3\", \"Topic3\", \"Topic3\", \"Topic3\", \"Topic3\", \"Topic3\", \"Topic3\", \"Topic3\", \"Topic3\", \"Topic3\", \"Topic3\", \"Topic3\", \"Topic3\", \"Topic3\", \"Topic3\", \"Topic3\", \"Topic3\", \"Topic3\", \"Topic3\", \"Topic3\", \"Topic3\", \"Topic3\", \"Topic3\", \"Topic3\", \"Topic3\", \"Topic3\", \"Topic3\", \"Topic3\", \"Topic3\", \"Topic3\", \"Topic3\", \"Topic3\", \"Topic3\", \"Topic3\", \"Topic3\", \"Topic3\", \"Topic3\", \"Topic3\", \"Topic3\", \"Topic3\", \"Topic3\", \"Topic3\", \"Topic3\", \"Topic3\", \"Topic3\", \"Topic4\", \"Topic4\", \"Topic4\", \"Topic4\", \"Topic4\", \"Topic4\", \"Topic4\", \"Topic4\", \"Topic4\", \"Topic4\", \"Topic4\", \"Topic4\", \"Topic4\", \"Topic4\", \"Topic4\", \"Topic4\", \"Topic4\", \"Topic4\", \"Topic4\", \"Topic4\", \"Topic4\", \"Topic4\", \"Topic4\", \"Topic4\", \"Topic4\", \"Topic4\", \"Topic4\", \"Topic4\", \"Topic4\", \"Topic4\", \"Topic4\", \"Topic4\", \"Topic4\", \"Topic4\", \"Topic4\", \"Topic4\", \"Topic4\", \"Topic4\", \"Topic4\", \"Topic4\", \"Topic4\", \"Topic4\", \"Topic4\", \"Topic4\", \"Topic4\", \"Topic4\", \"Topic4\", \"Topic4\", \"Topic4\", \"Topic4\", \"Topic4\", \"Topic4\", \"Topic4\", \"Topic4\", \"Topic4\", \"Topic4\", \"Topic4\", \"Topic4\", \"Topic4\", \"Topic4\", \"Topic4\", \"Topic4\", \"Topic4\", \"Topic4\", \"Topic4\", \"Topic4\", \"Topic4\", \"Topic4\", \"Topic4\", \"Topic4\", \"Topic4\", \"Topic4\", \"Topic4\", \"Topic4\", \"Topic4\", \"Topic4\", \"Topic4\", \"Topic4\", \"Topic5\", \"Topic5\", \"Topic5\", \"Topic5\", \"Topic5\", \"Topic5\", \"Topic5\", \"Topic5\", \"Topic5\", \"Topic5\", \"Topic5\", \"Topic5\", \"Topic5\", \"Topic5\", \"Topic5\", \"Topic5\", \"Topic5\", \"Topic5\", \"Topic5\", \"Topic5\", \"Topic5\", \"Topic5\", \"Topic5\", \"Topic5\", \"Topic5\", \"Topic5\", \"Topic5\", \"Topic5\", \"Topic5\", \"Topic5\", \"Topic5\", \"Topic5\", \"Topic5\", \"Topic5\", \"Topic5\", \"Topic5\", \"Topic5\", \"Topic5\", \"Topic5\", \"Topic5\", \"Topic5\", \"Topic5\", \"Topic5\", \"Topic5\", \"Topic5\", \"Topic5\", \"Topic5\", \"Topic5\", \"Topic5\", \"Topic5\", \"Topic5\", \"Topic5\", \"Topic5\", \"Topic5\", \"Topic5\", \"Topic5\", \"Topic5\", \"Topic5\", \"Topic5\", \"Topic5\", \"Topic5\", \"Topic5\", \"Topic5\", \"Topic5\", \"Topic5\", \"Topic5\", \"Topic5\", \"Topic5\", \"Topic5\", \"Topic5\", \"Topic5\", \"Topic5\", \"Topic5\", \"Topic5\", \"Topic5\", \"Topic6\", \"Topic6\", \"Topic6\", \"Topic6\", \"Topic6\", \"Topic6\", \"Topic6\", \"Topic6\", \"Topic6\", \"Topic6\", \"Topic6\", \"Topic6\", \"Topic6\", \"Topic6\", \"Topic6\", \"Topic6\", \"Topic6\", \"Topic6\", \"Topic6\", \"Topic6\", \"Topic6\", \"Topic6\", \"Topic6\", \"Topic6\", \"Topic6\", \"Topic6\", \"Topic6\", \"Topic6\", \"Topic6\", \"Topic6\", \"Topic6\", \"Topic6\", \"Topic6\", \"Topic6\", \"Topic6\", \"Topic6\", \"Topic6\", \"Topic6\", \"Topic6\", \"Topic6\", \"Topic6\", \"Topic6\", \"Topic6\", \"Topic6\", \"Topic6\", \"Topic6\", \"Topic6\", \"Topic6\", \"Topic6\", \"Topic6\", \"Topic6\", \"Topic6\", \"Topic6\", \"Topic6\", \"Topic6\", \"Topic7\", \"Topic7\", \"Topic7\", \"Topic7\", \"Topic7\", \"Topic7\", \"Topic7\", \"Topic7\", \"Topic7\", \"Topic7\", \"Topic7\", \"Topic7\", \"Topic7\", \"Topic7\", \"Topic7\", \"Topic7\", \"Topic7\", \"Topic7\", \"Topic7\", \"Topic7\", \"Topic7\", \"Topic7\", \"Topic7\", \"Topic7\", \"Topic7\", \"Topic7\", \"Topic7\", \"Topic7\", \"Topic7\", \"Topic7\", \"Topic7\", \"Topic7\", \"Topic7\", \"Topic7\", \"Topic7\", \"Topic7\", \"Topic7\", \"Topic7\", \"Topic7\", \"Topic7\", \"Topic7\", \"Topic7\", \"Topic7\", \"Topic7\", \"Topic7\", \"Topic7\", \"Topic7\", \"Topic7\", \"Topic7\", \"Topic7\", \"Topic7\", \"Topic7\", \"Topic7\", \"Topic7\", \"Topic7\", \"Topic7\", \"Topic7\", \"Topic7\", \"Topic7\", \"Topic7\", \"Topic7\", \"Topic7\", \"Topic7\", \"Topic7\", \"Topic7\", \"Topic7\", \"Topic7\", \"Topic8\", \"Topic8\", \"Topic8\", \"Topic8\", \"Topic8\", \"Topic8\", \"Topic8\", \"Topic8\", \"Topic8\", \"Topic8\", \"Topic8\", \"Topic8\", \"Topic8\", \"Topic8\", \"Topic8\", \"Topic8\", \"Topic8\", \"Topic8\", \"Topic8\", \"Topic8\", \"Topic8\", \"Topic8\", \"Topic8\", \"Topic8\", \"Topic8\", \"Topic8\", \"Topic8\", \"Topic8\", \"Topic8\", \"Topic8\", \"Topic8\", \"Topic8\", \"Topic8\", \"Topic8\", \"Topic8\", \"Topic8\", \"Topic8\", \"Topic8\", \"Topic8\", \"Topic8\", \"Topic8\", \"Topic8\", \"Topic8\", \"Topic8\", \"Topic8\", \"Topic8\", \"Topic8\", \"Topic8\", \"Topic8\", \"Topic8\", \"Topic8\", \"Topic8\", \"Topic8\", \"Topic8\", \"Topic8\", \"Topic8\", \"Topic8\", \"Topic8\", \"Topic8\", \"Topic8\", \"Topic8\", \"Topic8\", \"Topic8\", \"Topic8\", \"Topic8\", \"Topic8\", \"Topic8\", \"Topic8\", \"Topic8\", \"Topic9\", \"Topic9\", \"Topic9\", \"Topic9\", \"Topic9\", \"Topic9\", \"Topic9\", \"Topic9\", \"Topic9\", \"Topic9\", \"Topic9\", \"Topic9\", \"Topic9\", \"Topic9\", \"Topic9\", \"Topic9\", \"Topic9\", \"Topic9\", \"Topic9\", \"Topic9\", \"Topic9\", \"Topic9\", \"Topic9\", \"Topic9\", \"Topic9\", \"Topic9\", \"Topic9\", \"Topic9\", \"Topic9\", \"Topic9\", \"Topic9\", \"Topic9\", \"Topic9\", \"Topic9\", \"Topic9\", \"Topic9\", \"Topic9\", \"Topic9\", \"Topic9\", \"Topic9\", \"Topic9\", \"Topic9\", \"Topic9\", \"Topic9\", \"Topic9\", \"Topic9\", \"Topic9\", \"Topic9\", \"Topic9\", \"Topic9\", \"Topic9\", \"Topic10\", \"Topic10\", \"Topic10\", \"Topic10\", \"Topic10\", \"Topic10\", \"Topic10\", \"Topic10\", \"Topic10\", \"Topic10\", \"Topic10\", \"Topic10\", \"Topic10\", \"Topic10\", \"Topic10\", \"Topic10\", \"Topic10\", \"Topic10\", \"Topic10\", \"Topic10\", \"Topic10\", \"Topic10\", \"Topic10\", \"Topic10\", \"Topic10\", \"Topic10\", \"Topic10\", \"Topic10\", \"Topic10\", \"Topic10\", \"Topic10\", \"Topic10\", \"Topic10\", \"Topic10\", \"Topic10\", \"Topic10\", \"Topic10\", \"Topic10\", \"Topic10\", \"Topic10\", \"Topic10\", \"Topic10\", \"Topic10\", \"Topic10\", \"Topic10\", \"Topic10\", \"Topic10\", \"Topic10\", \"Topic10\", \"Topic10\", \"Topic10\", \"Topic10\"], \"logprob\": [30.0, 29.0, 28.0, 27.0, 26.0, 25.0, 24.0, 23.0, 22.0, 21.0, 20.0, 19.0, 18.0, 17.0, 16.0, 15.0, 14.0, 13.0, 12.0, 11.0, 10.0, 9.0, 8.0, 7.0, 6.0, 5.0, 4.0, 3.0, 2.0, 1.0, -8.0354, -8.0548, -8.3741, -8.7946, -8.9607, -8.9694, -8.9737, -9.0356, -9.2026, -9.4317, -9.448, -5.4298, -9.5123, -5.4382, -9.5968, -9.6033, -9.6179, -9.6185, -9.6327, -9.6821, -9.7656, -9.8845, -9.8949, -9.9466, -9.9571, -9.9757, -9.9789, -10.0207, -10.0763, -10.0953, -5.5792, -5.4013, -6.4199, -6.2407, -7.2174, -6.89, -7.6175, -6.0269, -5.5837, -4.7447, -5.7836, -7.4119, -6.8509, -6.7825, -4.6744, -3.5657, -3.6045, -5.475, -4.2645, -5.7845, -6.1553, -7.1732, -4.1812, -3.4549, -5.2513, -6.0035, -4.1844, -5.4824, -6.8043, -5.0863, -4.4807, -5.0319, -3.5509, -4.1176, -5.2254, -3.6766, -4.3212, -4.2287, -5.3289, -4.7955, -4.204, -4.9842, -4.1724, -4.24, -5.0964, -4.7758, -4.8092, -4.2454, -4.9121, -4.9869, -4.9306, -4.7821, -4.981, -4.9878, -4.9999, -4.981, -5.3365, -6.1803, -6.3444, -6.4539, -6.6024, -7.0499, -7.1268, -7.2248, -7.4456, -7.4523, -7.52, -7.5368, -7.7468, -7.8151, -7.8226, -7.8501, -7.9341, -7.9673, -7.9672, -7.9987, -8.0247, -8.062, -8.075, -8.0937, -8.1181, -8.1357, -8.1366, -8.1489, -8.1532, -7.1614, -6.4871, -6.5767, -7.1271, -7.321, -7.1356, -6.3035, -6.6522, -5.5723, -6.1811, -6.7349, -7.1936, -6.5925, -5.7683, -6.041, -7.2157, -3.7938, -3.6954, -6.2494, -6.1263, -5.2668, -6.1124, -6.9326, -4.3785, -5.0095, -6.3039, -5.7066, -6.2953, -5.4237, -6.4491, -5.2696, -5.3574, -5.2665, -4.6462, -5.1063, -5.5843, -5.7486, -4.3163, -5.5008, -4.789, -4.6484, -4.8802, -4.8751, -5.1155, -4.3723, -5.8377, -5.1202, -4.7764, -5.1443, -5.6777, -5.3817, -5.1164, -5.2155, -5.3345, -5.2445, -5.4793, -5.2144, -5.6513, -5.7731, -5.8429, -5.8891, -5.9557, -6.076, -6.2896, -6.0687, -6.4056, -6.6616, -6.665, -6.6787, -6.6922, -6.7331, -6.7506, -6.7898, -6.8371, -6.8444, -6.8775, -6.9122, -7.0848, -7.0939, -7.2119, -7.2255, -7.251, -7.2532, -7.2941, -7.2988, -7.3548, -3.9009, -4.5978, -5.6403, -6.2376, -6.2528, -6.6152, -4.7784, -4.7676, -4.6744, -5.3272, -4.3049, -6.6956, -5.7231, -3.6735, -6.6007, -5.4332, -6.3783, -4.2511, -5.045, -5.8665, -5.7327, -5.9552, -5.9565, -5.2312, -4.2395, -4.1664, -4.6766, -5.4148, -4.7266, -3.9501, -4.7875, -5.201, -5.4753, -5.0456, -5.0854, -5.3051, -5.4699, -5.0668, -5.339, -5.1505, -5.357, -5.4512, -3.7827, -4.1877, -5.0029, -5.7346, -5.9387, -6.2347, -6.4531, -6.4629, -6.539, -6.7191, -6.8181, -6.8616, -6.9236, -6.9246, -7.0847, -7.0977, -7.2742, -7.3003, -7.2957, -7.4161, -7.5814, -7.6768, -7.6941, -7.6974, -7.7164, -7.7487, -7.7574, -7.7715, -7.778, -7.7872, -6.0887, -6.5974, -7.2936, -3.8779, -3.4501, -6.9714, -3.366, -5.0497, -5.035, -4.345, -3.8987, -5.6983, -6.2264, -6.091, -6.7241, -6.4258, -3.2987, -5.7766, -5.8302, -4.0274, -5.3463, -5.308, -4.6396, -4.7516, -5.2946, -5.3007, -5.6635, -6.0484, -5.3877, -5.6241, -4.5969, -5.5606, -5.6629, -4.6152, -5.1589, -4.5205, -4.9519, -5.2881, -4.7887, -5.119, -4.8687, -5.0544, -5.1459, -5.2752, -5.0992, -5.2009, -5.242, -5.2637, -6.063, -6.1035, -6.1529, -6.3057, -6.5992, -6.705, -6.7076, -6.859, -7.045, -7.0584, -7.1198, -7.1908, -7.2538, -7.262, -7.2948, -7.3321, -7.3836, -7.3945, -7.4181, -7.4463, -7.4704, -7.4775, -7.4837, -7.4921, -7.4944, -7.5509, -7.6966, -7.7496, -7.7552, -7.857, -5.1264, -4.438, -5.2569, -6.6574, -4.6525, -4.6501, -4.812, -4.6284, -5.6539, -5.2155, -4.3371, -6.4747, -4.2503, -4.1515, -6.3133, -6.2828, -3.8557, -6.6976, -5.2984, -3.828, -6.406, -6.4803, -4.8969, -3.2937, -5.0372, -5.6161, -5.2016, -5.7611, -4.8417, -4.5331, -4.214, -3.1968, -4.8807, -3.9959, -4.8434, -3.6141, -5.0605, -3.9146, -4.3616, -4.3855, -4.5755, -4.7851, -4.7889, -5.1217, -5.0997, -2.9176, -3.4133, -3.4643, -3.6616, -3.9232, -3.9856, -4.3862, -4.7207, -5.2118, -5.3716, -5.6509, -5.6846, -5.771, -5.838, -5.8528, -6.0453, -6.2953, -6.313, -6.486, -6.5025, -6.5823, -6.5869, -6.7861, -6.8247, -6.8912, -6.9781, -7.0545, -7.1055, -7.3028, -6.9127, -5.2406, -3.4826, -3.4328, -3.4985, -4.4665, -3.2477, -4.4936, -4.6907, -4.2758, -3.7448, -4.4053, -5.1842, -4.7209, -4.2919, -4.9855, -5.252, -5.0606, -4.462, -4.0831, -5.0243, -4.6045, -4.9354, -4.8126, -5.0285, -5.1069, -4.3697, -5.1535, -5.4501, -5.5305, -5.7322, -5.7767, -5.8123, -6.1881, -6.5013, -6.6287, -6.6418, -6.7919, -6.8028, -6.8612, -6.9692, -7.0061, -7.1037, -7.1446, -7.2781, -7.2993, -7.3146, -7.3149, -7.3898, -7.3969, -7.4063, -7.4344, -7.4826, -7.5012, -7.5827, -7.6509, -6.4695, -6.1756, -4.9726, -4.3484, -5.2447, -5.4518, -4.7207, -4.4423, -5.269, -5.4546, -4.6678, -5.2305, -3.261, -5.6504, -5.9969, -3.6989, -2.6854, -5.16, -4.8381, -5.3216, -3.173, -5.2062, -4.3734, -5.2068, -4.9813, -5.5959, -4.1581, -5.1094, -5.2337, -4.9922, -5.3145, -4.6597, -4.9691, -5.3142, -5.2689, -5.2984, -5.2947, -4.4724, -4.8234, -5.2653, -5.2814, -5.506, -5.5706, -5.6941, -5.7402, -5.821, -5.916, -5.9502, -6.1377, -6.2192, -6.2194, -6.2367, -6.3571, -6.3678, -6.4199, -6.4943, -6.581, -6.625, -6.6361, -6.7067, -6.7404, -6.7433, -6.768, -6.7874, -6.7953, -6.8194, -6.9083, -5.7131, -6.2982, -5.5103, -6.4405, -5.6319, -6.1066, -5.7266, -5.514, -4.8811, -6.1242, -4.3181, -5.3494, -5.4659, -5.5131, -4.6639, -4.3095, -3.6792, -4.7164, -5.2685, -5.1548, -5.7411, -5.3858, -5.4094, -4.932, -4.6532, -5.1201, -5.2861, -5.1451, -5.2166, -5.4297, -4.9385, -5.2074, -5.2259, -5.3376, -5.2566, -5.3166, -5.3869, -5.3975, -5.4126, -1.1895, -2.06, -2.8362, -3.4261, -4.6287, -3.5988, -6.5197, -6.6344, -6.9169, -7.0223, -7.2148, -7.4097, -7.4849, -7.6774, -7.7733, -7.7865, -7.8883, -7.94, -7.9761, -8.0036, -8.0425, -8.2204, -8.3052, -8.3162, -8.3205, -8.3274, -8.3355, -8.3476, -8.3927, -8.4253, -3.6201, -1.4412, -7.037, -4.0242, -6.1285, -3.9937, -6.176, -3.0789, -7.0065, -6.5295, -6.2077, -5.8539, -5.8836, -6.2589, -6.3902, -6.3925, -6.8737, -5.7152, -6.8378, -6.732, -6.9561, -2.1769, -3.3873, -3.8083, -4.0639, -4.145, -4.1474, -4.2055, -4.4275, -4.4521, -4.5273, -4.9693, -5.1664, -5.4551, -5.6407, -5.6621, -5.6828, -5.716, -5.7278, -5.7318, -5.7725, -5.8031, -5.9318, -5.9384, -6.1344, -6.1615, -6.1826, -6.2067, -6.2199, -6.2667, -6.3495, -3.1598, -3.4552, -5.9959, -5.2649, -5.2259, -4.8207, -5.887, -4.7482, -5.2572, -4.1025, -3.4999, -4.6786, -5.0192, -5.1959, -5.1565, -4.4432, -5.2083, -4.6885, -4.9608, -5.1176, -5.1408, -5.2491], \"loglift\": [30.0, 29.0, 28.0, 27.0, 26.0, 25.0, 24.0, 23.0, 22.0, 21.0, 20.0, 19.0, 18.0, 17.0, 16.0, 15.0, 14.0, 13.0, 12.0, 11.0, 10.0, 9.0, 8.0, 7.0, 6.0, 5.0, 4.0, 3.0, 2.0, 1.0, 0.9844, 0.9844, 0.9842, 0.9839, 0.9837, 0.9837, 0.9837, 0.9836, 0.9834, 0.9829, 0.9829, 0.9829, 0.9828, 0.9827, 0.9826, 0.9826, 0.9825, 0.9825, 0.9825, 0.9824, 0.9822, 0.9818, 0.9818, 0.9816, 0.9816, 0.9815, 0.9815, 0.9814, 0.9812, 0.9811, 0.9724, 0.9695, 0.9746, 0.9631, 0.9703, 0.9609, 0.967, 0.9443, 0.9379, 0.9086, 0.9237, 0.95, 0.9368, 0.9354, 0.8904, 0.8674, 0.8464, 0.8919, 0.851, 0.8968, 0.9042, 0.9306, 0.8295, 0.7943, 0.8634, 0.8867, 0.8037, 0.8586, 0.9114, 0.7859, 0.7282, 0.7688, 0.63, 0.6859, 0.782, 0.6154, 0.6854, 0.6279, 0.7658, 0.6525, 0.5068, 0.6868, 0.4781, 0.4774, 0.7122, 0.5464, 0.4958, 0.1378, 0.5145, 0.5775, 0.4871, 0.1621, 0.4212, 0.0694, 0.1171, 1.8423, 1.8423, 1.8422, 1.8421, 1.8421, 1.8421, 1.8419, 1.8419, 1.8418, 1.8417, 1.8417, 1.8417, 1.8417, 1.8415, 1.8414, 1.8414, 1.8414, 1.8413, 1.8413, 1.8413, 1.8412, 1.8412, 1.8412, 1.8411, 1.8411, 1.8411, 1.8411, 1.8411, 1.8411, 1.8411, 1.8344, 1.8257, 1.7867, 1.8046, 1.8107, 1.8027, 1.7658, 1.7784, 1.7012, 1.7352, 1.7701, 1.7968, 1.7425, 1.6582, 1.6756, 1.7834, 1.3806, 1.3534, 1.6607, 1.6055, 1.4366, 1.5893, 1.7399, 1.215, 1.3434, 1.5878, 1.4208, 1.5733, 1.303, 1.6183, 1.1781, 1.2076, 1.171, 0.8843, 0.9534, 1.18, 1.265, 0.3945, 1.108, 0.5784, 0.3582, 0.5374, 0.5272, 0.6699, -0.123, 1.3028, 0.5038, 0.0272, 0.3038, 1.0575, 0.3376, -0.4659, -0.7646, -0.3237, -0.8114, 0.2851, 2.3204, 2.3203, 2.3203, 2.3203, 2.3203, 2.3202, 2.3202, 2.3201, 2.3201, 2.3201, 2.32, 2.32, 2.32, 2.32, 2.32, 2.32, 2.3199, 2.3199, 2.3199, 2.3199, 2.3199, 2.3197, 2.3197, 2.3196, 2.3196, 2.3196, 2.3196, 2.3196, 2.3196, 2.3195, 2.3187, 2.3192, 2.3152, 2.3185, 2.2982, 2.3019, 2.2412, 2.2335, 2.1754, 2.1987, 1.9834, 2.2963, 2.0924, 1.5817, 2.2716, 1.9538, 2.2094, 1.3879, 1.625, 1.9699, 1.895, 1.9901, 1.987, 1.5658, 1.003, 0.7778, 1.127, 1.607, 0.9662, 0.2309, 0.8365, 1.2448, 1.5266, 0.8108, 0.8006, 0.9109, 1.1854, -0.4162, 0.4464, -0.8584, 0.0606, 0.6539, 2.3407, 2.3407, 2.3406, 2.3405, 2.3405, 2.3404, 2.3403, 2.3403, 2.3403, 2.3402, 2.3401, 2.3401, 2.3401, 2.3401, 2.34, 2.3399, 2.3398, 2.3398, 2.3398, 2.3397, 2.3395, 2.3394, 2.3393, 2.3393, 2.3393, 2.3393, 2.3392, 2.3392, 2.3392, 2.3392, 2.3335, 2.3371, 2.3376, 2.2854, 2.2553, 2.3266, 2.2057, 2.2404, 2.2313, 2.1459, 2.0922, 2.2149, 2.2562, 2.2368, 2.2894, 2.2502, 1.7585, 2.1445, 2.1489, 1.8486, 2.0227, 1.9065, 1.7092, 1.7378, 1.9007, 1.8472, 1.9585, 2.1103, 1.6897, 1.8248, 1.0959, 1.7788, 1.8429, 0.8114, 1.3457, 0.4676, 0.8471, 1.1711, 0.1555, 0.7971, -0.0651, 0.3479, 0.5734, 0.9216, -0.4487, 0.1041, 0.3543, -0.5529, 2.4991, 2.4991, 2.4991, 2.499, 2.4989, 2.4989, 2.4989, 2.4988, 2.4986, 2.4986, 2.4986, 2.4985, 2.4984, 2.4984, 2.4984, 2.4984, 2.4983, 2.4983, 2.4983, 2.4982, 2.4982, 2.4982, 2.4982, 2.4982, 2.4982, 2.4981, 2.4979, 2.4978, 2.4978, 2.4976, 2.4954, 2.4847, 2.4909, 2.4952, 2.454, 2.4507, 2.4339, 2.4276, 2.458, 2.4336, 2.3801, 2.4592, 2.3611, 2.3404, 2.4361, 2.4318, 2.2351, 2.4527, 2.3244, 2.103, 2.4182, 2.4189, 2.1577, 1.8233, 2.138, 2.2556, 2.1412, 2.2655, 2.0318, 1.8677, 1.6423, 1.0952, 1.8075, 1.2593, 1.7009, 0.5668, 1.6834, 0.736, 1.0575, 0.8571, 0.9889, 0.9624, 0.5333, 1.4942, 0.8228, 2.9075, 2.9075, 2.9075, 2.9074, 2.9074, 2.9074, 2.9074, 2.9074, 2.9073, 2.9073, 2.9072, 2.9072, 2.9072, 2.9071, 2.9071, 2.9071, 2.9069, 2.9069, 2.9068, 2.9068, 2.9067, 2.9067, 2.9066, 2.9065, 2.9065, 2.9064, 2.9063, 2.9062, 2.906, 2.906, 2.8716, 2.8309, 2.784, 2.6557, 2.6805, 2.4771, 2.5962, 2.5711, 2.4825, 2.2973, 2.4396, 2.6128, 2.318, 2.109, 2.355, 2.3583, 2.0843, 1.424, 0.8611, 1.9817, 1.3265, 1.0995, 0.044, 0.3906, 1.4442, 3.1101, 3.1099, 3.1099, 3.1098, 3.1098, 3.1097, 3.1097, 3.1095, 3.1093, 3.1091, 3.1091, 3.109, 3.109, 3.1089, 3.1087, 3.1087, 3.1085, 3.1085, 3.1082, 3.1082, 3.1081, 3.1081, 3.108, 3.108, 3.1079, 3.1079, 3.1078, 3.1077, 3.1075, 3.1073, 3.107, 3.0643, 3.0132, 2.9164, 2.9492, 2.8944, 2.7994, 2.7413, 2.8261, 2.8254, 2.6867, 2.7663, 2.3353, 2.8096, 2.8774, 2.3359, 2.0321, 2.656, 2.5492, 2.5908, 1.6835, 2.4524, 2.0031, 2.396, 2.0962, 2.5849, 1.2685, 2.0496, 2.1943, 1.7646, 2.2456, 0.6453, 0.8317, 2.0252, 1.6277, 1.5916, 0.4246, 3.1755, 3.1755, 3.1754, 3.1753, 3.1753, 3.1752, 3.1752, 3.1752, 3.1751, 3.1751, 3.1751, 3.175, 3.1749, 3.1749, 3.1749, 3.1748, 3.1748, 3.1747, 3.1747, 3.1746, 3.1745, 3.1745, 3.1744, 3.1744, 3.1744, 3.1744, 3.1743, 3.1743, 3.1743, 3.1742, 3.167, 3.1505, 3.103, 3.1541, 3.0782, 3.1086, 3.0499, 3.0128, 2.7953, 3.0671, 2.6481, 2.8619, 2.8705, 2.878, 2.5899, 2.4344, 2.0401, 2.4188, 2.6615, 2.4999, 2.8632, 2.4437, 2.3682, 1.6977, 1.2228, 1.885, 2.1424, 1.8395, 1.6785, 2.2897, 0.3665, 1.0998, 1.0782, 1.536, 0.7855, 1.3174, 1.8613, 0.7172, -0.1701, 3.5579, 3.5579, 3.5579, 3.5578, 3.5577, 3.5566, 3.5565, 3.5563, 3.5558, 3.5556, 3.5551, 3.5545, 3.5542, 3.5534, 3.5529, 3.5529, 3.5523, 3.552, 3.5518, 3.5517, 3.5514, 3.5502, 3.5495, 3.5494, 3.5493, 3.5493, 3.5492, 3.5491, 3.5487, 3.5484, 3.537, 2.942, 3.4023, 2.9692, 3.1356, 2.691, 3.1255, 2.2885, 3.1613, 2.8875, 1.9044, 1.2234, 1.1844, 1.378, 1.4766, 1.3037, 1.7141, -1.2643, 1.2498, 0.2392, -0.6321, 3.8168, 3.8167, 3.8167, 3.8166, 3.8166, 3.8166, 3.8166, 3.8166, 3.8165, 3.8165, 3.8164, 3.8163, 3.8162, 3.816, 3.816, 3.816, 3.816, 3.816, 3.816, 3.8159, 3.8159, 3.8158, 3.8158, 3.8156, 3.8155, 3.8155, 3.8155, 3.8154, 3.8154, 3.8153, 3.7638, 3.3208, 3.765, 3.5876, 3.4364, 3.2007, 3.6792, 2.7801, 3.1772, 2.0518, 1.4443, 2.4119, 2.7267, 2.7077, 2.4935, 0.614, 2.5417, 0.6337, 1.0813, 1.0992, -0.8488, 2.1198]}, \"token.table\": {\"Topic\": [1, 2, 3, 5, 1, 2, 3, 6, 1, 3, 6, 10, 3, 7, 2, 10, 10, 4, 4, 3, 1, 2, 5, 7, 8, 2, 3, 4, 6, 8, 10, 5, 1, 1, 2, 3, 4, 5, 6, 7, 9, 10, 1, 2, 4, 5, 6, 8, 9, 10, 2, 3, 4, 5, 6, 5, 9, 1, 2, 7, 1, 2, 3, 9, 1, 9, 9, 1, 3, 5, 6, 1, 4, 7, 3, 8, 1, 3, 4, 5, 6, 7, 8, 1, 4, 4, 6, 2, 4, 7, 10, 3, 6, 8, 1, 2, 3, 5, 7, 8, 10, 1, 2, 3, 6, 8, 10, 1, 2, 1, 2, 3, 4, 5, 6, 7, 8, 9, 1, 2, 3, 4, 6, 10, 1, 5, 8, 5, 1, 2, 3, 6, 7, 1, 4, 5, 6, 1, 4, 6, 5, 9, 3, 5, 6, 3, 4, 2, 6, 7, 8, 3, 8, 8, 1, 7, 8, 3, 6, 8, 1, 2, 4, 8, 9, 8, 1, 4, 5, 6, 9, 8, 2, 3, 8, 1, 2, 4, 5, 5, 8, 1, 6, 10, 1, 8, 3, 5, 6, 1, 3, 5, 6, 7, 8, 10, 6, 3, 5, 6, 8, 5, 4, 7, 8, 1, 2, 3, 5, 2, 3, 6, 1, 2, 3, 5, 6, 10, 6, 10, 10, 3, 5, 8, 5, 3, 1, 1, 4, 10, 1, 2, 3, 4, 5, 6, 7, 8, 1, 2, 3, 4, 6, 7, 8, 9, 3, 4, 5, 7, 2, 3, 4, 4, 3, 4, 8, 1, 3, 4, 6, 7, 1, 2, 4, 7, 5, 5, 2, 3, 5, 5, 8, 6, 3, 4, 7, 2, 3, 7, 1, 4, 10, 1, 6, 8, 5, 8, 2, 1, 3, 9, 6, 9, 4, 6, 1, 2, 3, 5, 7, 8, 5, 3, 2, 2, 3, 10, 7, 1, 2, 3, 2, 2, 4, 1, 3, 3, 9, 1, 2, 3, 6, 8, 4, 5, 6, 10, 5, 1, 3, 3, 6, 1, 2, 3, 5, 6, 7, 8, 9, 3, 8, 5, 6, 8, 5, 6, 8, 10, 9, 5, 1, 2, 8, 10, 4, 5, 8, 1, 4, 5, 1, 5, 1, 2, 3, 4, 5, 9, 1, 2, 3, 4, 5, 6, 10, 2, 8, 2, 5, 8, 10, 2, 6, 8, 9, 10, 7, 1, 2, 3, 4, 5, 10, 1, 2, 3, 4, 5, 6, 7, 8, 9, 10, 1, 2, 4, 8, 9, 2, 6, 9, 9, 1, 1, 4, 7, 10, 1, 1, 2, 6, 2, 2, 3, 4, 8, 1, 2, 4, 7, 8, 1, 2, 6, 7, 8, 7, 1, 2, 3, 10, 1, 2, 3, 6, 9, 2, 8, 9, 10, 6, 1, 2, 6, 1, 2, 3, 6, 8, 1, 2, 4, 9, 3, 4, 7, 7, 7, 6, 9, 3, 1, 2, 3, 4, 5, 6, 7, 8, 8, 9, 1, 2, 3, 4, 5, 8, 10, 1, 2, 3, 4, 5, 7, 8, 10, 4, 4, 1, 2, 3, 4, 5, 7, 8, 10, 3, 5, 4, 1, 6, 10, 5, 7, 1, 4, 7, 10, 4, 1, 2, 3, 5, 6, 7, 8, 10, 1, 2, 8, 9, 1, 8, 9, 6, 2, 4, 5, 7, 10, 5, 1, 2, 3, 4, 5, 6, 7, 8, 9, 10, 1, 4, 7, 8, 10, 1, 4, 1, 2, 3, 4, 5, 6, 7, 8, 9, 1, 2, 3, 4, 5, 6, 7, 8, 9, 10, 2, 3, 10, 1, 5, 8, 9, 1, 2, 3, 4, 5, 6, 9, 10, 2, 10, 5, 7, 8, 10, 10, 10, 6, 6, 6, 6, 6, 7, 4, 7, 10, 1, 2, 3, 4, 6, 8, 10, 1, 2, 3, 4, 9, 10, 1, 2, 3, 6, 1, 4, 7, 8, 3, 3, 8, 1, 2, 3, 4, 5, 6, 7, 8, 1, 4, 5, 1, 2, 3, 4, 6, 7, 8, 2, 7, 1, 2, 6, 8, 9, 10, 1, 2, 3, 4, 5, 9, 1, 2, 3, 5, 8, 2, 3, 1, 1, 2, 3, 5, 6, 8, 9, 1, 2, 3, 5, 6, 9, 2, 3, 4, 5, 8, 10, 1, 4, 10, 8, 3, 1, 2, 3, 8, 1, 3, 5, 6, 10, 5, 10, 1, 2, 3, 4, 9, 4, 8, 1, 4, 1, 2, 3, 7, 8, 1, 3, 6, 5, 1, 3, 5, 7, 10, 1, 3, 5, 6, 2, 2, 1, 2, 3, 4, 5, 6, 7, 8, 9, 9, 1, 4, 9, 1, 7, 2, 3, 6, 9, 8, 1, 2, 3, 4, 5, 6, 7, 10, 7, 8, 3, 3, 4, 1, 2, 4, 9, 2, 7, 3, 2, 3, 4, 7, 10, 10, 3, 7, 4, 4, 1, 2, 3, 4, 2, 1, 3, 5, 1, 2, 2, 10, 1, 2, 3, 5, 7, 8, 1, 2, 3, 4, 5, 6, 8, 9, 10, 1, 2, 3, 6, 8, 1, 2, 3, 4, 5, 6, 7, 8, 10, 4, 8, 8, 1, 2, 3, 4, 6, 7, 8, 9, 1, 2, 3, 4, 5, 7, 10, 1, 3, 4, 5, 6, 7, 8, 5, 2, 3, 5, 6, 7, 10, 1, 3, 5, 6, 7, 8, 8, 9, 7, 1, 2, 3, 6, 9, 10, 1, 2, 4, 5, 7, 9, 10, 9, 1, 2, 3, 4, 5, 6, 7, 8, 9, 10, 1, 2, 3, 4, 5, 6, 7, 2, 4, 5, 7, 8, 9, 2, 4, 1, 2, 3, 4, 5, 6, 7, 8, 9, 10, 1, 1, 2, 3, 4, 5, 6, 9, 10, 1, 2, 4, 4, 9, 5, 1, 2, 3, 4, 5, 6, 7, 8, 9, 10, 9, 8, 3, 4, 6, 7, 4, 2, 4, 6, 7, 8, 3, 1, 2, 3, 4, 6, 7, 10, 3, 4, 6, 4, 8, 10, 1, 2, 9, 3, 5, 2, 3, 3, 3, 1, 2, 4, 7, 7, 1, 1, 2, 3, 4, 5, 6, 7, 8, 10, 5, 6, 1, 2, 4, 5, 7, 8, 2, 1, 5, 7, 8, 3, 2, 7, 6, 6, 3, 5, 6, 1, 3, 4, 5, 1, 1, 5, 7, 8, 6, 1, 6, 8, 1, 3, 4, 5, 6, 1, 2, 3, 4, 5, 9, 10, 6, 2, 4, 1, 2, 3, 6, 7, 8, 10, 5, 8, 1, 2, 3, 5, 7, 9, 1, 2, 3, 1, 2, 4, 6, 8, 9, 10, 1, 2, 3, 4, 5, 7, 10, 1, 2, 3, 4, 5, 7, 8, 10, 1, 4, 5, 8, 8, 8, 1, 2, 3, 4, 5, 8, 10, 9, 7, 2, 3, 4, 5, 7, 10, 1, 2, 3, 5, 8, 9, 1, 2, 3, 4, 5, 6, 7, 8, 9, 10, 1, 2, 3, 4, 10, 4, 1, 2, 4, 7, 2, 10, 3, 5, 8, 1, 2, 3, 8, 8, 1, 3, 6, 10, 5, 8, 2, 3, 4, 4, 5, 6, 10, 2, 7, 2, 3, 10, 3, 5, 1, 6, 8, 4, 1, 2, 4, 6, 7, 9, 10, 2, 4, 1, 3, 4, 8, 1, 2, 4, 7, 1, 5, 6, 7, 7, 7, 1, 2, 4, 6, 7, 8, 1, 3, 8, 5, 5, 4, 1, 2, 4, 5, 7, 8, 10, 2, 3, 1, 2, 3, 4, 7, 9, 2, 3, 7, 8, 7, 3, 3, 7, 1, 2, 3, 4, 5, 7, 8, 9, 10, 3, 10, 7, 3, 10, 3, 1, 2, 3, 5, 8, 1, 2, 3, 6, 7, 1, 2, 3, 4, 5, 6, 8, 9, 1, 2, 3, 4, 6, 7, 6, 2, 3, 6, 8, 1, 6, 8, 8, 7, 2, 9, 1, 2, 3, 5, 7, 8, 10, 2, 2, 1, 2, 3, 4, 5, 9, 10, 8, 1, 2, 4, 1, 2, 6, 7, 8, 10, 3, 5, 7, 3, 7, 10, 1, 1, 4, 7, 1, 2, 3, 4, 7, 5, 9, 9, 2, 4, 1, 5, 6, 8, 10, 1, 2, 6, 9, 1, 2, 5, 5, 7, 1, 2, 3, 5, 6, 7, 1, 4, 5, 6, 7, 8, 1, 2, 3, 8, 1, 8, 9, 10, 7, 5, 7, 8, 1, 2, 3, 4, 5, 6, 7, 8, 1, 2, 3, 4, 5, 7, 8, 10, 2, 1, 7, 10, 1, 3, 5, 6, 7, 10, 10, 1, 3, 4, 9, 7, 4, 9, 4, 4, 3, 6, 4, 1, 1, 2, 3, 4, 5, 6, 7, 8, 2, 6, 8, 9, 1, 2, 5, 9, 8, 1, 2, 5, 6, 8, 9, 1, 2, 3, 5, 1, 2, 4, 5, 6, 7, 8, 6, 6, 1, 2, 3, 4, 6, 7, 2, 6, 1, 5, 7, 8, 10, 8, 8, 1, 5, 8, 9, 5, 8, 2, 4, 7, 8, 5, 7, 2, 3, 4, 10, 2, 4, 7, 2, 6, 9, 1, 7, 8, 9, 2, 8, 1, 2, 3, 4, 6, 7, 10, 1, 2, 3, 4, 5, 6, 10, 1, 7, 7, 1, 2, 4, 5, 6, 7, 8, 7, 8, 10, 1, 2, 3, 4, 5, 7, 8, 10, 1, 2, 3, 4, 5, 6, 6, 1, 2, 3, 4, 5, 8, 10, 1, 2, 5, 7, 8, 1, 2, 3, 4, 6, 7, 8, 10, 1, 10, 10, 1, 2, 7, 8, 9, 10, 1, 4, 5, 10, 5, 6, 1, 2, 3, 6, 1, 2, 3, 4, 5, 7, 8, 9, 3, 8, 3, 1, 2, 3, 5, 6, 7, 8, 10, 1, 4, 7, 8, 10, 1, 4, 5, 6, 7, 8, 9, 3, 7, 8, 10, 1, 4, 7, 1, 4, 7, 5, 1, 2, 3, 8, 1, 2, 3, 4, 5, 1, 2, 3, 4, 7, 8, 9, 10, 5, 1, 2, 3, 4, 5, 7, 8, 10, 4, 1, 2, 3, 5, 9, 1, 2, 4, 5, 1, 5, 1, 2, 4, 7, 8, 3, 1, 4, 5, 6, 7, 1, 2, 1, 2, 3, 4, 5, 7, 8, 9, 7, 5, 3, 6, 1, 4, 7, 8, 8, 1, 4, 10, 2, 10, 1, 2, 3, 4, 5, 6, 7, 8, 10, 3, 4, 8, 2, 2, 4, 5, 9, 2, 7, 4, 4, 2, 1, 2, 5, 8, 1, 2, 5, 7, 8, 1, 4, 9, 1, 2, 3, 4, 5, 6, 9, 1, 2, 3, 4, 5, 6, 7, 8, 9, 9, 8, 1, 3, 4, 5, 7, 1, 4, 5, 6, 2, 3, 5, 8, 9, 1, 2, 3, 4, 5, 10, 3, 4, 6, 9, 2, 3, 4, 6, 7, 8, 1, 2, 3, 4, 5, 7, 10, 2, 1, 3, 4, 7, 8, 9, 2, 1, 2, 5, 7, 10, 1, 2, 3, 4, 5, 6, 10, 2, 3, 4, 6, 8, 9, 10], \"Freq\": [0.4055074165089865, 0.26546224907779875, 0.3213959232476705, 0.0075953522342994345, 0.16153947778968733, 0.07378248671792532, 0.03214860068965539, 0.7325391738226207, 0.40830131300644085, 0.014133975621828452, 0.5774216419986641, 0.9989607771072495, 0.19381215078631175, 0.8060245483488476, 0.9690121283720435, 0.03068259473832032, 0.9994337507329686, 0.998524566498046, 0.9984904633683982, 0.9997486571462382, 0.9111541322685701, 0.008785087472218078, 0.017605315294325026, 0.030466683353652293, 0.0319777183988738, 0.1373291845891874, 0.0647245070542911, 0.2191146432665363, 0.4390708581377974, 0.036952644098371866, 0.10282474879546954, 0.9989389076385149, 0.9992836059863757, 0.25923730296954695, 0.0526139262313159, 0.2581270022798459, 0.28799767244793134, 0.03427605677560879, 0.04249586349452438, 0.047922010413547086, 1.7908075640338972e-05, 0.01728129299292711, 0.7422303192568274, 0.18106725898625486, 0.025461214294689668, 0.0004906496904688993, 0.046699336610700595, 1.752320323103212e-05, 0.0037324422882098413, 0.0003154176581585781, 0.06460966447992365, 0.7138572079491213, 0.20104032854009427, 0.01585194382413411, 0.004612655784891483, 0.9987880160957198, 0.9929991758987959, 0.23030770995958771, 0.25153540560272575, 0.5180325003033258, 0.496397433251899, 0.05145664015541993, 0.4521022842521303, 6.631010329306692e-05, 0.9977726288583778, 0.0021884232380165163, 0.9957351985110565, 0.004430855191904095, 0.1960653422417562, 0.7836283896538956, 0.01582448282822891, 0.9951432986654157, 0.04413647842855928, 0.9554615118971213, 0.9998947981486119, 0.9996287896005929, 0.2798138375865963, 0.0006504273305127761, 0.1371913846884073, 0.10621478307273634, 0.014683396986325922, 0.4607464602519878, 0.0006829486970384149, 0.9983195622885547, 0.9998164907875648, 0.9998686104331105, 0.9997565207904657, 0.9984164909773655, 0.9928217013871642, 0.0038417644608679654, 0.003292940966458256, 0.12182943867551617, 0.7969899402341036, 0.08111739843844941, 0.6653606277557044, 3.150083456849277e-05, 0.051976377038013076, 0.2208050999078501, 0.02030228787939359, 0.0413920966229995, 0.00012600333827397108, 0.926474851610673, 0.03052099427546866, 0.04267430615278444, 8.607161386200976e-05, 5.1642968317205855e-05, 0.00017214322772401953, 0.9821901873607775, 0.017429599118462695, 0.34763175568428023, 0.28252355350723335, 0.008264628762640638, 0.050842340635274416, 0.011407515756884262, 0.0032334228335839745, 0.00841983305865267, 0.006673784728517323, 0.2809844442384474, 0.2323081779604875, 0.530072172982311, 0.07012511291191556, 0.11103499857525054, 0.026088084155990576, 0.030371841817072774, 0.0048302178866867955, 0.9306919826594341, 0.06440290515582395, 0.9991876308437345, 0.36173648463127905, 0.5156758039077297, 5.228917094988133e-05, 0.056001702087322906, 0.06651182544824906, 0.1065959222437126, 0.8254576788624687, 0.06695281066547237, 0.001057149642086406, 0.9984951975911945, 0.9965324413009331, 0.0027579311106114388, 0.9988959353336897, 0.9984687894725962, 0.9980022164565057, 0.0015686925753796066, 0.9993202253676678, 0.9992744493959566, 0.9986034244624287, 0.03687382328405171, 0.11457223663258925, 0.11687685058784249, 0.7315503155103831, 0.09259330204033377, 0.9072679674228752, 0.9986415464635688, 0.22318424822890184, 0.7526532626442753, 0.02394086350682369, 0.22292150495734722, 0.03431607892541503, 0.7424509789211886, 0.9986920229828627, 0.39844991628778137, 0.011197805580594465, 0.5900283729066376, 0.0002559498418421592, 0.9994665069210645, 0.42013352265330417, 0.531819391322169, 0.0280595213930121, 0.01984529495815739, 0.0001380542257958775, 0.9994231432235232, 0.8982971506896182, 0.045998638403336504, 0.055430013903301184, 0.9846684532474995, 0.004727029439156125, 0.005820595951199707, 0.004762305778254305, 0.9985864433737709, 0.9996685295292415, 0.9987509162063533, 0.9999676905728101, 0.999868258481224, 0.9955545543804519, 0.9995879847350349, 0.2112939008953257, 0.6988736925024123, 0.08970200029183731, 0.3079531595432408, 0.0072103646033046965, 0.050775085003691114, 0.16397276706256556, 0.46103474650570975, 0.00905077235170065, 0.999370461366567, 0.9994141682985261, 0.06604451075205774, 0.887510525151519, 0.02888200281377751, 0.017558661468825017, 0.9979248735150735, 0.9991568741864688, 0.9987655591552832, 0.9990631255587238, 0.37742509673211544, 0.5146498063746995, 0.08507017674400058, 0.022858086003761914, 0.0158568202466606, 0.05786406884128038, 0.9262581658789873, 0.0630149754632423, 0.7764726637589349, 0.032976057075044175, 0.02042646450397473, 0.10520296751066724, 0.0017355819513181143, 0.9997134313326899, 0.9999097559307059, 0.9990343937177939, 0.005452062679587371, 0.9914366288111189, 0.002935726058239354, 0.9990477952172583, 0.9994611760124112, 0.998278454902002, 0.00012263921119864024, 0.051385829492230264, 0.9484303398046844, 0.4435730887455206, 0.09073859788198661, 0.016208185451750838, 0.05926202932820831, 0.23646244338474476, 0.08071403948493736, 0.04701735813398646, 0.026042059314073614, 0.018303153262137807, 0.11557403477380832, 0.006132499804324522, 0.11595141937715137, 0.04528615240116571, 0.6547622868001876, 0.0420783832727498, 0.0018869230167152377, 0.7043613534771657, 0.12266366663243636, 0.0039716753828684245, 0.168948960517403, 0.9994928209795267, 0.20556718519362327, 0.7942272683326962, 0.9992937746660631, 0.0378932813067831, 0.9190578150791316, 0.042848556554593194, 0.22858169043141008, 0.006772790827597336, 0.23172620045850884, 0.043297484219282964, 0.4895760226806074, 0.08800241709298405, 0.0039029583082421646, 0.570110695739659, 0.33788467639925024, 0.9995930512669976, 0.9984160961398488, 0.01170393451644088, 0.9817800453983677, 0.006302118585775859, 0.9386697295452466, 0.06090314546927797, 0.9999122945930661, 0.13894454437976367, 0.2661867605851937, 0.5948408786080274, 0.9459369722047104, 0.012678039288301643, 0.041138943813060436, 0.0811530163916519, 0.9014227359195796, 0.017229409633919942, 0.8367845843256313, 0.007252439074242991, 0.15597334160935244, 0.024511348570127538, 0.975092085305386, 0.9991164105297868, 0.9968055748372637, 0.9989739064849569, 0.9999494388888985, 0.9999619020932822, 0.9921986168455715, 0.9999635732489363, 0.999936232443493, 0.4198670342529701, 0.05733285913418575, 0.003161664518464055, 0.5085950206755983, 0.010220030210958648, 0.0008256576131020779, 0.9993299965859644, 0.9992613634462966, 0.998585476101713, 0.05499893203430448, 0.4172141207854815, 0.5274897572381021, 0.9996389803171908, 0.4932929090449043, 0.03652020660544905, 0.47017064805802233, 0.9988702204284438, 0.9049332952418484, 0.09481930303117755, 0.9958669015966515, 0.9995359894809279, 0.999177394975186, 0.992471500745736, 0.641693905383144, 0.12560942722571022, 0.000295750417282197, 0.23148807661273677, 0.0008872512518465909, 0.017907826888049552, 0.9593766135080928, 0.02253569226361292, 0.999037569827866, 0.9995963240084839, 0.9965737200554002, 0.9996565180385396, 0.03502233729000364, 0.9647244978792383, 0.42865067799951045, 0.00997693903099968, 0.004297237789999377, 0.012790203815903659, 0.0015661474060290196, 0.0025377388523618372, 1.4501364870639069e-05, 0.5401565062781445, 0.9986482310872918, 0.0012791468650706391, 0.9362697505925413, 0.06079673705146372, 0.0029131769837159698, 0.34975799457311674, 0.05217013732001885, 0.5980274583468399, 0.9986281210641959, 0.9965179478237358, 0.9986686287793884, 0.09350435759713921, 0.8464177065967123, 0.0067756780867492174, 0.05325682976184885, 0.14958365675075191, 0.0006093020641578489, 0.8496717284681203, 0.004685408781854392, 0.042827564646637804, 0.9524557539363382, 0.06507038495365766, 0.9345136641367106, 0.11784875877318596, 0.061300926123418795, 0.07346325354129207, 0.03452982611741036, 0.7105175758774824, 0.002306648303389761, 0.10350066577958386, 0.03420784716443873, 0.693025644405481, 0.14131446834312297, 0.0019491650805947996, 0.012182281753717498, 0.013839072072223077, 0.9920129118712667, 0.007304955168418754, 0.012007540886879487, 0.9854147712523295, 0.0025117815120513213, 0.9989129025930931, 0.17923754286575747, 0.13521428672329072, 0.011005814035616688, 0.6729269153205631, 0.9989984981893586, 0.9996995997887229, 0.8194949454552871, 0.06464171330366558, 0.03310289925560601, 0.03978775658100994, 0.03359569322510694, 0.009363085420517687, 0.8560811173896128, 0.11463003571751772, 0.014006213194455407, 0.005694833936207144, 0.004861885252373984, 0.0022000709801245403, 6.337653029165343e-05, 0.0010955085950414378, 0.0003530978116249262, 0.0010230782747081195, 0.8032099548550234, 0.18794829227871554, 0.007226721577222045, 0.00026765635471192754, 0.0013115161380884452, 0.12169118708874527, 0.020625624930295808, 0.855963434607276, 0.9937348068270548, 0.9994335390726011, 0.3373680806106121, 0.6078990886474236, 0.05476469493321256, 0.9997124805915582, 0.9968649712149883, 0.07307855303701281, 0.9263044031393393, 0.0005784582034592044, 0.9995908112653148, 0.5110148450789539, 0.23389771728263264, 0.2542251712676921, 0.0008296919993901835, 0.044127028868999676, 0.14865211495102545, 0.08395850625517638, 0.03944097270592007, 0.6836435269026145, 0.2214635623703292, 0.21843292860542562, 0.004167121426742424, 0.08675189152036501, 0.46914210680707435, 0.9996826844449961, 0.12628001448231968, 0.389615938016117, 0.12942298373165742, 0.3545942806663537, 0.22026641052949195, 0.0405880432431359, 0.08886839900980005, 0.6502407930044983, 3.698227174773202e-05, 0.06492482527731064, 0.8819607289176836, 0.026595711559380262, 0.026204598154095256, 0.9999723307064431, 0.9517519227469858, 0.0050206474396405016, 0.04328612252014378, 0.15308839660584916, 0.8317464938770772, 0.010138304410983389, 0.00010138304410983388, 0.004866386117272027, 0.8264802991108194, 0.14010878139482255, 0.03165533364424638, 0.0017504084584904502, 0.022822088198895318, 0.9045685035732695, 0.07262377678795758, 0.9986008347395431, 0.999017441323325, 0.34391191334944243, 0.6553432571047708, 0.9996098208689979, 0.3452890393669943, 0.30961080918261524, 0.1534989055234325, 0.13361654376870147, 0.0070531303062731695, 0.0035953282619721172, 0.04544259163902463, 0.001866427239821591, 0.9996236773381272, 0.9890771614701362, 0.1594991952196407, 0.003907241877646492, 0.09279699459410418, 0.00809357246083916, 0.3979804941088498, 0.00139544352773089, 0.33616234583037136, 0.44891716781370206, 0.0698010235643255, 0.09805998289036771, 0.2245581574069428, 0.08141129367502502, 0.020810861519178363, 0.028179300525968787, 0.028258959326042197, 0.9994205894886063, 0.9986514736796211, 0.004670859163446446, 0.27537760981014703, 0.10093117409708191, 0.005889344162606389, 0.12327006574834752, 0.4001707818074445, 0.07706917619686636, 0.012591011657986073, 0.0039442614717362144, 0.9960492797843858, 0.9986207106841898, 0.9972220602390752, 0.9993361010070798, 0.9989783694649224, 0.9221162117839034, 0.07752667438930504, 0.40028362029638553, 0.5586804155237267, 0.0003793708046879617, 0.040649581722315094, 0.9997593508651864, 0.24617647676495896, 0.0005761883598945792, 0.002304753439578317, 0.06510928466808745, 0.0942067968427637, 0.12676143917680743, 0.4459697905584043, 0.01887016878654747, 0.9540302384899625, 0.00016407072333117717, 0.04413502457608666, 0.0016407072333117717, 0.9406038340515991, 0.054080398964898975, 0.0052351801737710426, 0.9991062009806391, 0.18467064280635434, 0.008827200680425131, 0.43197237615477274, 0.09513760733347086, 0.2793879072502812, 0.9982265774971666, 0.7012442242079987, 0.0034551831302305877, 0.12373899265017793, 0.015202805773014586, 0.1447662499855812, 0.0009240146885416658, 0.00019743903601317643, 0.006724773566608789, 0.00025667074681712937, 0.0034907221567129594, 0.0004300088312674925, 0.9462487668318261, 0.003755410459736101, 0.036264078103558535, 0.0132729392584566, 0.3521049060374957, 0.6477811665232102, 0.5407956134650892, 0.21070483616544972, 0.09882139536035014, 0.00282786550865709, 0.049747348335967584, 0.015485930166455494, 0.06575268237136009, 0.015870673773075505, 0.9947927625057952, 0.6910715491499987, 0.0016547380209131451, 0.0416287959714523, 0.006054134839180894, 0.2455542970340659, 0.00039713712501915485, 0.001063444968106848, 0.003119732748761583, 3.9713712501915483e-05, 0.00941214986295397, 0.9834419250324994, 0.001475900837967733, 0.01475900837967733, 0.8738319289360962, 0.007633359253200897, 0.005380892588321944, 0.11299874435476083, 0.569103643039297, 0.26842641470850015, 0.0073394708741771324, 0.1363159389733118, 0.006602845147754245, 2.678639005174136e-05, 0.00017411153533631883, 0.01200030274318013, 0.9987760659578706, 0.9984398779049485, 0.1790703359158914, 0.08386838517579723, 0.7369336186918399, 0.9992022439632839, 0.9998341630500113, 0.999876304768241, 0.9996244554971078, 0.9998219102920991, 0.9996941981543372, 0.9987512695479607, 0.999331629857265, 0.997175219921371, 0.7275469448102614, 0.08911277537407622, 0.18320284862081834, 0.024704736072387372, 0.5158695157757007, 0.00039953751060464753, 0.05253918264451115, 0.3962080313496088, 0.0007324854361085204, 0.009455721084309992, 0.9064258328870706, 0.0177904972107374, 5.9301657369124664e-05, 0.06956084409398323, 0.006167372366388965, 0.9985101124898885, 0.9470565111775147, 0.008781978185839968, 0.011376653558929048, 0.032732827783585335, 0.02548228560522534, 0.9181965772598847, 0.05620612319615183, 0.0001088211484920655, 0.9995504105077904, 0.9992553648338782, 0.9998362170511905, 0.15013385739845495, 0.06798675246964124, 0.06406279937854525, 0.13315849511306144, 0.016548845645056966, 0.0077626028541246585, 0.003753346434961373, 0.5566895189672255, 0.21819852243795018, 0.6440557419306014, 0.13774184012307178, 0.8056734969395692, 0.024318228910249467, 0.0002393919170820292, 0.01745566062056463, 0.0009575676683281168, 0.10243979118468499, 0.04891574839042796, 0.9996838226680896, 0.9987004735660691, 0.881304177035733, 0.06197445745501678, 0.052181808376489267, 0.0006848006348620638, 0.0031843229521085967, 0.0006505606031189606, 0.334173574153337, 0.15378454467250083, 0.04978080551251126, 0.02959809289929137, 0.012408988377027539, 0.4202156647675902, 0.6507285388446381, 0.0859600343250954, 0.00032585304899581275, 6.517060979916256e-05, 0.2628330693200226, 0.00499051017397839, 0.9948323901989334, 0.9984551251319139, 0.7236310550946551, 0.024961951992255992, 0.004912724594220594, 0.031069663649935648, 0.033459637776853776, 0.07701027742291743, 0.1048933089036289, 0.5051961625479431, 0.09484519155124131, 0.3935337255454081, 0.0027661059622208503, 0.0036485446740949865, 0.9974340279802072, 0.11834361071817301, 0.1654800242854024, 0.0879244886068858, 0.0006348338527572982, 0.01867469583527719, 0.6089643732574384, 0.07408932901955194, 0.05341323720014209, 0.8718418717184484, 0.9986522017586218, 0.9994795921770383, 0.48860178001931226, 0.2358182202176542, 0.006870962531521579, 0.2686461523127017, 0.044176024046802785, 0.05631079608435047, 0.6727072221489212, 0.2057684659175922, 0.021019970289759556, 0.04919256704174079, 0.9493118788693382, 0.9224816089681406, 0.002739418468724395, 0.004846663444666238, 0.06223396828948242, 0.007656323412588695, 0.9963013084139458, 0.0032064869696081014, 0.9957985211029782, 0.9995013908417475, 0.5187768097000679, 0.47979358122549637, 0.0003132980474420219, 0.0005370823670434661, 0.0005370823670434661, 0.9291270973376716, 0.018682724673262232, 0.05212209419714463, 0.9998219481703844, 0.07111503328342154, 0.06108088525015042, 0.8529424008757968, 0.013538136235365804, 0.0013139955757855044, 0.0009815729354564248, 0.01730476730656512, 0.5316853400388968, 0.4499966590770232, 0.9998459364486074, 0.9992909582957635, 0.9979251122964747, 0.0020232934410847536, 0.12531668881607932, 0.07084473117225887, 0.14714705352066387, 0.6537674458434864, 0.0028587382351241654, 5.197705882043937e-05, 0.9997214597785117, 0.9917350355296289, 0.7921137855848829, 0.016301122111884024, 0.1913872484987865, 0.5787051713222577, 0.42122412850548796, 7.744187522436712e-05, 0.017037212549360768, 0.003562326260320888, 0.9793299540873467, 0.9986455493046512, 0.08565888766288174, 0.7641466884696118, 0.011200333377651204, 0.06152295798991506, 0.03391650248161984, 0.015301863910312208, 0.026817699636629642, 0.0015775117433311555, 0.9993178693338458, 0.9990394623508003, 0.9994634303005877, 0.9990817434526827, 0.9991495116318139, 0.039967380626932725, 0.026527022539999598, 0.9135906562775862, 0.01980684349653303, 0.9988766425497482, 0.9996729067199464, 0.9997269228265676, 0.038738101484174794, 0.00249386919426018, 0.8218130284818713, 0.0886154853693784, 0.04838106236864749, 0.9990990131951275, 0.9759861706194549, 0.02328396430901284, 0.9989885088041979, 0.9994668632641702, 0.2723140300048858, 0.012419004338856404, 0.49885379880678365, 0.21640471928398053, 0.9994753583881567, 0.9981968142168719, 0.9982134133305461, 0.0017589129290670699, 0.9988728285215415, 0.99895090491141, 0.999383415435705, 0.998738257248063, 0.7613402526147329, 0.0637013950369351, 0.05684464765448723, 0.07439872526409719, 0.027426989529791505, 0.016287288503761817, 0.00015120721860403555, 3.024144372080711e-05, 0.02376977476455439, 0.0006048288744161422, 0.016572311159002297, 0.8838364341843086, 0.008649052904150833, 0.0003326558809288782, 0.06604731308624273, 0.9156397698409191, 0.01058709987727977, 0.006448506288888588, 0.06164579519452448, 0.0056304122074624235, 0.4552162539935761, 0.16798913402963073, 0.022544997340521674, 0.3105043479873216, 0.002697691989464132, 0.0004624614839081369, 0.01129176789875701, 0.029057996572227938, 0.00023123074195406846, 0.8818776056135323, 0.11811155361378399, 0.9989348212145804, 0.8706705114988723, 0.07376196512621, 0.00020690593303284712, 0.03514814537395491, 0.00012414355981970828, 0.011995371467579312, 4.6553834932390607e-05, 0.008048640794977753, 0.6305283784233742, 0.0008787694942826571, 0.13638953202289547, 0.042203468276702995, 0.18699764187312234, 0.0011266275567726372, 0.001847669193107125, 0.33181925085447556, 0.00897790591145203, 0.11079670012109874, 0.24406411272577394, 0.026778031504677727, 0.2604111668420016, 0.01722927608440505, 0.9990554261875395, 0.8684067656790908, 0.0035672455057451885, 0.0001740119758900092, 0.001479101795065078, 8.70059879450046e-05, 0.12633269449614667, 0.6531942316826984, 0.05374239247641315, 0.2150263200561029, 0.06868659876165299, 0.003405009027016673, 0.005939849080462418, 0.9994624369500652, 0.9944906009879384, 0.9960128453077712, 0.3098267533996468, 0.613258151418431, 0.03352859107761105, 0.043300317902193915, 5.6429606301729686e-05, 2.8214803150864843e-05, 0.3212760566458336, 0.007222096977794167, 0.5214926065252758, 0.0007150591067122937, 0.026743210591039786, 0.0968905089595158, 0.025599116020300114, 0.9961453428850717, 0.44909950906827123, 0.10012255937343925, 0.028677160216057585, 0.0921365147563093, 0.1444088067957054, 0.06210634698115118, 6.600036873661125e-05, 0.12276068585009692, 3.3000184368305625e-05, 0.0006270035029978068, 0.3215551548394705, 0.20525998938742768, 0.21872963306018436, 8.690092692101088e-05, 0.02750414337049994, 0.2268548697272989, 0.9982037933149538, 0.03335364362330469, 0.43392118888571146, 0.16709203989927396, 0.089050990256396, 0.11819495070394379, 0.15834885176500962, 0.9629002441754833, 0.036542703763775455, 0.16100917235105117, 0.22207717844719566, 0.047074403976552194, 0.17079182192742842, 0.004817771031975264, 0.0005332647325468803, 0.06818433200978732, 0.32124603026186205, 0.0032363652733879635, 0.0010481410260404199, 0.9991313200064984, 0.5451676115880093, 0.1140486165679392, 0.09660773075984642, 0.21361167072530585, 0.021806704463520375, 0.0010074966127909823, 0.0001343328817054643, 0.007634585443593888, 0.4623593010981505, 0.5340029385929467, 0.003616236116192745, 0.9984066158529542, 0.9999936958759239, 0.9992729688119036, 0.6199434576879651, 0.2350813464207361, 0.03060679041623588, 0.05537796661767333, 0.04710749267876936, 4.6953217820217215e-05, 0.010021158203343502, 0.001569578995704404, 0.00014085965346065165, 0.00011402924327767038, 0.9898611475056444, 0.9995449210255106, 0.03886916231867424, 0.896322883068628, 0.028763180115818937, 0.03593238116570774, 0.9984447698198994, 0.12658277545912522, 0.6113829753016441, 0.11619373883265836, 0.0039577282386540425, 0.14187595359870686, 0.9994273490879901, 0.2406441245959312, 0.607171633591721, 0.06295901719090094, 0.05474697147034864, 0.027338835753231063, 0.00609839682201352, 0.001039499458297759, 0.029585656092030684, 0.39484756117791897, 0.5755247439789365, 0.9861957486001217, 0.013175627903809242, 0.9987717629379156, 0.43848212439673206, 0.5614047337149897, 6.709749416935456e-05, 0.9996301168228438, 0.9995912388687928, 0.9987464725631513, 0.9991635613736372, 0.9998148399122014, 0.9996789510004193, 0.14865744477128565, 0.010541670555095183, 0.8230459010751673, 0.01778161033255678, 0.9999422876700886, 0.9981938514824323, 0.15521032664502057, 0.01797172203258133, 0.002614068659284557, 0.019605514944634177, 0.12286122698637418, 0.22546342186329305, 0.006861930230621962, 0.11959364116226848, 0.32986278894347004, 0.9981753108376596, 0.9990096484301543, 0.507791761204966, 0.4561949585862796, 0.006043326290968192, 0.012594495127395897, 0.011070967491017361, 0.006348031818243899, 0.9991027681315634, 0.025788190825296157, 0.6966754671274198, 0.12207987583351208, 0.15536004870285453, 0.9990101356012884, 0.9989320069625695, 0.9981649602133706, 0.9997372586908517, 0.9999840519204661, 0.923790230760767, 0.019642185967513024, 0.0564965967519189, 0.4994215360260966, 0.30317806180905615, 0.1168577972170184, 0.08052604584805668, 0.9970830207267279, 0.004270279571046456, 0.955585492286413, 0.02230852948322545, 0.01774374787279648, 0.99996964696327, 0.009703574245001992, 0.0545826051281362, 0.935181967862067, 0.44314764150355135, 0.24425246411682275, 0.14489552956082705, 0.08331115224175187, 0.0843385657985961, 0.7171974890812142, 0.21469377077649124, 0.03186827799745083, 0.014665296429975173, 0.020876315854907297, 0.0005608143950277313, 0.00012618323888123956, 0.9997968060068748, 0.9994396717412874, 0.9994225289525688, 0.05166918388104666, 0.05664112421677001, 0.01628066737383923, 0.25395891322665387, 0.5707007593200889, 0.03675336287387659, 0.013940930745263532, 0.9989185086599704, 0.9993502615151499, 0.43152585566038937, 0.2622121816926823, 0.22672117361276103, 0.07721760071651255, 0.002240129572637515, 6.686953948171687e-05, 0.018403294763639708, 0.7751984338157709, 0.2061491878348062, 0.7736058506999633, 0.11115851312103865, 0.08361725291875549, 0.03057687004421818, 0.0005850448059002035, 0.0004084275060058024, 4.415432497360026e-05, 0.08380574487936507, 0.182631121894551, 0.34104071044601875, 0.21054102059757004, 0.15361851602206664, 0.004258731137245412, 0.024031411417313395, 0.3114421855783625, 0.0006294304478139905, 0.04124867534674351, 0.06638393122944887, 0.45000080815714893, 0.0659643109309062, 0.0265619648977504, 0.03776582686883943, 0.13503571727161776, 0.08256774262392896, 0.7676640558971297, 0.014716627035327346, 0.9985924745443482, 0.9981533641356596, 0.8163312155479858, 0.07952361180308203, 0.08992398546270781, 0.009222972867970032, 0.004660544800304005, 0.00024529183159494765, 0.00012264591579747383, 0.9981639352410758, 0.9992242916733038, 0.12015402088529073, 0.07155440945258358, 0.08518382077688522, 0.013988080043362204, 0.7090880575827456, 0.9990534003814201, 0.9657900206032396, 0.003358820296372957, 0.001033483168114756, 0.0038755618804303354, 0.019636180194180366, 0.006200899008688537, 0.050203153229082954, 0.031538854987618124, 0.07600305392748875, 0.12234637949303068, 0.01904520228720901, 0.5432199564373003, 0.00012696801524806007, 0.09162011980300015, 0.0010157441219844805, 0.06485526218870909, 0.1637414591107269, 0.1147720507785469, 0.7165176621937728, 0.0018703593460207642, 0.002890555352941181, 0.9992386309279295, 0.13136677691187257, 0.6664772884075753, 0.20005142881036475, 0.0020664436817597934, 0.9993593864583303, 0.9994710516434585, 0.019453639829793416, 0.9227215073813376, 0.05791879131143039, 0.2881560882217031, 0.32074217718317405, 0.16293044480735472, 0.2281026227302966, 0.9994493873954925, 0.0028692446490356342, 0.04852148376785013, 0.7774232580743482, 0.17118879460483893, 0.9543089212022826, 0.04490196829957137, 0.18048109789215663, 0.20902657766081406, 0.610428203117392, 0.6823657688862179, 0.259631853527439, 0.04869638278411131, 0.009246148629894552, 0.9992028022859747, 0.9979784305449002, 0.9429990680504198, 0.014169416048425997, 0.04299684869867199, 0.9167250536241068, 0.08322418990617117, 0.9966413248095013, 0.9983649390140509, 0.998417592642266, 0.997942776812217, 0.25785852541050985, 0.6302118243355255, 0.0787898087486185, 0.0034979774322613524, 0.02462448137527885, 0.0008105069660117768, 0.0042125033101927875, 0.9608888700385582, 0.03861945697762626, 0.05575821501416054, 0.8649073066445782, 0.03257783349141964, 0.04670248857161557, 0.45714698032207857, 0.4110652827918736, 0.11793089502542088, 0.013827093762568524, 0.01423443541451465, 0.277054597676922, 0.017176748880084716, 0.6915231863945217, 0.9996975728822082, 0.9992145487693261, 0.04714902383193268, 0.12632944798143234, 0.06047049405746287, 0.0544833164280111, 0.6349401876033601, 0.07663587365698264, 0.0011199019158953233, 0.8853944547068426, 0.11333407388860672, 0.9991980056573876, 0.9989304486621718, 0.9987217903793044, 0.09781259764077226, 0.10404362237936961, 0.053543340486319035, 0.4078423052740052, 0.02202594791318131, 0.06941071743693321, 0.24540093941429306, 0.8338855648844092, 0.1659220143893451, 0.3736442547079079, 0.2122591697604836, 0.0732246241660769, 0.009969050092377718, 0.3305041660519246, 0.00039024751251300673, 0.9303945007738972, 0.0050678329103352295, 0.006856479819865311, 0.057534808923217606, 0.9982151282033765, 0.9998531393239497, 0.9998364833091747, 0.9967892369785583, 0.45789757995543034, 0.00048395023423156283, 0.07985178864820787, 0.369737978952914, 0.04045017374452146, 0.00012098755855789071, 0.025689691600458794, 0.0025810679159016686, 0.02314895287074309, 0.9993433665258424, 0.9990945929756526, 0.998981333615907, 0.31607461992138797, 0.683432870227372, 0.9994115805448197, 0.29858292026705757, 0.007260762139599949, 0.05541107948642066, 0.12992942776126226, 0.5087628769396877, 0.08176847428410862, 0.902625270006906, 0.00035245032019012336, 0.00528675480285185, 0.009868608965323454, 0.43741380437452004, 0.1552946459033432, 0.11371500931101766, 0.00023173364342856585, 0.16277633210546547, 0.004866406511999883, 0.1254341107072623, 0.00023173364342856585, 0.012801860847207714, 0.2785656312842126, 0.1084224639350106, 0.23608347852867412, 0.0013588567379717686, 0.3628147490384622, 0.9991765245191355, 0.11881224644700138, 0.12997384191050212, 0.7447427709922669, 0.0064619763209741166, 0.33213384854701383, 0.554588526888115, 0.11318835319242547, 0.998939106595145, 0.9976738678330731, 0.0012369507475725099, 0.9986831098213552, 0.2039906003032208, 0.5831180329576147, 0.004481649821522255, 0.07956187323601306, 0.10438719191028802, 0.00317240380624609, 0.02130042555622375, 0.9998219239391029, 0.9989520830133757, 0.8342865630834188, 0.008285328626483606, 0.0013189251766517708, 0.15365920900334287, 0.000823221754554461, 0.0005488145030363073, 0.0010799253124262821, 0.9994112902182045, 0.17236377024428504, 0.047675085386717136, 0.7799557111823912, 0.5642587037523384, 0.15644054682613945, 0.04964380019282825, 0.0008343495830727437, 0.22378447745986804, 0.005006097498436462, 0.9521187634185526, 0.04734767810851753, 0.9997948213593814, 0.10374187942133797, 0.8513386231250009, 0.044772811118682705, 0.9966755433348561, 0.07893362480120782, 0.013303419910315925, 0.9076479957478212, 0.1155398152142869, 0.15261602457409537, 0.09010381111860433, 0.050225330121135905, 0.5914948749029911, 0.9997378281454622, 0.991191584535818, 0.9917647066434949, 0.049571010573828525, 0.9497805625945546, 0.000874877284201645, 0.6264704606406579, 0.17771673899749416, 0.19404778163592487, 0.0008165521319215353, 0.9763633836464592, 0.0003100058370047497, 0.02325043777535623, 0.9999545435669206, 0.9784514337279332, 0.02150531889673238, 0.9976817311219429, 0.9603504269527423, 0.03890838240752292, 0.05655584916155701, 0.1758001094419483, 0.7187021916042441, 0.04173549109813695, 0.0025552341488655275, 0.004769770411215651, 0.602005064902887, 0.023410107676637683, 0.013936677889985628, 0.014341813875159629, 0.34023995261554546, 0.006070287511190446, 0.953003394593419, 0.004510397745403968, 0.007565828476161494, 0.03477371165004994, 0.44315122257714135, 0.001709485428339121, 0.5550567686938023, 0.9999761482100553, 0.9971069658140007, 0.08230556004820036, 0.020132295263588576, 0.8970713918922557, 0.613185257033396, 0.11156445264310276, 0.0018227500159531003, 0.1068253026016247, 0.007752763401187187, 0.013561260118691068, 0.08502521241082563, 0.0602601155274095, 0.5333976216895353, 0.11606556741410241, 0.09424583366779861, 0.241944085738567, 0.003053576869387624, 0.009338608872399045, 0.001719489887616332, 0.00023717101898156304, 0.9999577746544446, 0.999070537094595, 0.9970426797515056, 0.9997570966801647, 0.034413833973246544, 0.09936024244907272, 0.0003450008418370581, 0.04062384912631359, 0.8238620103068948, 0.0012937531568889679, 0.9993467673669639, 0.02185026235755206, 0.9779553138030087, 0.999975883450696, 0.9947087822043712, 0.9989758783436974, 0.9998925631097687, 0.9989720082850493, 0.9990587918893297, 0.9995935672417343, 0.0011088438459889, 0.9979594613900101, 0.9992754777640472, 0.9997116561272674, 0.99839706257434, 0.5829889675060196, 0.029553138148985574, 0.1836407630855779, 0.072283319854091, 0.014928904838147352, 0.11661302707756936, 0.9987702683855065, 0.048266673943274885, 0.17190870171577358, 0.1309150882297045, 0.6492859426341909, 0.23375064028222833, 0.253044343924571, 0.0022261965741164603, 0.5112831465220804, 0.9997058376666953, 0.9875335914777599, 4.2269126031663734e-05, 0.0019443797974565318, 0.0006340368904749561, 0.00803113394601611, 0.0018175724193615407, 0.9854433671540349, 0.0032558701557952696, 0.011287016540090268, 0.9994982674063573, 0.23706146460977315, 0.29860968878809846, 0.08242006898638936, 0.07394088203311333, 0.014527278346521866, 0.21903578045735417, 0.07435594712872824, 0.9997171343206722, 0.9983730142479068, 0.010585609746571778, 0.7993097686820471, 0.040225317036972755, 0.06351365847943066, 0.008853419060769122, 0.0773711839658519, 0.9988798869725616, 0.9999744767972674, 0.17208486238217172, 0.4798021307934304, 0.007716213388609168, 0.27505639967154233, 0.0652552183984965, 0.9994949024810762, 0.9994621405164575, 0.11918516613009854, 0.8707337965317892, 0.010006887065893063, 0.9970665559256601, 0.020385558844546577, 0.9785068245382357, 0.18356008819958874, 0.06489049122794179, 0.020667177000680086, 0.7306847094433992, 0.9997328166134144, 0.9969100945258206, 0.37692309521931794, 0.12881058349910093, 0.22795416253088924, 0.26624234778357475, 0.13412449761938888, 0.07331564178551803, 0.7922401997646861, 0.9997255763521928, 0.9999024243351704, 0.9967771099556905, 0.9601772654852988, 0.003408304538927121, 0.00012861526561989134, 0.03620519727199941, 0.955616369602715, 0.04407556494366298, 0.32523697801028856, 0.13779123877535127, 0.00038792578484051594, 0.03964601521070073, 0.12979996760763662, 0.34626255554864455, 0.020870407224419758, 0.1896048096337271, 0.17448681816791498, 0.05213768851671106, 0.07287647168135077, 0.5005896469016189, 0.009642565069540428, 0.0006299163110755053, 0.0026110793539909738, 0.9965619534398883, 0.997668855798914, 0.4221926003599413, 0.10869732492423897, 0.008330075368025791, 0.0013206217046870157, 0.06003749442077125, 0.04358051625467151, 0.35585675627066277, 0.06245384797443361, 0.9298314919172322, 0.007640630337297729, 0.6449629406066477, 0.0054765786105066975, 0.07649902582802584, 0.06903208794823792, 0.14000508524602337, 0.003708743980027109, 0.01886514437840456, 0.04145139521676965, 0.46798616106088764, 0.012756702329053285, 0.06486535212546883, 9.015337335019989e-05, 0.3659325424284614, 0.0882601525098457, 0.9991604487300979, 0.9098070365395198, 0.02665985774349464, 0.020294265232636582, 0.030409885014742705, 0.007247951868798779, 0.004380283955491436, 0.001197487700062407, 0.8855238820591214, 0.01198683309870045, 0.003631546246303325, 0.013297466330449018, 0.08557342808958361, 0.32790379762044924, 0.19313736605383577, 0.014204787738199293, 0.10098529770182019, 0.09692678691947754, 0.22709755186490888, 0.03807838057550903, 0.0016711514986116815, 0.9946096150057755, 0.9998604606753329, 0.9998370382919086, 0.9897380071902938, 0.007070258608760904, 0.0004909901811639516, 0.000294594108698371, 0.0007855842898623227, 0.0016693666159574357, 0.16817723008891877, 0.07940170863214525, 0.21210549018864727, 0.5400051387991731, 0.9957664674038297, 0.003987623153218997, 0.20003448292420997, 0.17953720584404914, 0.4899728643287294, 0.13042491818663404, 0.5640546713308697, 0.03784155727443581, 0.11399600794594276, 0.15799860168054028, 0.05548299500735785, 0.034676871879598656, 0.02077245626185667, 0.015150089656135336, 0.895053437206213, 0.1049194333049251, 0.9998726627790542, 0.37113559937197743, 0.10085764880967736, 0.2678121608460703, 0.19351882995151676, 0.023002621658347468, 0.008162220588445875, 0.03522882900132024, 0.0002853923282673383, 0.6247433597781846, 0.21670120580466368, 0.15855650255633488, 0.9988700882743787, 0.9998425591461447, 0.6997340281170554, 0.0013115259715611469, 0.0005975591704746054, 0.057070781034678546, 0.24011789991759436, 0.0011718368148268235, 0.993771125146764, 0.7960955626967108, 0.009872661995111408, 0.03335763068045218, 0.16065513610226745, 0.10176443123591183, 0.16522802620797938, 0.7328375124669275, 0.029991794459540026, 0.21779755500380257, 0.7521751626360832, 0.99844331397946, 0.34442179392037525, 0.0019837108361144724, 0.6535087385724615, 0.9992782144041976, 0.7411507291559356, 0.22669113908076075, 0.0012532840797162415, 0.01588695358604329, 0.0150033432276822, 0.7415618531576352, 0.16281094993601833, 0.00018399212315344264, 0.09019293876981758, 0.0021416683135060724, 0.000375343931233023, 0.0027157237377448138, 1.4719369852275412e-05, 0.9986568516046447, 0.602426423220734, 0.09944021170413328, 0.0647861347514131, 0.061464092747197524, 0.17145147203125474, 6.3156692095352985e-06, 6.947236130488829e-05, 0.00035367747573397673, 0.9991864147125613, 0.7244226043924563, 0.0028336499291705705, 0.00432131614198512, 0.17526124811919977, 0.0931562414214825, 0.36543616029693704, 0.0005163210611738052, 0.5472208908348222, 0.08682137228661063, 0.9957792025086147, 0.9992877076312355, 0.09743328329707021, 0.0024460238484620136, 0.4560475575243621, 0.03152652960239929, 0.41229090867965273, 0.9996261297792151, 0.008129973467159829, 0.1690664936920737, 0.7913790081783079, 0.031226488998863884, 0.9984772309259642, 0.2107755116762861, 0.7891699314459382, 0.8746506450731383, 0.04403666676728945, 0.060113066347402655, 0.0006937283120874365, 0.00742993076279153, 6.032420105108144e-05, 0.012999865326508049, 1.0054033508513573e-05, 0.9976553091815805, 0.9996227313792826, 0.9996452948642042, 0.9995937290914968, 0.03266277486837538, 0.5969510949753557, 0.1969098713493487, 0.17337193517436073, 0.9986531990833307, 0.20085836829222015, 0.0033757708956675654, 0.7949940459297117, 0.998991722450572, 0.9998174642401785, 0.3397157119909096, 0.19541767668266893, 0.18889924622169688, 0.040922760528841265, 0.07649013005655195, 0.0002434268636877537, 0.07792364380937983, 0.07478614201073766, 0.005598817864818335, 0.9992382082302281, 0.008241499398768339, 0.9915825066097066, 0.9991560955257033, 0.9381106220593075, 0.06171052174608424, 0.9987209800004576, 0.9999911251222862, 0.25934168952045694, 0.7404062740375243, 0.9995035622251034, 0.9989995146587762, 0.999277817203911, 0.010833136737780802, 0.024543825421534632, 0.936558524533456, 0.028013814532855043, 0.04887509965835769, 0.0004610858458335631, 0.44218132615438704, 0.03196861864446038, 0.4765066057886634, 0.8733799049695945, 0.0017322717191968157, 0.12472356378217073, 0.8891011705787977, 0.07038541873993442, 0.007301750413607116, 0.029135864211289633, 0.0014278301087151007, 0.001143280336159778, 0.0014989675518539312, 0.5552093831732747, 0.38363907196095587, 0.0013397983305248082, 0.03873235173698991, 0.0035778705417423857, 0.00025882467748774706, 0.0023294220973897233, 0.014753006616801581, 0.00015224981028691002, 0.9950695838131703, 0.9998484863974434, 0.30295597316432654, 0.22097965101397934, 0.036274575276201995, 0.42437035099287007, 0.015416694492385847, 0.00024676614334788433, 0.12794824532587804, 0.8393750365978286, 0.03232636477857285, 0.2384853630031576, 0.27307484313338654, 0.006978579324519878, 0.48091514040713074, 0.0004551247385556442, 0.6078379895410555, 0.27118988457809157, 0.10436866470673394, 0.0028288613837634427, 0.012621073866021513, 0.0011560250847110222, 0.14945455705033622, 0.1362117481977748, 0.7143377476508304, 0.9875172821830152, 0.004458562404451641, 0.001872278874467237, 0.8737512971115408, 0.051979538921649734, 0.024736294621139174, 0.04320521504384989, 0.13610432538705386, 0.038431088819789926, 0.4777062959855837, 0.055854569822023206, 0.28934308929123426, 0.0024742036725135513, 9.249359523415145e-05, 0.999963636408545, 0.43283234101284745, 0.30478937987837534, 0.1378622066202445, 0.020816800429837492, 0.0043204680137398565, 0.0993707643160167, 0.9993005380503653, 0.14457754806860953, 0.6560497579025932, 0.01834473308826871, 0.13923953147325266, 0.04172674944257842, 0.4391832748046973, 0.011969408774043075, 0.21379752869644245, 0.11245992277720869, 0.0001440056257315869, 0.1291984590387155, 0.09324787812078286, 0.1421382289814319, 0.0054406977600548094, 0.15488986435656038, 0.6263036556913094, 0.013488396530135883, 0.00425054512504282, 0.05350019464053896], \"Term\": [\"able\", \"able\", \"able\", \"able\", \"abuse\", \"abuse\", \"abuse\", \"abuse\", \"abusive\", \"abusive\", \"abusive\", \"academic\", \"account\", \"account\", \"achieve\", \"achieve\", \"acne\", \"acquaintance\", \"adam\", \"afford\", \"again\", \"again\", \"again\", \"again\", \"again\", \"age\", \"age\", \"age\", \"age\", \"age\", \"age\", \"aggressively\", \"alot\", \"also\", \"also\", \"also\", \"also\", \"also\", \"also\", \"also\", \"also\", \"also\", \"always\", \"always\", \"always\", \"always\", \"always\", \"always\", \"always\", \"always\", \"amp\", \"amp\", \"amp\", \"amp\", \"amp\", \"amp_nbsp\", \"anorexic\", \"answer\", \"answer\", \"answer\", \"anxiety\", \"anxiety\", \"anxiety\", \"anxiety\", \"anymore\", \"anymore\", \"anyone\", \"apartment\", \"apartment\", \"apartment\", \"apartment\", \"apologetic\", \"app\", \"app\", \"appointment\", \"arm\", \"ask\", \"ask\", \"ask\", \"ask\", \"ask\", \"ask\", \"ask\", \"attempted_suicide\", \"attract\", \"attractive\", \"aunt\", \"awareness\", \"awkward\", \"awkward\", \"awkward\", \"baby\", \"baby\", \"baby\", \"back\", \"back\", \"back\", \"back\", \"back\", \"back\", \"back\", \"bad\", \"bad\", \"bad\", \"bad\", \"bad\", \"bad\", \"badly\", \"badly\", \"be\", \"be\", \"be\", \"be\", \"be\", \"be\", \"be\", \"be\", \"be\", \"become\", \"become\", \"become\", \"become\", \"become\", \"become\", \"bed\", \"bed\", \"bed\", \"beer\", \"believe\", \"believe\", \"believe\", \"believe\", \"believe\", \"bf\", \"bf\", \"bf\", \"bf\", \"bff\", \"bi\", \"bi\", \"bike\", \"bikini\", \"bill\", \"bill\", \"biological\", \"birth_control\", \"bisexual\", \"black\", \"black\", \"black\", \"black\", \"bleed\", \"bleed\", \"bleeding\", \"block\", \"block\", \"block\", \"blood\", \"blood\", \"blood\", \"bob\", \"body\", \"body\", \"body\", \"body\", \"boob\", \"boyfriend\", \"boyfriend\", \"boyfriend\", \"boyfriend\", \"boyfriend\", \"bra\", \"brain\", \"brain\", \"brain\", \"break\", \"break\", \"break\", \"break\", \"breakfast\", \"breast\", \"broke\", \"brother\", \"bully\", \"burst_tear\", \"butt\", \"buy\", \"buy\", \"buy\", \"call\", \"call\", \"call\", \"call\", \"call\", \"call\", \"campus\", \"candidate\", \"car\", \"car\", \"car\", \"car\", \"cashier\", \"casual\", \"catcall\", \"cervix\", \"change\", \"change\", \"change\", \"change\", \"child\", \"child\", \"child\", \"choose\", \"choose\", \"choose\", \"choose\", \"choose\", \"choose\", \"church\", \"class\", \"classmate\", \"clean\", \"clean\", \"clean\", \"cleaning\", \"clinic\", \"closure\", \"college\", \"college\", \"college\", \"come\", \"come\", \"come\", \"come\", \"come\", \"come\", \"come\", \"come\", \"comment\", \"comment\", \"comment\", \"comment\", \"comment\", \"comment\", \"comment\", \"comment\", \"company\", \"company\", \"company\", \"company\", \"concept\", \"condom\", \"condom\", \"consensual\", \"consent\", \"consent\", \"consent\", \"contact\", \"contact\", \"contact\", \"contact\", \"contact\", \"conversation\", \"conversation\", \"conversation\", \"conversation\", \"cook\", \"cooking\", \"cost\", \"cost\", \"cost\", \"couch\", \"couch\", \"cousin\", \"coworker\", \"coworker\", \"coworker\", \"create\", \"create\", \"create\", \"crush\", \"crush\", \"crush\", \"cry\", \"cry\", \"cry\", \"cup\", \"cup\", \"cure\", \"cv\", \"cyst\", \"d\", \"dad\", \"daniel\", \"date\", \"daughter\", \"day\", \"day\", \"day\", \"day\", \"day\", \"day\", \"dd\", \"debt\", \"define\", \"degree\", \"degree\", \"degree\", \"delete\", \"depression\", \"depression\", \"depression\", \"depth\", \"desire\", \"desire\", \"devastated\", \"diagnose\", \"diagnosis\", \"did\", \"die\", \"die\", \"die\", \"die\", \"die\", \"dinner\", \"dinner\", \"dinner\", \"director\", \"dish\", \"dismissive\", \"disorder\", \"divorce\", \"divorce\", \"do\", \"do\", \"do\", \"do\", \"do\", \"do\", \"do\", \"do\", \"doctor\", \"doctor\", \"dog\", \"dog\", \"dog\", \"door\", \"door\", \"door\", \"dorm\", \"downvote\", \"drank\", \"dream\", \"dream\", \"dream\", \"dream\", \"dress\", \"dress\", \"dress\", \"drink\", \"drink\", \"drink\", \"drinking\", \"drinking\", \"drive\", \"drive\", \"drive\", \"drive\", \"drive\", \"drive\", \"due\", \"due\", \"due\", \"due\", \"due\", \"due\", \"due\", \"earth\", \"earth\", \"eat\", \"eat\", \"eat\", \"effective\", \"el\", \"el\", \"el\", \"el\", \"elementary\", \"email\", \"end\", \"end\", \"end\", \"end\", \"end\", \"end\", \"even\", \"even\", \"even\", \"even\", \"even\", \"even\", \"even\", \"even\", \"even\", \"even\", \"ever\", \"ever\", \"ever\", \"ever\", \"ever\", \"everyone\", \"everyone\", \"everyone\", \"everything\", \"everytime\", \"ex\", \"ex\", \"ex\", \"exam\", \"examination\", \"exist\", \"exist\", \"exist\", \"existence\", \"experience\", \"experience\", \"experience\", \"experience\", \"eye\", \"eye\", \"eye\", \"eye\", \"eye\", \"face\", \"face\", \"face\", \"face\", \"face\", \"facebook\", \"fail\", \"fail\", \"fail\", \"fail\", \"family\", \"family\", \"family\", \"family\", \"family\", \"fat\", \"fat\", \"fat\", \"fat\", \"father\", \"fault\", \"fault\", \"fault\", \"fear\", \"fear\", \"fear\", \"fear\", \"fear\", \"feel\", \"feel\", \"feel\", \"feel\", \"female\", \"female\", \"female\", \"feminism\", \"feminist\", \"fianc\", \"fianc\", \"financial\", \"find\", \"find\", \"find\", \"find\", \"find\", \"find\", \"find\", \"find\", \"finger\", \"fingering\", \"finish\", \"finish\", \"finish\", \"finish\", \"finish\", \"finish\", \"finish\", \"first\", \"first\", \"first\", \"first\", \"first\", \"first\", \"first\", \"first\", \"flirt\", \"flirty\", \"follow\", \"follow\", \"follow\", \"follow\", \"follow\", \"follow\", \"follow\", \"follow\", \"food\", \"food\", \"foreplay\", \"forgave\", \"foster\", \"freshman\", \"friday\", \"friday\", \"friend\", \"friend\", \"friend\", \"friend\", \"friendship\", \"front\", \"front\", \"front\", \"front\", \"front\", \"front\", \"front\", \"front\", \"fuck\", \"fuck\", \"fuck\", \"fuck\", \"fucking\", \"fucking\", \"fucking\", \"funeral\", \"game\", \"game\", \"game\", \"game\", \"game\", \"gas_station\", \"get\", \"get\", \"get\", \"get\", \"get\", \"get\", \"get\", \"get\", \"get\", \"get\", \"girl\", \"girl\", \"girl\", \"girl\", \"girl\", \"girlfriend\", \"girlfriend\", \"give\", \"give\", \"give\", \"give\", \"give\", \"give\", \"give\", \"give\", \"gm\", \"go\", \"go\", \"go\", \"go\", \"go\", \"go\", \"go\", \"go\", \"go\", \"go\", \"goal\", \"goal\", \"goal\", \"gon\", \"gon\", \"gon\", \"gon\", \"good\", \"good\", \"good\", \"good\", \"good\", \"good\", \"good\", \"good\", \"gp\", \"gpa\", \"grab\", \"grab\", \"grab\", \"grad\", \"grade\", \"graduate\", \"grandfather\", \"grandma\", \"grandmother\", \"grandpa\", \"grandparent\", \"graphic\", \"group\", \"group\", \"group\", \"grow\", \"grow\", \"grow\", \"grow\", \"grow\", \"grow\", \"grow\", \"guess\", \"guess\", \"guess\", \"guess\", \"guess\", \"guide\", \"guilty\", \"guilty\", \"guilty\", \"guilty\", \"guy\", \"guy\", \"guy\", \"guy\", \"gynecologist\", \"gyno\", \"hair\", \"hand\", \"hand\", \"hand\", \"hand\", \"hand\", \"hand\", \"hand\", \"hand\", \"hang\", \"hang\", \"hang\", \"happen\", \"happen\", \"happen\", \"happen\", \"happen\", \"happen\", \"happen\", \"happiness\", \"harassment\", \"hate\", \"hate\", \"hate\", \"hate\", \"hate\", \"hate\", \"have\", \"have\", \"have\", \"have\", \"have\", \"have\", \"head\", \"head\", \"head\", \"head\", \"head\", \"health\", \"health\", \"heartbroken\", \"hell\", \"hell\", \"hell\", \"hell\", \"hell\", \"hell\", \"hell\", \"help\", \"help\", \"help\", \"help\", \"help\", \"herpe\", \"high\", \"high\", \"high\", \"high\", \"high\", \"high\", \"highschool\", \"highschool\", \"highschool\", \"hip\", \"hire\", \"hold\", \"hold\", \"hold\", \"hold\", \"home\", \"home\", \"home\", \"home\", \"home\", \"homework\", \"homework\", \"honestly\", \"honestly\", \"honestly\", \"honestly\", \"honestly\", \"hook\", \"hook\", \"hooked\", \"hookup\", \"hope\", \"hope\", \"hope\", \"hope\", \"hope\", \"horrible\", \"horrible\", \"horrible\", \"hotel\", \"hour\", \"hour\", \"hour\", \"hour\", \"hour\", \"house\", \"house\", \"house\", \"house\", \"human\", \"human_being\", \"hurt\", \"hurt\", \"husband\", \"husband\", \"husband\", \"husband\", \"husband\", \"husband\", \"i\", \"idc\", \"idk\", \"idk\", \"idk\", \"ignore\", \"ignore\", \"ill\", \"ill\", \"ill\", \"ill\", \"implant\", \"important\", \"important\", \"important\", \"important\", \"important\", \"important\", \"important\", \"important\", \"incel\", \"inch\", \"income\", \"industry\", \"initiate\", \"insecure\", \"insecure\", \"insecure\", \"insecure\", \"inspire\", \"instagram\", \"insurance\", \"interested\", \"interested\", \"interested\", \"interested\", \"interested\", \"internship\", \"interview\", \"interview\", \"intimacy\", \"intimate\", \"issue\", \"issue\", \"issue\", \"issue\", \"iud\", \"jane\", \"job\", \"job\", \"joe\", \"journey\", \"joy\", \"junior\", \"keep\", \"keep\", \"keep\", \"keep\", \"keep\", \"keep\", \"kid\", \"kid\", \"kid\", \"kid\", \"kid\", \"kid\", \"kid\", \"kid\", \"kid\", \"kill\", \"kill\", \"kill\", \"kill\", \"kill\", \"kind\", \"kind\", \"kind\", \"kind\", \"kind\", \"kind\", \"kind\", \"kind\", \"kind\", \"kiss\", \"kiss\", \"knee\", \"know\", \"know\", \"know\", \"know\", \"know\", \"know\", \"know\", \"know\", \"last\", \"last\", \"last\", \"last\", \"last\", \"last\", \"last\", \"later\", \"later\", \"later\", \"later\", \"later\", \"later\", \"later\", \"laundry\", \"learn\", \"learn\", \"learn\", \"learn\", \"learn\", \"learn\", \"leave\", \"leave\", \"leave\", \"leave\", \"leave\", \"leave\", \"leg\", \"lengthy\", \"lewd\", \"life\", \"life\", \"life\", \"life\", \"life\", \"life\", \"like\", \"like\", \"like\", \"like\", \"like\", \"like\", \"like\", \"lisa\", \"little\", \"little\", \"little\", \"little\", \"little\", \"little\", \"little\", \"little\", \"little\", \"little\", \"live\", \"live\", \"live\", \"live\", \"live\", \"live\", \"log\", \"lol\", \"lol\", \"lol\", \"lol\", \"lol\", \"lol\", \"loneliness\", \"loneliness\", \"look\", \"look\", \"look\", \"look\", \"look\", \"look\", \"look\", \"look\", \"look\", \"look\", \"lost_virginity\", \"lot\", \"lot\", \"lot\", \"lot\", \"lot\", \"lot\", \"lot\", \"lot\", \"love\", \"love\", \"love\", \"lube\", \"m\", \"machine\", \"make\", \"make\", \"make\", \"make\", \"make\", \"make\", \"make\", \"make\", \"make\", \"make\", \"maker\", \"makeup\", \"male\", \"male\", \"male\", \"male\", \"male_dominate\", \"man\", \"man\", \"man\", \"man\", \"man\", \"management\", \"many\", \"many\", \"many\", \"many\", \"many\", \"many\", \"many\", \"marry\", \"marry\", \"marry\", \"masturbate\", \"masturbate\", \"math\", \"matter\", \"matter\", \"matter\", \"me\", \"meal\", \"meaningful\", \"med\", \"medical\", \"medication\", \"meet\", \"meet\", \"meet\", \"meet\", \"message\", \"messed\", \"middle\", \"middle\", \"middle\", \"middle\", \"middle\", \"middle\", \"middle\", \"middle\", \"middle\", \"midnight\", \"mil\", \"mind\", \"mind\", \"mind\", \"mind\", \"mind\", \"mind\", \"mindset\", \"minute\", \"minute\", \"minute\", \"minute\", \"miscarriage\", \"misery\", \"misogyny\", \"molest\", \"mom\", \"money\", \"money\", \"money\", \"month\", \"month\", \"month\", \"month\", \"moody\", \"morning\", \"morning\", \"morning\", \"morning\", \"mother\", \"mouth\", \"mouth\", \"mouth\", \"move\", \"move\", \"move\", \"move\", \"move\", \"much\", \"much\", \"much\", \"much\", \"much\", \"much\", \"much\", \"mum\", \"muscle\", \"mutual\", \"name\", \"name\", \"name\", \"name\", \"name\", \"name\", \"name\", \"nausea\", \"neck\", \"need\", \"need\", \"need\", \"need\", \"need\", \"need\", \"negative\", \"negative\", \"negative\", \"never\", \"never\", \"never\", \"never\", \"never\", \"never\", \"never\", \"new\", \"new\", \"new\", \"new\", \"new\", \"new\", \"new\", \"next\", \"next\", \"next\", \"next\", \"next\", \"next\", \"next\", \"next\", \"night\", \"night\", \"night\", \"night\", \"nipple\", \"nose\", \"now\", \"now\", \"now\", \"now\", \"now\", \"now\", \"now\", \"nt\", \"nude\", \"number\", \"number\", \"number\", \"number\", \"number\", \"officer\", \"okay\", \"okay\", \"okay\", \"okay\", \"okay\", \"okay\", \"old\", \"old\", \"old\", \"old\", \"old\", \"old\", \"old\", \"old\", \"old\", \"old\", \"option\", \"option\", \"option\", \"option\", \"option\", \"orgasm\", \"other\", \"other\", \"other\", \"other\", \"overcome\", \"overdose\", \"pack\", \"pack\", \"pack\", \"pain\", \"pain\", \"pain\", \"pain\", \"pant\", \"parent\", \"parent\", \"parent\", \"parent\", \"parking\", \"parking\", \"partner\", \"partner\", \"partner\", \"party\", \"party\", \"party\", \"party\", \"passion\", \"password\", \"path\", \"path\", \"path\", \"pay\", \"pay\", \"paycheck\", \"pedophile\", \"pee\", \"penetration\", \"people\", \"people\", \"people\", \"people\", \"people\", \"people\", \"people\", \"perhaps\", \"perhaps\", \"period\", \"period\", \"period\", \"period\", \"person\", \"person\", \"person\", \"person\", \"phone\", \"phone\", \"phone\", \"phone\", \"photo\", \"pic\", \"picture\", \"picture\", \"picture\", \"picture\", \"picture\", \"picture\", \"pill\", \"pill\", \"pill\", \"pizza\", \"plant\", \"platonic\", \"play\", \"play\", \"play\", \"play\", \"play\", \"play\", \"play\", \"positive\", \"positive\", \"post\", \"post\", \"post\", \"post\", \"post\", \"post\", \"power\", \"power\", \"power\", \"power\", \"predator\", \"pregnancy\", \"pregnant\", \"presentation\", \"pretty\", \"pretty\", \"pretty\", \"pretty\", \"pretty\", \"pretty\", \"pretty\", \"pretty\", \"pretty\", \"procedure\", \"professor\", \"profile\", \"program\", \"program\", \"psychiatrist\", \"pull\", \"pull\", \"pull\", \"pull\", \"pull\", \"purpose\", \"purpose\", \"purpose\", \"purpose\", \"purpose\", \"put\", \"put\", \"put\", \"put\", \"put\", \"put\", \"put\", \"put\", \"question\", \"question\", \"question\", \"question\", \"question\", \"question\", \"racist\", \"raise\", \"raise\", \"raise\", \"raise\", \"rape\", \"rape\", \"rape\", \"rapist\", \"rating\", \"re\", \"re\", \"read\", \"read\", \"read\", \"read\", \"read\", \"read\", \"read\", \"reality\", \"realization\", \"really\", \"really\", \"really\", \"really\", \"really\", \"really\", \"really\", \"red\", \"relationship\", \"relationship\", \"relationship\", \"remember\", \"remember\", \"remember\", \"remember\", \"remember\", \"remember\", \"rent\", \"rent\", \"reply\", \"report\", \"report\", \"report\", \"reporting\", \"respond\", \"respond\", \"respond\", \"response\", \"response\", \"response\", \"response\", \"response\", \"restaurant\", \"rlly\", \"rly\", \"romantic\", \"romantic\", \"room\", \"room\", \"room\", \"room\", \"room\", \"ruin\", \"ruin\", \"ruin\", \"s\", \"sad\", \"sad\", \"sam\", \"saturday\", \"saturday\", \"save\", \"save\", \"save\", \"save\", \"save\", \"save\", \"say\", \"say\", \"say\", \"say\", \"say\", \"say\", \"scare\", \"scare\", \"scare\", \"scare\", \"scared\", \"scared\", \"scared\", \"school\", \"screenshot\", \"seat\", \"seat\", \"seat\", \"see\", \"see\", \"see\", \"see\", \"see\", \"see\", \"see\", \"see\", \"seem\", \"seem\", \"seem\", \"seem\", \"seem\", \"seem\", \"seem\", \"seem\", \"self\", \"self_harme\", \"selfie\", \"semester\", \"send\", \"send\", \"send\", \"send\", \"send\", \"send\", \"senior\", \"severe\", \"severe\", \"sex\", \"sex_offender\", \"sexism\", \"sexual\", \"sexual_harassment\", \"sexuality\", \"sexually\", \"sexually_abuse\", \"sexually_abuse\", \"sexually_active\", \"sexually_assaulte\", \"sexually_harasse\", \"share\", \"share\", \"share\", \"share\", \"share\", \"share\", \"shave\", \"shed\", \"shed\", \"shed\", \"shed\", \"shell\", \"shell\", \"shell\", \"shell\", \"shirt\", \"shit\", \"shit\", \"shit\", \"shit\", \"shit\", \"shit\", \"shitty\", \"shitty\", \"shitty\", \"shopping\", \"show\", \"show\", \"show\", \"show\", \"show\", \"show\", \"show\", \"sible\", \"sibling\", \"simply\", \"simply\", \"simply\", \"simply\", \"simply\", \"simply\", \"sin\", \"sister\", \"sit\", \"sit\", \"sit\", \"sit\", \"sit\", \"size\", \"skin\", \"sleep\", \"sleep\", \"sleep\", \"smear\", \"smell\", \"smell\", \"smile\", \"smile\", \"smile\", \"smile\", \"smoke\", \"snapchat\", \"social\", \"social\", \"social\", \"social\", \"social_medium\", \"social_medium\", \"social_medium\", \"society\", \"son\", \"soooo\", \"sorry\", \"sorry\", \"sorry\", \"sorry\", \"soul\", \"soul\", \"speak\", \"speak\", \"speak\", \"speak\", \"speak\", \"speak\", \"speak\", \"spend\", \"spend\", \"spend\", \"spend\", \"spend\", \"spend\", \"spend\", \"stalk\", \"stalk\", \"stalker\", \"stand\", \"stand\", \"stand\", \"stand\", \"stand\", \"stand\", \"stand\", \"stare\", \"stare\", \"stare\", \"start\", \"start\", \"start\", \"start\", \"start\", \"start\", \"start\", \"start\", \"stay\", \"stay\", \"stay\", \"stay\", \"stay\", \"stay\", \"stepdad\", \"still\", \"still\", \"still\", \"still\", \"still\", \"still\", \"still\", \"stop\", \"stop\", \"stop\", \"stop\", \"stop\", \"story\", \"story\", \"story\", \"story\", \"story\", \"story\", \"story\", \"story\", \"stressed\", \"student\", \"study\", \"stupid\", \"stupid\", \"stupid\", \"stupid\", \"stupid\", \"stupid\", \"summer\", \"summer\", \"summer\", \"summer\", \"sunday\", \"sunday\", \"support\", \"support\", \"support\", \"support\", \"sure\", \"sure\", \"sure\", \"sure\", \"sure\", \"sure\", \"sure\", \"sure\", \"surgery\", \"surgery\", \"symptom\", \"take\", \"take\", \"take\", \"take\", \"take\", \"take\", \"take\", \"take\", \"talk\", \"talk\", \"talk\", \"tampon\", \"teacher\", \"tell\", \"tell\", \"tell\", \"tell\", \"tell\", \"tell\", \"temptation\", \"test\", \"test\", \"test\", \"test\", \"text\", \"text\", \"text\", \"texte\", \"texte\", \"texte\", \"thanksgive\", \"therapy\", \"therapy\", \"therapy\", \"thigh\", \"thing\", \"thing\", \"thing\", \"thing\", \"thing\", \"think\", \"think\", \"think\", \"think\", \"think\", \"think\", \"think\", \"think\", \"ticket\", \"time\", \"time\", \"time\", \"time\", \"time\", \"time\", \"time\", \"time\", \"tinder\", \"tired\", \"tired\", \"tired\", \"tired\", \"tired\", \"together\", \"together\", \"together\", \"together\", \"tolerance\", \"tom\", \"touch\", \"touch\", \"touch\", \"touch\", \"touch\", \"treatment\", \"trip\", \"trip\", \"trip\", \"trip\", \"troll\", \"truly\", \"truly\", \"try\", \"try\", \"try\", \"try\", \"try\", \"try\", \"try\", \"try\", \"twitter\", \"uber\", \"ultrasound\", \"uncle\", \"uncomfortable\", \"uncomfortable\", \"uncomfortable\", \"uncomfortable\", \"underwear\", \"uni\", \"uni\", \"uni\", \"universe\", \"university\", \"use\", \"use\", \"use\", \"use\", \"use\", \"use\", \"use\", \"use\", \"use\", \"uterus\", \"vagina\", \"vagina\", \"valuable\", \"value\", \"value\", \"van\", \"ve\", \"video\", \"video\", \"virgin\", \"virginity\", \"void\", \"wake\", \"wake\", \"wake\", \"wake\", \"walk\", \"walk\", \"walk\", \"walk\", \"walk\", \"wanna\", \"wanna\", \"wanna\", \"want\", \"want\", \"want\", \"want\", \"want\", \"want\", \"want\", \"way\", \"way\", \"way\", \"way\", \"way\", \"way\", \"way\", \"way\", \"way\", \"we\", \"wear\", \"week\", \"week\", \"week\", \"week\", \"week\", \"weekend\", \"weekend\", \"weekend\", \"weekend\", \"weight\", \"weight\", \"weight\", \"weight\", \"weight\", \"well\", \"well\", \"well\", \"well\", \"well\", \"well\", \"wife\", \"wife\", \"wife\", \"wig\", \"woman\", \"woman\", \"woman\", \"woman\", \"woman\", \"woman\", \"work\", \"work\", \"work\", \"work\", \"work\", \"work\", \"work\", \"world\", \"worried\", \"worried\", \"worried\", \"worried\", \"worried\", \"worried\", \"worthy\", \"write\", \"write\", \"write\", \"write\", \"write\", \"year\", \"year\", \"year\", \"year\", \"year\", \"year\", \"year\", \"young\", \"young\", \"young\", \"young\", \"young\", \"young\", \"young\"]}, \"R\": 30, \"lambda.step\": 0.01, \"plot.opts\": {\"xlab\": \"PC1\", \"ylab\": \"PC2\"}, \"topic.order\": [9, 5, 8, 3, 4, 2, 10, 6, 7, 1]};\n",
       "\n",
       "function LDAvis_load_lib(url, callback){\n",
       "  var s = document.createElement('script');\n",
       "  s.src = url;\n",
       "  s.async = true;\n",
       "  s.onreadystatechange = s.onload = callback;\n",
       "  s.onerror = function(){console.warn(\"failed to load library \" + url);};\n",
       "  document.getElementsByTagName(\"head\")[0].appendChild(s);\n",
       "}\n",
       "\n",
       "if(typeof(LDAvis) !== \"undefined\"){\n",
       "   // already loaded: just create the visualization\n",
       "   !function(LDAvis){\n",
       "       new LDAvis(\"#\" + \"ldavis_el1000831416285978567804784198\", ldavis_el1000831416285978567804784198_data);\n",
       "   }(LDAvis);\n",
       "}else if(typeof define === \"function\" && define.amd){\n",
       "   // require.js is available: use it to load d3/LDAvis\n",
       "   require.config({paths: {d3: \"https://d3js.org/d3.v5\"}});\n",
       "   require([\"d3\"], function(d3){\n",
       "      window.d3 = d3;\n",
       "      LDAvis_load_lib(\"https://cdn.jsdelivr.net/gh/bmabey/pyLDAvis@3.3.1/pyLDAvis/js/ldavis.v3.0.0.js\", function(){\n",
       "        new LDAvis(\"#\" + \"ldavis_el1000831416285978567804784198\", ldavis_el1000831416285978567804784198_data);\n",
       "      });\n",
       "    });\n",
       "}else{\n",
       "    // require.js not available: dynamically load d3 & LDAvis\n",
       "    LDAvis_load_lib(\"https://d3js.org/d3.v5.js\", function(){\n",
       "         LDAvis_load_lib(\"https://cdn.jsdelivr.net/gh/bmabey/pyLDAvis@3.3.1/pyLDAvis/js/ldavis.v3.0.0.js\", function(){\n",
       "                 new LDAvis(\"#\" + \"ldavis_el1000831416285978567804784198\", ldavis_el1000831416285978567804784198_data);\n",
       "            })\n",
       "         });\n",
       "}\n",
       "</script>"
      ],
      "text/plain": [
       "PreparedData(topic_coordinates=              x         y  topics  cluster       Freq\n",
       "topic                                                \n",
       "8     -0.091592  0.134048       1        1  37.346715\n",
       "4     -0.103125  0.071029       2        1  15.844471\n",
       "7     -0.118476 -0.025963       3        1   9.822665\n",
       "2     -0.097156  0.034924       4        1   9.626082\n",
       "3     -0.081646  0.009438       5        1   8.213032\n",
       "1      0.028059 -0.183564       6        1   5.461265\n",
       "9     -0.067666  0.105510       7        1   4.459331\n",
       "5     -0.046249  0.059985       8        1   4.176752\n",
       "6      0.475882  0.151638       9        1   2.849826\n",
       "0      0.101969 -0.357044      10        1   2.199860, topic_info=      Term           Freq          Total Category  logprob  loglift\n",
       "44      do  206877.000000  206877.000000  Default  30.0000  30.0000\n",
       "92       m  143722.000000  143722.000000  Default  29.0000  29.0000\n",
       "127    say  148098.000000  148098.000000  Default  28.0000  28.0000\n",
       "152   tell  128857.000000  128857.000000  Default  27.0000  27.0000\n",
       "508     ve   60181.000000   60181.000000  Default  26.0000  26.0000\n",
       "..     ...            ...            ...      ...      ...      ...\n",
       "140  start    3353.476342   80889.918963  Topic10  -4.6885   0.6337\n",
       "697    old    2554.196853   39379.996531  Topic10  -4.9608   1.0813\n",
       "669    kid    2183.517571   33067.204371  Topic10  -5.1176   1.0992\n",
       "67      go    2133.419624  226621.975963  Topic10  -5.1408  -0.8488\n",
       "236  group    1914.419709   10447.435804  Topic10  -5.2491   2.1198\n",
       "\n",
       "[720 rows x 6 columns], token_table=      Topic      Freq   Term\n",
       "term                        \n",
       "1066      1  0.405507   able\n",
       "1066      2  0.265462   able\n",
       "1066      3  0.321396   able\n",
       "1066      5  0.007595   able\n",
       "2516      1  0.161539  abuse\n",
       "...     ...       ...    ...\n",
       "1461      4  0.154890  young\n",
       "1461      6  0.626304  young\n",
       "1461      8  0.013488  young\n",
       "1461      9  0.004251  young\n",
       "1461     10  0.053500  young\n",
       "\n",
       "[1789 rows x 3 columns], R=30, lambda_step=0.01, plot_opts={'xlab': 'PC1', 'ylab': 'PC2'}, topic_order=[9, 5, 8, 3, 4, 2, 10, 6, 7, 1])"
      ]
     },
     "execution_count": 193,
     "metadata": {},
     "output_type": "execute_result"
    }
   ],
   "source": [
    "pyLDAvis.enable_notebook()\n",
    "vis = pyLDAvis.gensim_models.prepare(lda_model, corpus, id2word)\n",
    "vis"
   ]
  },
  {
   "cell_type": "markdown",
   "metadata": {},
   "source": [
    "## Clustering"
   ]
  },
  {
   "cell_type": "code",
   "execution_count": 97,
   "metadata": {},
   "outputs": [],
   "source": [
    "le = preprocessing.LabelEncoder().fit(y)"
   ]
  },
  {
   "cell_type": "markdown",
   "metadata": {},
   "source": [
    "### Kmeans-fasttext"
   ]
  },
  {
   "cell_type": "code",
   "execution_count": 67,
   "metadata": {
    "ExecuteTime": {
     "end_time": "2021-01-13T10:49:33.994418Z",
     "start_time": "2021-01-13T10:49:25.948513Z"
    }
   },
   "outputs": [
    {
     "name": "stdout",
     "output_type": "stream",
     "text": [
      "Wall time: 23.3 s\n"
     ]
    },
    {
     "data": {
      "text/plain": [
       "-0.0012596864771117007"
      ]
     },
     "execution_count": 67,
     "metadata": {},
     "output_type": "execute_result"
    }
   ],
   "source": [
    "%%time\n",
    "kmeans = KMeans(n_clusters=10).fit(X)\n",
    "metrics.adjusted_rand_score(kmeans.predict(X), le.transform(y))"
   ]
  },
  {
   "cell_type": "markdown",
   "metadata": {},
   "source": [
    "### Kmeans-tfifd"
   ]
  },
  {
   "cell_type": "code",
   "execution_count": 68,
   "metadata": {
    "ExecuteTime": {
     "end_time": "2021-01-13T10:50:19.333897Z",
     "start_time": "2021-01-13T10:49:36.423310Z"
    }
   },
   "outputs": [
    {
     "data": {
      "text/plain": [
       "0.6672182413997408"
      ]
     },
     "execution_count": 68,
     "metadata": {},
     "output_type": "execute_result"
    }
   ],
   "source": [
    "%%time\n",
    "km_tfidf=KMeans(n_clusters=10).fit(X_tf_idf)\n",
    "metrics.adjusted_rand_score(km_tfidf.predict(X_tf_idf), le.transform(df_oh['target']))"
   ]
  },
  {
   "cell_type": "markdown",
   "metadata": {},
   "source": [
    "### MiniBatchKMeans"
   ]
  },
  {
   "cell_type": "code",
   "execution_count": 118,
   "metadata": {},
   "outputs": [
    {
     "name": "stdout",
     "output_type": "stream",
     "text": [
      "Wall time: 9 s\n"
     ]
    },
    {
     "data": {
      "text/plain": [
       "0.5033175641491212"
      ]
     },
     "execution_count": 118,
     "metadata": {},
     "output_type": "execute_result"
    }
   ],
   "source": [
    "%%time\n",
    "model = MiniBatchKMeans(n_clusters=10)\n",
    "model.fit(X_tf_idf)\n",
    "metrics.adjusted_rand_score(model.predict(X_tf_idf), le.transform(y))"
   ]
  }
 ],
 "metadata": {
  "kernelspec": {
   "display_name": "Python 3",
   "language": "python",
   "name": "python3"
  },
  "language_info": {
   "codemirror_mode": {
    "name": "ipython",
    "version": 3
   },
   "file_extension": ".py",
   "mimetype": "text/x-python",
   "name": "python",
   "nbconvert_exporter": "python",
   "pygments_lexer": "ipython3",
   "version": "3.8.6"
  }
 },
 "nbformat": 4,
 "nbformat_minor": 4
}
